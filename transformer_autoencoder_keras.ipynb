{
  "nbformat": 4,
  "nbformat_minor": 0,
  "metadata": {
    "colab": {
      "name": "transformer autoencoder_keras.ipynb",
      "provenance": [],
      "collapsed_sections": [],
      "authorship_tag": "ABX9TyM5C/YUA9zixQipV57Vx3sj",
      "include_colab_link": true
    },
    "kernelspec": {
      "name": "python3",
      "display_name": "Python 3"
    },
    "language_info": {
      "name": "python"
    },
    "accelerator": "GPU"
  },
  "cells": [
    {
      "cell_type": "markdown",
      "metadata": {
        "id": "view-in-github",
        "colab_type": "text"
      },
      "source": [
        "<a href=\"https://colab.research.google.com/github/tolom131/Human-Activity-Recognition/blob/main/transformer_autoencoder_keras.ipynb\" target=\"_parent\"><img src=\"https://colab.research.google.com/assets/colab-badge.svg\" alt=\"Open In Colab\"/></a>"
      ]
    },
    {
      "cell_type": "code",
      "metadata": {
        "id": "i5s9FOs7OKyE"
      },
      "source": [
        "from __future__ import print_function\n",
        "from matplotlib import pyplot as plt\n",
        "import numpy as np\n",
        "\n",
        "from sklearn import preprocessing\n",
        "from sklearn.metrics import mean_squared_error, confusion_matrix, f1_score\n",
        "from sklearn.model_selection import train_test_split\n",
        "\n",
        "from tensorflow import keras\n",
        "import tensorflow as tf\n",
        "from tensorflow.keras.models import Sequential, Model, load_model\n",
        "from tensorflow.keras.layers import Dense, Input, Dropout, BatchNormalization, LSTM, Conv1D, Activation, MaxPooling1D, UpSampling1D, concatenate\n",
        "\n",
        "from tensorflow.keras import layers\n",
        "\n",
        "from tensorflow.keras.utils import to_categorical\n",
        "from tensorflow.keras.callbacks import ModelCheckpoint, EarlyStopping\n",
        "from tensorflow.keras.optimizers import Adam\n",
        "from tensorflow.keras import initializers\n",
        "from tensorflow.keras import backend as K\n",
        "\n",
        "import random as rn\n",
        "from resource import *\n",
        "import time\n",
        "import math\n",
        "import sys\n",
        "from collections import Counter"
      ],
      "execution_count": 60,
      "outputs": []
    },
    {
      "cell_type": "code",
      "metadata": {
        "id": "65m2C00d4uNJ",
        "colab": {
          "base_uri": "https://localhost:8080/"
        },
        "outputId": "23ccfc76-6999-4a61-bb1e-44ace18ca7c9"
      },
      "source": [
        "from google.colab import drive \n",
        "drive.mount('/content/drive/')\n",
        "\n",
        "directory_data  = './drive/MyDrive/HAR/'\n",
        "filename_data   = 'WISDM_at_v2.0_raw.txt'\n",
        " \n",
        "sys.path.append('/content/drive/MyDrive/HAR/')\n",
        "import wisdm_1_1\n",
        "import wisdm_2_0\n",
        "# x_train, y_train, num_classes = wisdm_1_1.create_wisdm_1_1(directory_data + filename_data)\n",
        "original_x, original_y, num_classes = wisdm_2_0.create_wisdm_2_0(directory_data + filename_data)"
      ],
      "execution_count": 61,
      "outputs": [
        {
          "output_type": "stream",
          "name": "stdout",
          "text": [
            "Drive already mounted at /content/drive/; to attempt to forcibly remount, call drive.mount(\"/content/drive/\", force_remount=True).\n"
          ]
        },
        {
          "output_type": "stream",
          "name": "stderr",
          "text": [
            "/usr/local/lib/python3.7/dist-packages/IPython/core/interactiveshell.py:2882: DtypeWarning: Columns (2) have mixed types.Specify dtype option on import or set low_memory=False.\n",
            "  exec(code_obj, self.user_global_ns, self.user_ns)\n"
          ]
        },
        {
          "output_type": "stream",
          "name": "stdout",
          "text": [
            "x_train.shape :  (14423, 200, 3) y_train.shape:  (14423, 6)\n"
          ]
        }
      ]
    },
    {
      "cell_type": "code",
      "metadata": {
        "id": "YMZZNYPfIcoi"
      },
      "source": [
        "def ConvolutionalBlock(dim_shape, filters=128, is_encoder=True):\n",
        "    initializer = initializers.GlorotNormal()\n",
        "\n",
        "    # is_encoder : \"encoder\" means that layers is part of encoder, else part of decoder\n",
        "    if is_encoder:\n",
        "        out_filter = filters * 2\n",
        "    else:\n",
        "        out_filters = int(filters / 2)\n",
        "\n",
        "    inputs = Input(shape=dim_shape)\n",
        "    x = Conv1D(filters=filters, kernel_size=3, padding=\"same\", kernel_initializer=initializer)(inputs)\n",
        "    x = BatchNormalization()(x)\n",
        "    x = Activation(\"relu\")(x)\n",
        "    if is_encoder:\n",
        "        x = Conv1D(filters=filters * 2, kernel_size=3, strides=2, padding=\"same\", kernel_initializer=initializer)(x)\n",
        "        outputs = Activation(\"relu\")(x)\n",
        "    else:\n",
        "        x = Conv1D(filters=filters // 2, kernel_size=3, strides=1, padding=\"same\", kernel_initializer=initializer)(x)\n",
        "        x = Activation(\"relu\")(x)\n",
        "        outputs = UpSampling1D()(x)\n",
        "\n",
        "    model = Model(inputs, outputs)\n",
        "    return model\n",
        "\n",
        "def MultiheadBlock(dim_shape, filters=128):\n",
        "    initializer = initializers.GlorotNormal()\n",
        "\n",
        "    inputs = keras.Input(shape=dim_shape)\n",
        "    x = layers.MultiHeadAttention(key_dim=512, num_heads=8)(inputs, inputs)\n",
        "    x = x + inputs\n",
        "\n",
        "    x = BatchNormalization()(x)\n",
        "    x = Conv1D(filters, kernel_size=3, padding=\"same\", kernel_initializer=initializer)(x)\n",
        "    outputs = Activation(\"relu\")(x)\n",
        "\n",
        "    model = Model(inputs, outputs)\n",
        "    return model\n",
        "\n",
        "def Transformer_Autoencoder(x_train, y_train, x_val, y_val, alpha=0.1):\n",
        "\n",
        "    ########################################################################\n",
        "    # functions\n",
        "    ########################################################################\n",
        "    earlystop = EarlyStopping(patience=100, monitor='val_loss', mode='min', restore_best_weights=True)\n",
        "    callbacks_list = [earlystop]\n",
        "    initializer = initializers.GlorotNormal()\n",
        "    adam = Adam(learning_rate=0.01)\n",
        "\n",
        "    ########################################################################\n",
        "    # encoder\n",
        "    ########################################################################\n",
        "    inputs = Input(shape=(200, 3))\n",
        "    x = ConvolutionalBlock((200, 3), filters=64, is_encoder=True)(inputs)\n",
        "    x = MultiheadBlock((100, 128), 128)(x)\n",
        "    x = ConvolutionalBlock((100, 128), filters=128, is_encoder=True)(x)\n",
        "    x = MultiheadBlock((50, 256), 256)(x)\n",
        "    encoded = ConvolutionalBlock((50, 256), filters=256, is_encoder=True)(x)\n",
        "\n",
        "    ########################################################################\n",
        "    # decoder\n",
        "    ######################################################################## \n",
        "    x = ConvolutionalBlock((25, 512), 512, is_encoder=False)(encoded)\n",
        "    x = MultiheadBlock((50, 256), 256)(x)\n",
        "    x = ConvolutionalBlock((50, 256), filters=256, is_encoder=False)(x)\n",
        "    x = MultiheadBlock((100, 128), 128)(x)\n",
        "    x = ConvolutionalBlock((100, 128), filters=128, is_encoder=False)(x)\n",
        "    decoded = Conv1D(3, kernel_size=3, padding=\"same\", name=\"decoded\", kernel_initializer=initializers.GlorotNormal())(x)\n",
        "\n",
        "    ########################################################################\n",
        "    # classifier\n",
        "    ########################################################################\n",
        "    x = Conv1D(filters=64, kernel_size=3, input_shape=(25, 512), kernel_initializer=initializer)(encoded)\n",
        "    x = BatchNormalization()(x)\n",
        "    x = Activation(\"relu\")(x)\n",
        "    x = Conv1D(filters=128, kernel_size=3, kernel_initializer=initializer)(x)\n",
        "    x = BatchNormalization()(x)\n",
        "    x = Activation(\"relu\")(x)\n",
        "    x = LSTM(128, kernel_initializer=initializer)(x)\n",
        "    classified = Dense(num_classes, activation=\"softmax\", name=\"classified\", kernel_initializer=initializer)(x)\n",
        "\n",
        "    ########################################################################\n",
        "    # model\n",
        "    ########################################################################\n",
        "    model = Model(inputs=[inputs], outputs=[classified, decoded])\n",
        "    model.compile(optimizer=adam, loss=[\"categorical_crossentropy\", \"mse\"], loss_weights=[alpha, 1-alpha], metrics=[\"accuracy\"])\n",
        "    history = model.fit([x_train], [y_train, x_train], validation_data = ([x_val], [y_val, x_val]), batch_size = 128, epochs=700, verbose=1, callbacks = callbacks_list)\n",
        "\n",
        "    return history, model"
      ],
      "execution_count": 68,
      "outputs": []
    },
    {
      "cell_type": "code",
      "metadata": {
        "id": "IJPL-iFxMUZP",
        "colab": {
          "base_uri": "https://localhost:8080/"
        },
        "outputId": "f98313e7-d9bc-4cd2-8dc1-bc037964f725"
      },
      "source": [
        "# 80%, 10%, 10%로 set 나누기\n",
        "x_train, x_val, y_train, y_val = train_test_split(origianl_x, original_y, test_size=0.2, stratify=original_y)\n",
        "x_val, x_test, y_val, y_test = train_test_split(x_val, y_val, test_size=0.5, stratify=y_val)\n",
        "\n",
        "history, model = Transformer_Autoencoder(x_train, y_train, x_val, y_val)"
      ],
      "execution_count": null,
      "outputs": [
        {
          "output_type": "stream",
          "name": "stdout",
          "text": [
            "Epoch 1/700\n",
            "91/91 [==============================] - 35s 305ms/step - loss: 0.4414 - classified_loss: 1.2814 - conv1d_378_loss: 0.3481 - classified_accuracy: 0.5358 - conv1d_378_accuracy: 0.4541 - val_loss: 0.3482 - val_classified_loss: 2.6986 - val_conv1d_378_loss: 0.0870 - val_classified_accuracy: 0.1519 - val_conv1d_378_accuracy: 0.4824\n",
            "Epoch 2/700\n",
            "91/91 [==============================] - 26s 287ms/step - loss: 0.1748 - classified_loss: 0.9479 - conv1d_378_loss: 0.0889 - classified_accuracy: 0.6652 - conv1d_378_accuracy: 0.4663 - val_loss: 0.2967 - val_classified_loss: 2.1840 - val_conv1d_378_loss: 0.0870 - val_classified_accuracy: 0.2954 - val_conv1d_378_accuracy: 0.4824\n",
            "Epoch 3/700\n",
            "91/91 [==============================] - 26s 286ms/step - loss: 0.1623 - classified_loss: 0.8235 - conv1d_378_loss: 0.0888 - classified_accuracy: 0.7031 - conv1d_378_accuracy: 0.4663 - val_loss: 0.2147 - val_classified_loss: 1.3635 - val_conv1d_378_loss: 0.0870 - val_classified_accuracy: 0.4723 - val_conv1d_378_accuracy: 0.4824\n",
            "Epoch 4/700\n",
            "91/91 [==============================] - 26s 286ms/step - loss: 0.1606 - classified_loss: 0.8065 - conv1d_378_loss: 0.0889 - classified_accuracy: 0.7011 - conv1d_378_accuracy: 0.4663 - val_loss: 0.1627 - val_classified_loss: 0.8439 - val_conv1d_378_loss: 0.0870 - val_classified_accuracy: 0.7067 - val_conv1d_378_accuracy: 0.4824\n",
            "Epoch 5/700\n",
            "91/91 [==============================] - 26s 285ms/step - loss: 0.1585 - classified_loss: 0.7849 - conv1d_378_loss: 0.0889 - classified_accuracy: 0.7249 - conv1d_378_accuracy: 0.4663 - val_loss: 0.1995 - val_classified_loss: 1.2122 - val_conv1d_378_loss: 0.0869 - val_classified_accuracy: 0.5395 - val_conv1d_378_accuracy: 0.4824\n",
            "Epoch 6/700\n",
            "91/91 [==============================] - 26s 286ms/step - loss: 0.1550 - classified_loss: 0.7506 - conv1d_378_loss: 0.0889 - classified_accuracy: 0.7348 - conv1d_378_accuracy: 0.4663 - val_loss: 0.1571 - val_classified_loss: 0.7878 - val_conv1d_378_loss: 0.0870 - val_classified_accuracy: 0.7184 - val_conv1d_378_accuracy: 0.4824\n",
            "Epoch 7/700\n",
            "91/91 [==============================] - 26s 286ms/step - loss: 0.1565 - classified_loss: 0.7655 - conv1d_378_loss: 0.0889 - classified_accuracy: 0.7266 - conv1d_378_accuracy: 0.4663 - val_loss: 0.1538 - val_classified_loss: 0.7547 - val_conv1d_378_loss: 0.0870 - val_classified_accuracy: 0.7233 - val_conv1d_378_accuracy: 0.4824\n",
            "Epoch 8/700\n",
            "91/91 [==============================] - 26s 285ms/step - loss: 0.1521 - classified_loss: 0.7216 - conv1d_378_loss: 0.0889 - classified_accuracy: 0.7405 - conv1d_378_accuracy: 0.4663 - val_loss: 0.1658 - val_classified_loss: 0.8745 - val_conv1d_378_loss: 0.0870 - val_classified_accuracy: 0.6865 - val_conv1d_378_accuracy: 0.4824\n",
            "Epoch 9/700\n",
            "91/91 [==============================] - 26s 285ms/step - loss: 0.1517 - classified_loss: 0.7168 - conv1d_378_loss: 0.0889 - classified_accuracy: 0.7396 - conv1d_378_accuracy: 0.4663 - val_loss: 0.1623 - val_classified_loss: 0.8405 - val_conv1d_378_loss: 0.0870 - val_classified_accuracy: 0.7018 - val_conv1d_378_accuracy: 0.4824\n",
            "Epoch 10/700\n",
            "91/91 [==============================] - 26s 285ms/step - loss: 0.1550 - classified_loss: 0.7505 - conv1d_378_loss: 0.0889 - classified_accuracy: 0.7300 - conv1d_378_accuracy: 0.4663 - val_loss: 0.1709 - val_classified_loss: 0.9253 - val_conv1d_378_loss: 0.0871 - val_classified_accuracy: 0.6519 - val_conv1d_378_accuracy: 0.4824\n",
            "Epoch 11/700\n",
            "91/91 [==============================] - 26s 285ms/step - loss: 0.1531 - classified_loss: 0.7304 - conv1d_378_loss: 0.0889 - classified_accuracy: 0.7337 - conv1d_378_accuracy: 0.4663 - val_loss: 0.1572 - val_classified_loss: 0.7887 - val_conv1d_378_loss: 0.0870 - val_classified_accuracy: 0.7254 - val_conv1d_378_accuracy: 0.4824\n",
            "Epoch 12/700\n",
            "91/91 [==============================] - 26s 285ms/step - loss: 0.1530 - classified_loss: 0.7301 - conv1d_378_loss: 0.0889 - classified_accuracy: 0.7332 - conv1d_378_accuracy: 0.4663 - val_loss: 0.1588 - val_classified_loss: 0.8043 - val_conv1d_378_loss: 0.0871 - val_classified_accuracy: 0.7302 - val_conv1d_378_accuracy: 0.4824\n",
            "Epoch 13/700\n",
            "91/91 [==============================] - 26s 286ms/step - loss: 0.1544 - classified_loss: 0.7444 - conv1d_378_loss: 0.0889 - classified_accuracy: 0.7267 - conv1d_378_accuracy: 0.4663 - val_loss: 0.1510 - val_classified_loss: 0.7257 - val_conv1d_378_loss: 0.0871 - val_classified_accuracy: 0.7268 - val_conv1d_378_accuracy: 0.4824\n",
            "Epoch 14/700\n",
            "91/91 [==============================] - 26s 285ms/step - loss: 0.1506 - classified_loss: 0.7058 - conv1d_378_loss: 0.0889 - classified_accuracy: 0.7403 - conv1d_378_accuracy: 0.4663 - val_loss: 0.1571 - val_classified_loss: 0.7876 - val_conv1d_378_loss: 0.0870 - val_classified_accuracy: 0.7150 - val_conv1d_378_accuracy: 0.4824\n",
            "Epoch 15/700\n",
            "91/91 [==============================] - 26s 285ms/step - loss: 0.1539 - classified_loss: 0.7385 - conv1d_378_loss: 0.0889 - classified_accuracy: 0.7283 - conv1d_378_accuracy: 0.4663 - val_loss: 0.1591 - val_classified_loss: 0.8086 - val_conv1d_378_loss: 0.0869 - val_classified_accuracy: 0.7309 - val_conv1d_378_accuracy: 0.4824\n",
            "Epoch 16/700\n",
            "91/91 [==============================] - 26s 286ms/step - loss: 0.1530 - classified_loss: 0.7305 - conv1d_378_loss: 0.0889 - classified_accuracy: 0.7326 - conv1d_378_accuracy: 0.4663 - val_loss: 0.1694 - val_classified_loss: 0.9111 - val_conv1d_378_loss: 0.0870 - val_classified_accuracy: 0.6533 - val_conv1d_378_accuracy: 0.4824\n",
            "Epoch 17/700\n",
            "91/91 [==============================] - 26s 288ms/step - loss: 0.1540 - classified_loss: 0.7397 - conv1d_378_loss: 0.0889 - classified_accuracy: 0.7228 - conv1d_378_accuracy: 0.4663 - val_loss: 0.1626 - val_classified_loss: 0.8435 - val_conv1d_378_loss: 0.0869 - val_classified_accuracy: 0.6963 - val_conv1d_378_accuracy: 0.4824\n",
            "Epoch 18/700\n",
            "91/91 [==============================] - 26s 285ms/step - loss: 0.1515 - classified_loss: 0.7150 - conv1d_378_loss: 0.0889 - classified_accuracy: 0.7338 - conv1d_378_accuracy: 0.4663 - val_loss: 0.1749 - val_classified_loss: 0.9660 - val_conv1d_378_loss: 0.0870 - val_classified_accuracy: 0.6436 - val_conv1d_378_accuracy: 0.4824\n",
            "Epoch 19/700\n",
            "48/91 [==============>...............] - ETA: 11s - loss: 0.1536 - classified_loss: 0.7348 - conv1d_378_loss: 0.0891 - classified_accuracy: 0.7329 - conv1d_378_accuracy: 0.4713"
          ]
        }
      ]
    },
    {
      "cell_type": "code",
      "metadata": {
        "id": "4KEuvPpahrQo"
      },
      "source": [
        "test_results = model.evaluate(x_test, y_test)\n",
        "\n",
        "print(\"maximum train acc : \", max(history.history[\"accuracy\"]))\n",
        "print(\"maximum valid acc : \", max(history.history[\"val_accuracy\"]))\n",
        "print(\"test acc : \", test_results[1])\n",
        "print(\"test loss : \", test_results[0])\n",
        "\n",
        "\n",
        "y_pred = model.predict([x_test])\n",
        "score = f1_score(y_test.argmax(axis=1), y_pred.argmax(axis=1), average=\"macro\")\n",
        "print(\"f1 score : \", score)\n",
        "matrix = confusion_matrix(y_test.argmax(axis=1), y_pred.argmax(axis=1))\n",
        "print(matrix)\n",
        "\n",
        "label = [\"Jogging\", \"LyingDown\", \"Sitting\", \"Stairs\", \"Stading\", \"Walking\"]\n",
        "fig = plt.figure()\n",
        "ax = fig.add_subplot(111)\n",
        "cax = ax.matshow(matrix, interpolation=\"nearest\")\n",
        "fig.colorbar(cax)\n",
        "ax.set_xticklabels(['']+label)\n",
        "ax.set_yticklabels(['']+label)\n",
        "plt.show()"
      ],
      "execution_count": null,
      "outputs": []
    }
  ]
}