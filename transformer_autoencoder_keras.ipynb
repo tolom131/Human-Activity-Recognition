{
  "nbformat": 4,
  "nbformat_minor": 0,
  "metadata": {
    "colab": {
      "name": "transformer autoencoder_keras.ipynb",
      "provenance": [],
      "collapsed_sections": [],
      "authorship_tag": "ABX9TyNf+ChXy5AQ8aVtNzSnM0zY",
      "include_colab_link": true
    },
    "kernelspec": {
      "name": "python3",
      "display_name": "Python 3"
    },
    "language_info": {
      "name": "python"
    },
    "accelerator": "GPU"
  },
  "cells": [
    {
      "cell_type": "markdown",
      "metadata": {
        "id": "view-in-github",
        "colab_type": "text"
      },
      "source": [
        "<a href=\"https://colab.research.google.com/github/tolom131/Human-Activity-Recognition/blob/main/transformer_autoencoder_keras.ipynb\" target=\"_parent\"><img src=\"https://colab.research.google.com/assets/colab-badge.svg\" alt=\"Open In Colab\"/></a>"
      ]
    },
    {
      "cell_type": "code",
      "metadata": {
        "id": "i5s9FOs7OKyE"
      },
      "source": [
        "from __future__ import print_function\n",
        "from matplotlib import pyplot as plt\n",
        "import numpy as np\n",
        "\n",
        "from sklearn import preprocessing\n",
        "from sklearn.metrics import mean_squared_error, confusion_matrix, f1_score\n",
        "from sklearn.model_selection import train_test_split\n",
        "\n",
        "from tensorflow import keras\n",
        "import tensorflow as tf\n",
        "from tensorflow.keras.models import Sequential, Model, load_model\n",
        "from tensorflow.keras.layers import Dense, Input, Dropout, BatchNormalization, LSTM, Conv1D, Activation, MaxPooling1D, UpSampling1D, concatenate\n",
        "\n",
        "from tensorflow.keras import layers\n",
        "\n",
        "from tensorflow.keras.utils import to_categorical\n",
        "from tensorflow.keras.callbacks import ModelCheckpoint, EarlyStopping\n",
        "from tensorflow.keras.optimizers import Adam\n",
        "from tensorflow.keras import initializers\n",
        "from tensorflow.keras import backend as K\n",
        "\n",
        "import random as rn\n",
        "from resource import *\n",
        "import time\n",
        "import math\n",
        "import sys\n",
        "from collections import Counter"
      ],
      "execution_count": 60,
      "outputs": []
    },
    {
      "cell_type": "code",
      "metadata": {
        "id": "65m2C00d4uNJ",
        "colab": {
          "base_uri": "https://localhost:8080/"
        },
        "outputId": "23ccfc76-6999-4a61-bb1e-44ace18ca7c9"
      },
      "source": [
        "from google.colab import drive \n",
        "drive.mount('/content/drive/')\n",
        "\n",
        "directory_data  = './drive/MyDrive/HAR/'\n",
        "filename_data   = 'WISDM_at_v2.0_raw.txt'\n",
        " \n",
        "sys.path.append('/content/drive/MyDrive/HAR/')\n",
        "import wisdm_1_1\n",
        "import wisdm_2_0\n",
        "# x_train, y_train, num_classes = wisdm_1_1.create_wisdm_1_1(directory_data + filename_data)\n",
        "original_x, original_y, num_classes = wisdm_2_0.create_wisdm_2_0(directory_data + filename_data)"
      ],
      "execution_count": 61,
      "outputs": [
        {
          "output_type": "stream",
          "name": "stdout",
          "text": [
            "Drive already mounted at /content/drive/; to attempt to forcibly remount, call drive.mount(\"/content/drive/\", force_remount=True).\n"
          ]
        },
        {
          "output_type": "stream",
          "name": "stderr",
          "text": [
            "/usr/local/lib/python3.7/dist-packages/IPython/core/interactiveshell.py:2882: DtypeWarning: Columns (2) have mixed types.Specify dtype option on import or set low_memory=False.\n",
            "  exec(code_obj, self.user_global_ns, self.user_ns)\n"
          ]
        },
        {
          "output_type": "stream",
          "name": "stdout",
          "text": [
            "x_train.shape :  (14423, 200, 3) y_train.shape:  (14423, 6)\n"
          ]
        }
      ]
    },
    {
      "cell_type": "code",
      "metadata": {
        "id": "YMZZNYPfIcoi"
      },
      "source": [
        "def ConvolutionalBlock(dim_shape, filters=128, is_encoder=True):\n",
        "    initializer = initializers.GlorotNormal()\n",
        "\n",
        "    # is_encoder : \"encoder\" means that layers is part of encoder, else part of decoder\n",
        "    if is_encoder:\n",
        "        out_filter = filters * 2\n",
        "    else:\n",
        "        out_filters = int(filters / 2)\n",
        "\n",
        "    inputs = Input(shape=dim_shape)\n",
        "    x = Conv1D(filters=filters, kernel_size=3, padding=\"same\", kernel_initializer=initializer)(inputs)\n",
        "    x = BatchNormalization()(x)\n",
        "    x = Activation(\"relu\")(x)\n",
        "    if is_encoder:\n",
        "        x = Conv1D(filters=filters * 2, kernel_size=3, strides=2, padding=\"same\", kernel_initializer=initializer)(x)\n",
        "        outputs = Activation(\"relu\")(x)\n",
        "    else:\n",
        "        x = Conv1D(filters=filters // 2, kernel_size=3, strides=1, padding=\"same\", kernel_initializer=initializer)(x)\n",
        "        x = Activation(\"relu\")(x)\n",
        "        outputs = UpSampling1D()(x)\n",
        "\n",
        "    model = Model(inputs, outputs)\n",
        "    return model\n",
        "\n",
        "def MultiheadBlock(dim_shape, filters=128):\n",
        "    initializer = initializers.GlorotNormal()\n",
        "\n",
        "    inputs = keras.Input(shape=dim_shape)\n",
        "    x = layers.MultiHeadAttention(key_dim=512, num_heads=8)(inputs, inputs)\n",
        "    x = x + inputs\n",
        "\n",
        "    x = BatchNormalization()(x)\n",
        "    x = Conv1D(filters, kernel_size=3, padding=\"same\", kernel_initializer=initializer)(x)\n",
        "    outputs = Activation(\"relu\")(x)\n",
        "\n",
        "    model = Model(inputs, outputs)\n",
        "    return model\n",
        "\n",
        "def Transformer_Autoencoder(x_train, y_train, x_val, y_val, alpha=0.1):\n",
        "\n",
        "    ########################################################################\n",
        "    # functions\n",
        "    ########################################################################\n",
        "    earlystop = EarlyStopping(patience=100, monitor='val_loss', mode='min', restore_best_weights=True)\n",
        "    callbacks_list = [earlystop]\n",
        "    initializer = initializers.GlorotNormal()\n",
        "    adam = Adam(learning_rate=0.01)\n",
        "\n",
        "    ########################################################################\n",
        "    # encoder\n",
        "    ########################################################################\n",
        "    inputs = Input(shape=(200, 3))\n",
        "    x = ConvolutionalBlock((200, 3), filters=64, is_encoder=True)(inputs)\n",
        "    x = MultiheadBlock((100, 128), 128)(x)\n",
        "    x = ConvolutionalBlock((100, 128), filters=128, is_encoder=True)(x)\n",
        "    x = MultiheadBlock((50, 256), 256)(x)\n",
        "    encoded = ConvolutionalBlock((50, 256), filters=256, is_encoder=True)(x)\n",
        "\n",
        "    ########################################################################\n",
        "    # decoder\n",
        "    ######################################################################## \n",
        "    x = ConvolutionalBlock((25, 512), 512, is_encoder=False)(encoded)\n",
        "    x = MultiheadBlock((50, 256), 256)(x)\n",
        "    x = ConvolutionalBlock((50, 256), filters=256, is_encoder=False)(x)\n",
        "    x = MultiheadBlock((100, 128), 128)(x)\n",
        "    x = ConvolutionalBlock((100, 128), filters=128, is_encoder=False)(x)\n",
        "    decoded = Conv1D(3, kernel_size=3, padding=\"same\", name=\"decoded\", kernel_initializer=initializer)(x)\n",
        "\n",
        "    ########################################################################\n",
        "    # classifier\n",
        "    ########################################################################\n",
        "    x = Conv1D(filters=64, kernel_size=3, input_shape=(25, 512), kernel_initializer=initializer)(encoded)\n",
        "    x = BatchNormalization()(x)\n",
        "    x = Activation(\"relu\")(x)\n",
        "    x = Conv1D(filters=128, kernel_size=3, kernel_initializer=initializer)(x)\n",
        "    x = BatchNormalization()(x)\n",
        "    x = Activation(\"relu\")(x)\n",
        "    x = LSTM(128, kernel_initializer=initializer)(x)\n",
        "    classified = Dense(num_classes, activation=\"softmax\", name=\"classified\", kernel_initializer=initializer)(x)\n",
        "\n",
        "    ########################################################################\n",
        "    # model\n",
        "    ########################################################################\n",
        "    model = Model(inputs=inputs, outputs=decoded)\n",
        "    model.compile(optimizer=adam, loss=\"mse\", metrics=[\"accuracy\"])\n",
        "    history = model.fit(x_train, x_train, validation_data = (x_val, x_val), batch_size = 128, epochs=700, verbose=1, callbacks = callbacks_list)\n",
        "\n",
        "    return history, model"
      ],
      "execution_count": 74,
      "outputs": []
    },
    {
      "cell_type": "code",
      "metadata": {
        "id": "IJPL-iFxMUZP",
        "colab": {
          "base_uri": "https://localhost:8080/"
        },
        "outputId": "f2cf1595-dacd-41a4-cd18-e8e6c2bfc333"
      },
      "source": [
        "# 80%, 10%, 10%로 set 나누기\n",
        "x_train, x_val, y_train, y_val = train_test_split(origianl_x, original_y, test_size=0.2, stratify=original_y)\n",
        "x_val, x_test, y_val, y_test = train_test_split(x_val, y_val, test_size=0.5, stratify=y_val)\n",
        "\n",
        "history, model = Transformer_Autoencoder(x_train, y_train, x_val, y_val)"
      ],
      "execution_count": null,
      "outputs": [
        {
          "output_type": "stream",
          "name": "stdout",
          "text": [
            "Epoch 1/700\n",
            "91/91 [==============================] - 55s 565ms/step - loss: 0.4464 - accuracy: 0.4572 - val_loss: 0.0893 - val_accuracy: 0.4635\n",
            "Epoch 2/700\n",
            "91/91 [==============================] - 25s 280ms/step - loss: 0.0883 - accuracy: 0.4673 - val_loss: 0.0893 - val_accuracy: 0.4635\n",
            "Epoch 3/700\n",
            "91/91 [==============================] - 26s 280ms/step - loss: 0.0883 - accuracy: 0.4673 - val_loss: 0.0893 - val_accuracy: 0.4635\n",
            "Epoch 4/700\n",
            "91/91 [==============================] - 25s 280ms/step - loss: 0.0883 - accuracy: 0.4673 - val_loss: 0.0893 - val_accuracy: 0.4635\n",
            "Epoch 5/700\n",
            "91/91 [==============================] - 25s 279ms/step - loss: 0.0883 - accuracy: 0.4673 - val_loss: 0.0893 - val_accuracy: 0.4635\n",
            "Epoch 6/700\n",
            "91/91 [==============================] - 25s 279ms/step - loss: 0.0883 - accuracy: 0.4673 - val_loss: 0.0893 - val_accuracy: 0.4635\n",
            "Epoch 7/700\n",
            "91/91 [==============================] - 25s 280ms/step - loss: 0.0883 - accuracy: 0.4673 - val_loss: 0.0894 - val_accuracy: 0.4635\n",
            "Epoch 8/700\n",
            "91/91 [==============================] - 25s 280ms/step - loss: 0.0883 - accuracy: 0.4673 - val_loss: 0.0893 - val_accuracy: 0.4635\n",
            "Epoch 9/700\n",
            "91/91 [==============================] - 25s 280ms/step - loss: 0.0883 - accuracy: 0.4673 - val_loss: 0.0893 - val_accuracy: 0.4635\n",
            "Epoch 10/700\n",
            "91/91 [==============================] - 25s 279ms/step - loss: 0.0883 - accuracy: 0.4673 - val_loss: 0.0895 - val_accuracy: 0.4635\n",
            "Epoch 11/700\n",
            "91/91 [==============================] - 25s 279ms/step - loss: 0.0883 - accuracy: 0.4673 - val_loss: 0.0893 - val_accuracy: 0.4635\n",
            "Epoch 12/700\n",
            "91/91 [==============================] - 25s 279ms/step - loss: 0.0883 - accuracy: 0.4673 - val_loss: 0.0893 - val_accuracy: 0.4635\n",
            "Epoch 13/700\n",
            "91/91 [==============================] - 25s 279ms/step - loss: 0.0883 - accuracy: 0.4673 - val_loss: 0.0895 - val_accuracy: 0.4635\n",
            "Epoch 14/700\n",
            "53/91 [================>.............] - ETA: 10s - loss: 0.0884 - accuracy: 0.4701"
          ]
        }
      ]
    },
    {
      "cell_type": "code",
      "metadata": {
        "id": "4KEuvPpahrQo"
      },
      "source": [
        "test_results = model.evaluate(x_test, y_test)\n",
        "\n",
        "print(\"maximum train acc : \", max(history.history[\"accuracy\"]))\n",
        "print(\"maximum valid acc : \", max(history.history[\"val_accuracy\"]))\n",
        "print(\"test acc : \", test_results[1])\n",
        "print(\"test loss : \", test_results[0])\n",
        "\n",
        "\n",
        "y_pred = model.predict([x_test])\n",
        "score = f1_score(y_test.argmax(axis=1), y_pred.argmax(axis=1), average=\"macro\")\n",
        "print(\"f1 score : \", score)\n",
        "matrix = confusion_matrix(y_test.argmax(axis=1), y_pred.argmax(axis=1))\n",
        "print(matrix)\n",
        "\n",
        "label = [\"Jogging\", \"LyingDown\", \"Sitting\", \"Stairs\", \"Stading\", \"Walking\"]\n",
        "fig = plt.figure()\n",
        "ax = fig.add_subplot(111)\n",
        "cax = ax.matshow(matrix, interpolation=\"nearest\")\n",
        "fig.colorbar(cax)\n",
        "ax.set_xticklabels(['']+label)\n",
        "ax.set_yticklabels(['']+label)\n",
        "plt.show()"
      ],
      "execution_count": null,
      "outputs": []
    }
  ]
}