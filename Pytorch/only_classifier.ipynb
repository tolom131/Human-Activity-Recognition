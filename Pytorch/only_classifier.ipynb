{
  "nbformat": 4,
  "nbformat_minor": 0,
  "metadata": {
    "accelerator": "GPU",
    "colab": {
      "name": "only classifier.ipynb",
      "provenance": [],
      "collapsed_sections": [],
      "include_colab_link": true
    },
    "interpreter": {
      "hash": "84bbda367bac7e7bffd9b7890a44d65326aaedad40e5a9021c2651157391b1ef"
    },
    "kernelspec": {
      "display_name": "Python 3.8.5 64-bit ('base': conda)",
      "name": "python3"
    },
    "language_info": {
      "codemirror_mode": {
        "name": "ipython",
        "version": 3
      },
      "file_extension": ".py",
      "mimetype": "text/x-python",
      "name": "python",
      "nbconvert_exporter": "python",
      "pygments_lexer": "ipython3",
      "version": "3.8.5"
    },
    "widgets": {
      "application/vnd.jupyter.widget-state+json": {
        "64f8e27a2e9647d1a50325d3c2c28b83": {
          "model_module": "@jupyter-widgets/controls",
          "model_name": "HBoxModel",
          "model_module_version": "1.5.0",
          "state": {
            "_view_name": "HBoxView",
            "_dom_classes": [],
            "_model_name": "HBoxModel",
            "_view_module": "@jupyter-widgets/controls",
            "_model_module_version": "1.5.0",
            "_view_count": null,
            "_view_module_version": "1.5.0",
            "box_style": "",
            "layout": "IPY_MODEL_a4a33e1c83174220b1e84ef0f7f239e7",
            "_model_module": "@jupyter-widgets/controls",
            "children": [
              "IPY_MODEL_740e992d9f2148248a8f6fc7c1dbdced",
              "IPY_MODEL_361b5e0b0b964fca9eddbc02451dab0c",
              "IPY_MODEL_11fba345b8184853a65821a232406234"
            ]
          }
        },
        "a4a33e1c83174220b1e84ef0f7f239e7": {
          "model_module": "@jupyter-widgets/base",
          "model_name": "LayoutModel",
          "model_module_version": "1.2.0",
          "state": {
            "_view_name": "LayoutView",
            "grid_template_rows": null,
            "right": null,
            "justify_content": null,
            "_view_module": "@jupyter-widgets/base",
            "overflow": null,
            "_model_module_version": "1.2.0",
            "_view_count": null,
            "flex_flow": null,
            "width": null,
            "min_width": null,
            "border": null,
            "align_items": null,
            "bottom": null,
            "_model_module": "@jupyter-widgets/base",
            "top": null,
            "grid_column": null,
            "overflow_y": null,
            "overflow_x": null,
            "grid_auto_flow": null,
            "grid_area": null,
            "grid_template_columns": null,
            "flex": null,
            "_model_name": "LayoutModel",
            "justify_items": null,
            "grid_row": null,
            "max_height": null,
            "align_content": null,
            "visibility": null,
            "align_self": null,
            "height": null,
            "min_height": null,
            "padding": null,
            "grid_auto_rows": null,
            "grid_gap": null,
            "max_width": null,
            "order": null,
            "_view_module_version": "1.2.0",
            "grid_template_areas": null,
            "object_position": null,
            "object_fit": null,
            "grid_auto_columns": null,
            "margin": null,
            "display": null,
            "left": null
          }
        },
        "740e992d9f2148248a8f6fc7c1dbdced": {
          "model_module": "@jupyter-widgets/controls",
          "model_name": "HTMLModel",
          "model_module_version": "1.5.0",
          "state": {
            "_view_name": "HTMLView",
            "style": "IPY_MODEL_a8498b952e5e4704abb523eff526e167",
            "_dom_classes": [],
            "description": "",
            "_model_name": "HTMLModel",
            "placeholder": "​",
            "_view_module": "@jupyter-widgets/controls",
            "_model_module_version": "1.5.0",
            "value": "100%",
            "_view_count": null,
            "_view_module_version": "1.5.0",
            "description_tooltip": null,
            "_model_module": "@jupyter-widgets/controls",
            "layout": "IPY_MODEL_2e3497a2dd4347a28070181c90ab12a1"
          }
        },
        "361b5e0b0b964fca9eddbc02451dab0c": {
          "model_module": "@jupyter-widgets/controls",
          "model_name": "FloatProgressModel",
          "model_module_version": "1.5.0",
          "state": {
            "_view_name": "ProgressView",
            "style": "IPY_MODEL_8873e23ce06b4819bffa20fa6b66dd2e",
            "_dom_classes": [],
            "description": "",
            "_model_name": "FloatProgressModel",
            "bar_style": "success",
            "max": 200,
            "_view_module": "@jupyter-widgets/controls",
            "_model_module_version": "1.5.0",
            "value": 200,
            "_view_count": null,
            "_view_module_version": "1.5.0",
            "orientation": "horizontal",
            "min": 0,
            "description_tooltip": null,
            "_model_module": "@jupyter-widgets/controls",
            "layout": "IPY_MODEL_3cc18b26b362420c88d5f8cb074ce54e"
          }
        },
        "11fba345b8184853a65821a232406234": {
          "model_module": "@jupyter-widgets/controls",
          "model_name": "HTMLModel",
          "model_module_version": "1.5.0",
          "state": {
            "_view_name": "HTMLView",
            "style": "IPY_MODEL_c55dd10e0a014352a80e61674286c9da",
            "_dom_classes": [],
            "description": "",
            "_model_name": "HTMLModel",
            "placeholder": "​",
            "_view_module": "@jupyter-widgets/controls",
            "_model_module_version": "1.5.0",
            "value": " 200/200 [06:09&lt;00:00,  1.86s/it]",
            "_view_count": null,
            "_view_module_version": "1.5.0",
            "description_tooltip": null,
            "_model_module": "@jupyter-widgets/controls",
            "layout": "IPY_MODEL_6db279ebbc4c40ccba6a8a79f8937910"
          }
        },
        "a8498b952e5e4704abb523eff526e167": {
          "model_module": "@jupyter-widgets/controls",
          "model_name": "DescriptionStyleModel",
          "model_module_version": "1.5.0",
          "state": {
            "_view_name": "StyleView",
            "_model_name": "DescriptionStyleModel",
            "description_width": "",
            "_view_module": "@jupyter-widgets/base",
            "_model_module_version": "1.5.0",
            "_view_count": null,
            "_view_module_version": "1.2.0",
            "_model_module": "@jupyter-widgets/controls"
          }
        },
        "2e3497a2dd4347a28070181c90ab12a1": {
          "model_module": "@jupyter-widgets/base",
          "model_name": "LayoutModel",
          "model_module_version": "1.2.0",
          "state": {
            "_view_name": "LayoutView",
            "grid_template_rows": null,
            "right": null,
            "justify_content": null,
            "_view_module": "@jupyter-widgets/base",
            "overflow": null,
            "_model_module_version": "1.2.0",
            "_view_count": null,
            "flex_flow": null,
            "width": null,
            "min_width": null,
            "border": null,
            "align_items": null,
            "bottom": null,
            "_model_module": "@jupyter-widgets/base",
            "top": null,
            "grid_column": null,
            "overflow_y": null,
            "overflow_x": null,
            "grid_auto_flow": null,
            "grid_area": null,
            "grid_template_columns": null,
            "flex": null,
            "_model_name": "LayoutModel",
            "justify_items": null,
            "grid_row": null,
            "max_height": null,
            "align_content": null,
            "visibility": null,
            "align_self": null,
            "height": null,
            "min_height": null,
            "padding": null,
            "grid_auto_rows": null,
            "grid_gap": null,
            "max_width": null,
            "order": null,
            "_view_module_version": "1.2.0",
            "grid_template_areas": null,
            "object_position": null,
            "object_fit": null,
            "grid_auto_columns": null,
            "margin": null,
            "display": null,
            "left": null
          }
        },
        "8873e23ce06b4819bffa20fa6b66dd2e": {
          "model_module": "@jupyter-widgets/controls",
          "model_name": "ProgressStyleModel",
          "model_module_version": "1.5.0",
          "state": {
            "_view_name": "StyleView",
            "_model_name": "ProgressStyleModel",
            "description_width": "",
            "_view_module": "@jupyter-widgets/base",
            "_model_module_version": "1.5.0",
            "_view_count": null,
            "_view_module_version": "1.2.0",
            "bar_color": null,
            "_model_module": "@jupyter-widgets/controls"
          }
        },
        "3cc18b26b362420c88d5f8cb074ce54e": {
          "model_module": "@jupyter-widgets/base",
          "model_name": "LayoutModel",
          "model_module_version": "1.2.0",
          "state": {
            "_view_name": "LayoutView",
            "grid_template_rows": null,
            "right": null,
            "justify_content": null,
            "_view_module": "@jupyter-widgets/base",
            "overflow": null,
            "_model_module_version": "1.2.0",
            "_view_count": null,
            "flex_flow": null,
            "width": null,
            "min_width": null,
            "border": null,
            "align_items": null,
            "bottom": null,
            "_model_module": "@jupyter-widgets/base",
            "top": null,
            "grid_column": null,
            "overflow_y": null,
            "overflow_x": null,
            "grid_auto_flow": null,
            "grid_area": null,
            "grid_template_columns": null,
            "flex": null,
            "_model_name": "LayoutModel",
            "justify_items": null,
            "grid_row": null,
            "max_height": null,
            "align_content": null,
            "visibility": null,
            "align_self": null,
            "height": null,
            "min_height": null,
            "padding": null,
            "grid_auto_rows": null,
            "grid_gap": null,
            "max_width": null,
            "order": null,
            "_view_module_version": "1.2.0",
            "grid_template_areas": null,
            "object_position": null,
            "object_fit": null,
            "grid_auto_columns": null,
            "margin": null,
            "display": null,
            "left": null
          }
        },
        "c55dd10e0a014352a80e61674286c9da": {
          "model_module": "@jupyter-widgets/controls",
          "model_name": "DescriptionStyleModel",
          "model_module_version": "1.5.0",
          "state": {
            "_view_name": "StyleView",
            "_model_name": "DescriptionStyleModel",
            "description_width": "",
            "_view_module": "@jupyter-widgets/base",
            "_model_module_version": "1.5.0",
            "_view_count": null,
            "_view_module_version": "1.2.0",
            "_model_module": "@jupyter-widgets/controls"
          }
        },
        "6db279ebbc4c40ccba6a8a79f8937910": {
          "model_module": "@jupyter-widgets/base",
          "model_name": "LayoutModel",
          "model_module_version": "1.2.0",
          "state": {
            "_view_name": "LayoutView",
            "grid_template_rows": null,
            "right": null,
            "justify_content": null,
            "_view_module": "@jupyter-widgets/base",
            "overflow": null,
            "_model_module_version": "1.2.0",
            "_view_count": null,
            "flex_flow": null,
            "width": null,
            "min_width": null,
            "border": null,
            "align_items": null,
            "bottom": null,
            "_model_module": "@jupyter-widgets/base",
            "top": null,
            "grid_column": null,
            "overflow_y": null,
            "overflow_x": null,
            "grid_auto_flow": null,
            "grid_area": null,
            "grid_template_columns": null,
            "flex": null,
            "_model_name": "LayoutModel",
            "justify_items": null,
            "grid_row": null,
            "max_height": null,
            "align_content": null,
            "visibility": null,
            "align_self": null,
            "height": null,
            "min_height": null,
            "padding": null,
            "grid_auto_rows": null,
            "grid_gap": null,
            "max_width": null,
            "order": null,
            "_view_module_version": "1.2.0",
            "grid_template_areas": null,
            "object_position": null,
            "object_fit": null,
            "grid_auto_columns": null,
            "margin": null,
            "display": null,
            "left": null
          }
        }
      }
    }
  },
  "cells": [
    {
      "cell_type": "markdown",
      "metadata": {
        "id": "view-in-github",
        "colab_type": "text"
      },
      "source": [
        "<a href=\"https://colab.research.google.com/github/tolom131/Human-Activity-Recognition/blob/main/only_classifier.ipynb\" target=\"_parent\"><img src=\"https://colab.research.google.com/assets/colab-badge.svg\" alt=\"Open In Colab\"/></a>"
      ]
    },
    {
      "cell_type": "markdown",
      "metadata": {
        "id": "AQGQXmOpA9J-"
      },
      "source": [
        "# Unsupervised image denoising"
      ]
    },
    {
      "cell_type": "markdown",
      "metadata": {
        "id": "TGBcGR2LA9KI"
      },
      "source": [
        "## Import libraries"
      ]
    },
    {
      "cell_type": "code",
      "metadata": {
        "id": "NNpI2DZ6A9KJ"
      },
      "source": [
        "import torch\n",
        "import torchvision\n",
        "import torchvision.transforms as transforms\n",
        "from torch.utils.data import Dataset\n",
        "from os import listdir\n",
        "from os.path import join\n",
        "from torchvision.transforms import Compose, ToTensor, ToPILImage, Resize, Lambda, Normalize, Grayscale\n",
        "from torch.utils.data import DataLoader\n",
        "from PIL import Image\n",
        "import matplotlib.pyplot as plt\n",
        "import numpy as np\n",
        "import torch.nn as nn\n",
        "import torch.nn.functional as F\n",
        "import torch.optim as optim\n",
        "from math import log10\n",
        "from tqdm.notebook import tqdm\n",
        "import os\n",
        "import math\n",
        "import torch as tf"
      ],
      "execution_count": 1,
      "outputs": []
    },
    {
      "cell_type": "markdown",
      "metadata": {
        "id": "20TiZsA_A9KO"
      },
      "source": [
        "## Hyper parameters"
      ]
    },
    {
      "cell_type": "code",
      "metadata": {
        "id": "KtDynD4nA9KP"
      },
      "source": [
        "device        = torch.device('cuda' if torch.cuda.is_available() else 'cpu')\n",
        "\n",
        "# ==================================================\n",
        "# determine optimal hyper-parameters to obtain best testing performance\n",
        "number_epoch    = 200\n",
        "size_minibatch  = 128\n",
        "learning_rate   = 0.1\n",
        "# =================================================="
      ],
      "execution_count": 2,
      "outputs": []
    },
    {
      "cell_type": "code",
      "metadata": {
        "colab": {
          "base_uri": "https://localhost:8080/"
        },
        "id": "9FriR4w79i_Z",
        "outputId": "4686e9a4-b396-49d2-bc2d-77f55cde989e"
      },
      "source": [
        "from google.colab import drive \n",
        "drive.mount('/content/drive/')\n",
        "\n",
        "directory_data  = './drive/MyDrive/HAR/'\n",
        "filename_data   = 'WISDM_at_v2.0_raw.txt'\n",
        "\n",
        "import sys\n",
        "sys.path.append('/content/drive/MyDrive/HAR/')\n",
        "import wisdm_1_1\n",
        "import wisdm_2_0\n",
        "# x_train, y_train, num_classes = wisdm_1_1.create_wisdm_1_1(directory_data + filename_data)\n",
        "origianl_x, original_y, num_classes = wisdm_2_0.create_wisdm_2_0(directory_data + filename_data)"
      ],
      "execution_count": 3,
      "outputs": [
        {
          "output_type": "stream",
          "name": "stdout",
          "text": [
            "Drive already mounted at /content/drive/; to attempt to forcibly remount, call drive.mount(\"/content/drive/\", force_remount=True).\n"
          ]
        },
        {
          "output_type": "stream",
          "name": "stderr",
          "text": [
            "/usr/local/lib/python3.7/dist-packages/IPython/core/interactiveshell.py:2882: DtypeWarning: Columns (2) have mixed types.Specify dtype option on import or set low_memory=False.\n",
            "  exec(code_obj, self.user_global_ns, self.user_ns)\n"
          ]
        },
        {
          "output_type": "stream",
          "name": "stdout",
          "text": [
            "x_train.shape :  (14423, 200, 3) y_train.shape:  (14423, 6)\n"
          ]
        }
      ]
    },
    {
      "cell_type": "code",
      "metadata": {
        "id": "0IsbQDqQ9mCD"
      },
      "source": [
        "from sklearn.model_selection import train_test_split\n",
        "x_train, x_test, y_train, y_test = train_test_split(origianl_x, original_y, random_state=42, stratify=original_y, test_size=0.2)"
      ],
      "execution_count": 4,
      "outputs": []
    },
    {
      "cell_type": "markdown",
      "metadata": {
        "id": "9AbHCZPpA9KR"
      },
      "source": [
        "## Costumize dataloader for pytorch"
      ]
    },
    {
      "cell_type": "code",
      "metadata": {
        "id": "1UveCjrBA9KS"
      },
      "source": [
        "class dataset (Dataset):\n",
        "    def  __init__(self, data, label):\n",
        "\n",
        "        self.data    = data\n",
        "        self.label    = label\n",
        "            \n",
        "    def __getitem__(self, index):\n",
        "\n",
        "        data    = self.data[index]\n",
        "        label   = self.label[index]\n",
        "        return (data, label)\n",
        "\n",
        "    def __len__(self):\n",
        "        return self.data.shape[0]"
      ],
      "execution_count": 5,
      "outputs": []
    },
    {
      "cell_type": "markdown",
      "metadata": {
        "id": "357alwWgA9KU"
      },
      "source": [
        "## Construct datasets and dataloaders for training and testing"
      ]
    },
    {
      "cell_type": "code",
      "metadata": {
        "id": "b7JDqjSVA9KU"
      },
      "source": [
        "## transformer를 통과하기 위해 데이터 shape 변경\n",
        "x_train = x_train.reshape(-1, x_train.shape[2], x_train.shape[1])\n",
        "x_test = x_test.reshape(-1, x_test.shape[2], x_test.shape[1])\n",
        "\n",
        "dataset_train = dataset(x_train, y_train) \n",
        "dataset_test  = dataset(x_test, y_test) \n",
        "\n",
        "dataloader_train = DataLoader(dataset_train, batch_size=size_minibatch, shuffle=True, drop_last=True, num_workers=2)\n",
        "dataloader_test  = DataLoader(dataset_test,  batch_size=size_minibatch, shuffle=False, drop_last=True, num_workers=2) "
      ],
      "execution_count": 6,
      "outputs": []
    },
    {
      "cell_type": "markdown",
      "metadata": {
        "id": "5Yn9jMLrA9KX"
      },
      "source": [
        "## Class for the neural network"
      ]
    },
    {
      "cell_type": "code",
      "metadata": {
        "id": "1VPt0SXOTuS3"
      },
      "source": [
        "class Classifier(nn.Module):\n",
        "    def __init__(self, dim, channel, num_classes, is_alone=False):\n",
        "        super(Classifier, self).__init__()\n",
        "        \n",
        "        if is_alone:\n",
        "            self.dim = dim\n",
        "            self.channel = channel\n",
        "            self.num_classes = num_classes\n",
        "        else:\n",
        "            self.dim = dim//8\n",
        "            self.channel = channel*80\n",
        "            self.num_classes = num_classes\n",
        "\n",
        "        # original inputs shape : [batch_size, channel, dim]\n",
        "        # classifier inputs shape : [batch_size, channel*80, dim//8]\n",
        "\n",
        "        self.conv1 = nn.Conv1d(self.channel, 64, kernel_size=3, padding=1, stride=1)\n",
        "        self.batch1 = nn.BatchNorm1d(64)\n",
        "        self.relu1 = nn.ReLU()\n",
        "\n",
        "        self.conv2 = nn.Conv1d(64, 128, kernel_size=3, padding=1, stride=1)\n",
        "        self.batch2 = nn.BatchNorm1d(128)\n",
        "        self.relu2 = nn.ReLU()\n",
        "        \n",
        "        self.lstm = nn.LSTM(self.dim, self.dim, batch_first=True)\n",
        "        self.classifier = nn.Linear(128, self.num_classes)\n",
        "        self.softmax = nn.Softmax(dim=1)\n",
        "\n",
        "    def forward(self, inputs):\n",
        "\n",
        "        x = self.conv1(inputs)\n",
        "        x = self.batch1(x)\n",
        "        x = self.relu1(x)\n",
        "\n",
        "        x = self.conv2(x)\n",
        "        x = self.batch2(x)\n",
        "        x = self.relu2(x)\n",
        "\n",
        "        x, _ = self.lstm(x)\n",
        "        x = x[:, :, -1]\n",
        "        x = self.classifier(x)\n",
        "        x = self.softmax(x)\n",
        "\n",
        "        return x  "
      ],
      "execution_count": 7,
      "outputs": []
    },
    {
      "cell_type": "code",
      "metadata": {
        "id": "txsk5OhDBhL8"
      },
      "source": [
        "model = Classifier(200, 3, 6, is_alone=True)\n",
        "x = torch.rand(600).view(-1, 3, 200)\n",
        "\n",
        "c = model(x)"
      ],
      "execution_count": 8,
      "outputs": []
    },
    {
      "cell_type": "markdown",
      "metadata": {
        "id": "Uig2PSDaTDu6"
      },
      "source": [
        "## model summary 용"
      ]
    },
    {
      "cell_type": "code",
      "metadata": {
        "id": "ZmCOhVRTAUly"
      },
      "source": [
        "# from torchsummary import summary as summary_\n",
        "\n",
        "# model = Classifier(200, 3, 6, is_alone=True).to(device)\n",
        "# summary_(model, (3, 200), batch_size=10)"
      ],
      "execution_count": 9,
      "outputs": []
    },
    {
      "cell_type": "markdown",
      "metadata": {
        "id": "h8DSwKtMOqBH"
      },
      "source": [
        "## 모델링 과정을 위해 필요한 함수 정의"
      ]
    },
    {
      "cell_type": "code",
      "metadata": {
        "id": "UCOI_G1tnmUE"
      },
      "source": [
        "def compute_prediction(model, input):\n",
        "    prediction = model(input)\n",
        "    return prediction"
      ],
      "execution_count": 10,
      "outputs": []
    },
    {
      "cell_type": "code",
      "metadata": {
        "id": "yA0KNRpEnnN6"
      },
      "source": [
        "def compute_mse_loss(input, prediction):\n",
        "    \n",
        "    mse = nn.MSELoss()\n",
        "    \n",
        "    # ==================================================\n",
        "    # fill up the blank\n",
        "    loss_mse = mse(prediction, input)\n",
        "    # ==================================================\n",
        "    \n",
        "    loss_mse_value = loss_mse.item() \n",
        "    \n",
        "    return loss_mse, loss_mse_value"
      ],
      "execution_count": 11,
      "outputs": []
    },
    {
      "cell_type": "code",
      "metadata": {
        "id": "mT9FgvXjcVBB"
      },
      "source": [
        "def compute_entropy_loss(inputs, prediction):\n",
        "    cross = nn.CrossEntropyLoss()\n",
        "\n",
        "    loss_cross = cross(prediction, inputs)\n",
        "\n",
        "    loss_cross_value = loss_cross.item()\n",
        "    return loss_cross, loss_cross_value"
      ],
      "execution_count": 12,
      "outputs": []
    },
    {
      "cell_type": "code",
      "metadata": {
        "id": "YlSY2TrROn6W"
      },
      "source": [
        "def compute_accuracy(prediction, label):\n",
        "    # ================================================================================ \n",
        "    # complete the function body\n",
        "    b_Prediction = torch.argmax(prediction, 1)\n",
        "    b_label = torch.argmax(label, 1)\n",
        "    bCorrect = (b_Prediction == b_label)\n",
        "    accuracy = bCorrect.float().mean() * 100\n",
        "    # ================================================================================ \n",
        "\n",
        "    return accuracy"
      ],
      "execution_count": 13,
      "outputs": []
    },
    {
      "cell_type": "markdown",
      "metadata": {
        "id": "3DYCbEtyPHW5"
      },
      "source": [
        "## 모델링 과정 정리를 위한 배열"
      ]
    },
    {
      "cell_type": "code",
      "metadata": {
        "id": "U2GV2m67PGMD"
      },
      "source": [
        "loss_mean_train     = np.zeros(number_epoch)\n",
        "loss_std_train      = np.zeros(number_epoch)\n",
        "accuracy_mean_train = np.zeros(number_epoch)\n",
        "accuracy_std_train  = np.zeros(number_epoch)\n",
        "\n",
        "loss_mean_test      = np.zeros(number_epoch)\n",
        "loss_std_test       = np.zeros(number_epoch)\n",
        "accuracy_mean_test  = np.zeros(number_epoch)\n",
        "accuracy_std_test   = np.zeros(number_epoch)"
      ],
      "execution_count": 14,
      "outputs": []
    },
    {
      "cell_type": "markdown",
      "metadata": {
        "id": "tTptbDGZA9KZ"
      },
      "source": [
        "## Build the network"
      ]
    },
    {
      "cell_type": "code",
      "metadata": {
        "id": "qzsj97WB3_tq"
      },
      "source": [
        "model = Classifier(200, 3, 6, is_alone=True).to(device)\n",
        "optimizer = torch.optim.Adam(model.parameters(), lr=0.01)"
      ],
      "execution_count": 15,
      "outputs": []
    },
    {
      "cell_type": "code",
      "metadata": {
        "id": "zIUbUcHqDYxS",
        "outputId": "9882664e-1eb3-4a73-feab-2044a6846603",
        "colab": {
          "base_uri": "https://localhost:8080/"
        }
      },
      "source": [
        "def weight_init_xavier_uniform(submodule):\n",
        "    if isinstance(submodule, torch.nn.Conv1d) or isinstance(submodule, torch.nn.Linear):\n",
        "        torch.nn.init.xavier_uniform_(submodule.weight)\n",
        "model.apply(weight_init_xavier_uniform)"
      ],
      "execution_count": 16,
      "outputs": [
        {
          "output_type": "execute_result",
          "data": {
            "text/plain": [
              "Classifier(\n",
              "  (conv1): Conv1d(3, 64, kernel_size=(3,), stride=(1,), padding=(1,))\n",
              "  (batch1): BatchNorm1d(64, eps=1e-05, momentum=0.1, affine=True, track_running_stats=True)\n",
              "  (relu1): ReLU()\n",
              "  (conv2): Conv1d(64, 128, kernel_size=(3,), stride=(1,), padding=(1,))\n",
              "  (batch2): BatchNorm1d(128, eps=1e-05, momentum=0.1, affine=True, track_running_stats=True)\n",
              "  (relu2): ReLU()\n",
              "  (lstm): LSTM(200, 200, batch_first=True)\n",
              "  (classifier): Linear(in_features=128, out_features=6, bias=True)\n",
              "  (softmax): Softmax(dim=1)\n",
              ")"
            ]
          },
          "metadata": {},
          "execution_count": 16
        }
      ]
    },
    {
      "cell_type": "markdown",
      "metadata": {
        "id": "oOG-mR8F3Tzq"
      },
      "source": [
        "## Classifier 독립"
      ]
    },
    {
      "cell_type": "code",
      "metadata": {
        "colab": {
          "base_uri": "https://localhost:8080/",
          "height": 1000,
          "referenced_widgets": [
            "64f8e27a2e9647d1a50325d3c2c28b83",
            "a4a33e1c83174220b1e84ef0f7f239e7",
            "740e992d9f2148248a8f6fc7c1dbdced",
            "361b5e0b0b964fca9eddbc02451dab0c",
            "11fba345b8184853a65821a232406234",
            "a8498b952e5e4704abb523eff526e167",
            "2e3497a2dd4347a28070181c90ab12a1",
            "8873e23ce06b4819bffa20fa6b66dd2e",
            "3cc18b26b362420c88d5f8cb074ce54e",
            "c55dd10e0a014352a80e61674286c9da",
            "6db279ebbc4c40ccba6a8a79f8937910"
          ]
        },
        "id": "GDDgXPRy3Wir",
        "outputId": "2d6675ac-8011-40e3-a1b5-e5083a325d52"
      },
      "source": [
        "# ================================================================================\n",
        "# \n",
        "# iterations for epochs\n",
        "#\n",
        "# ================================================================================\n",
        "for i in tqdm(range(number_epoch)):\n",
        "    \n",
        "    # ================================================================================\n",
        "    # \n",
        "    # training\n",
        "    #\n",
        "    # ================================================================================\n",
        "    loss_train_epoch        = []\n",
        "    accuracy_train_epoch    = []\n",
        "\n",
        "    model.train()\n",
        "\n",
        "    for index_batch, (data, label) in enumerate(dataloader_train):\n",
        "\n",
        "        data_train = data.to(device)\n",
        "        label_train = label.to(device)\n",
        "        \n",
        "        classified = compute_prediction(model, data_train)\n",
        "\n",
        "        # classified loss\n",
        "        classified_loss, classfied_loss_value       = compute_entropy_loss(label_train, classified)\n",
        "\n",
        "        # classified accuracy\n",
        "        accuracy_train                              = compute_accuracy(classified, label_train).to(\"cpu\")\n",
        "        accuracy_train = accuracy_train.numpy()\n",
        "\n",
        "        loss_train = classified_loss\n",
        "\n",
        "        optimizer.zero_grad()\n",
        "        loss_train.backward()\n",
        "        optimizer.step()\n",
        "\n",
        "        loss_train_epoch.append(classfied_loss_value)\n",
        "        accuracy_train_epoch.append(accuracy_train)\n",
        "\n",
        "    loss_mean_train[i]      = np.mean(loss_train_epoch)\n",
        "    loss_std_train[i]       = np.std(loss_train_epoch)\n",
        "\n",
        "    accuracy_mean_train[i]  = np.mean(accuracy_train_epoch)\n",
        "    accuracy_std_train[i]   = np.std(accuracy_train_epoch)\n",
        "\n",
        "    # ================================================================================\n",
        "    # \n",
        "    # testing\n",
        "    #\n",
        "    # ================================================================================\n",
        "    loss_test_epoch        = []\n",
        "    accuracy_test_epoch    = []\n",
        "\n",
        "    with torch.no_grad():\n",
        "        model.eval()\n",
        "\n",
        "    for index_batch, (data, label) in enumerate(dataloader_test):\n",
        "\n",
        "        data_test = data.to(device)\n",
        "        label_test = label.to(device)\n",
        "        \n",
        "        classified             = compute_prediction(model, data_test)\n",
        "\n",
        "        # classified loss\n",
        "        classified_loss, classfied_loss_value       = compute_entropy_loss(label_test, classified)\n",
        "\n",
        "        # classified accuracy\n",
        "        accuracy_test               = compute_accuracy(classified, label_test).to(\"cpu\")\n",
        "        accuracy_test = accuracy_test.numpy()\n",
        "\n",
        "        loss_test_epoch.append(classfied_loss_value)\n",
        "        accuracy_test_epoch.append(accuracy_test)\n",
        "\n",
        "    loss_mean_test[i]      = np.mean(loss_test_epoch)\n",
        "    loss_std_test[i]       = np.std(loss_test_epoch)\n",
        "\n",
        "    accuracy_mean_test[i]  = np.mean(accuracy_test_epoch)\n",
        "    accuracy_std_test[i]   = np.std(accuracy_test_epoch)\n",
        "\n",
        "    print(f\"epoch : {i}, train acc : {np.mean(accuracy_train_epoch)}, train loss : {np.mean(loss_train_epoch)}\")\n",
        "    print(f\"epoch : {i}, test acc : {np.mean(accuracy_test_epoch)}, test loss : {np.mean(loss_test_epoch)}\")\n",
        "    print()\n"
      ],
      "execution_count": 17,
      "outputs": [
        {
          "output_type": "display_data",
          "data": {
            "application/vnd.jupyter.widget-view+json": {
              "model_id": "64f8e27a2e9647d1a50325d3c2c28b83",
              "version_minor": 0,
              "version_major": 2
            },
            "text/plain": [
              "  0%|          | 0/200 [00:00<?, ?it/s]"
            ]
          },
          "metadata": {}
        },
        {
          "output_type": "stream",
          "name": "stdout",
          "text": [
            "epoch : 0, train acc : 59.79166793823242, train loss : 1.4697224736213683\n",
            "epoch : 0, test acc : 69.28266906738281, test loss : 1.351555434140292\n",
            "\n",
            "epoch : 1, train acc : 69.921875, train loss : 1.3462997171613904\n",
            "epoch : 1, test acc : 69.74431610107422, test loss : 1.3485839475284924\n",
            "\n",
            "epoch : 2, train acc : 70.25173950195312, train loss : 1.3432315044932894\n",
            "epoch : 2, test acc : 69.88636016845703, test loss : 1.3465769670226357\n",
            "\n",
            "epoch : 3, train acc : 70.58159637451172, train loss : 1.3399890144666036\n",
            "epoch : 3, test acc : 70.95170593261719, test loss : 1.3325081088326194\n",
            "\n",
            "epoch : 4, train acc : 75.85069274902344, train loss : 1.291013851430681\n",
            "epoch : 4, test acc : 76.06533813476562, test loss : 1.2848289175467058\n",
            "\n",
            "epoch : 5, train acc : 77.109375, train loss : 1.2774167855580647\n",
            "epoch : 5, test acc : 77.4147720336914, test loss : 1.2750955115665088\n",
            "\n",
            "epoch : 6, train acc : 78.42013549804688, train loss : 1.2644982881016202\n",
            "epoch : 6, test acc : 76.13636016845703, test loss : 1.2828128717162393\n",
            "\n",
            "epoch : 7, train acc : 77.68228912353516, train loss : 1.270600590440962\n",
            "epoch : 7, test acc : 77.09516906738281, test loss : 1.2735770019617947\n",
            "\n",
            "epoch : 8, train acc : 78.77603912353516, train loss : 1.2601434138086107\n",
            "epoch : 8, test acc : 78.08948516845703, test loss : 1.2664959755810825\n",
            "\n",
            "epoch : 9, train acc : 78.828125, train loss : 1.2576814028951857\n",
            "epoch : 9, test acc : 77.45028686523438, test loss : 1.270608815279874\n",
            "\n",
            "epoch : 10, train acc : 79.23611450195312, train loss : 1.2534195727772184\n",
            "epoch : 10, test acc : 77.62783813476562, test loss : 1.267498709938743\n",
            "\n",
            "epoch : 11, train acc : 78.72396087646484, train loss : 1.258085713121626\n",
            "epoch : 11, test acc : 78.55113983154297, test loss : 1.2590176571499219\n",
            "\n",
            "epoch : 12, train acc : 79.40972137451172, train loss : 1.2517403814527723\n",
            "epoch : 12, test acc : 78.30255889892578, test loss : 1.2624490748752246\n",
            "\n",
            "epoch : 13, train acc : 78.96701049804688, train loss : 1.2553590973218283\n",
            "epoch : 13, test acc : 78.40908813476562, test loss : 1.2614058635451577\n",
            "\n",
            "epoch : 14, train acc : 79.46180725097656, train loss : 1.2504874759250217\n",
            "epoch : 14, test acc : 79.33238983154297, test loss : 1.2512912858616223\n",
            "\n",
            "epoch : 15, train acc : 79.95659637451172, train loss : 1.2458141287167868\n",
            "epoch : 15, test acc : 79.04829406738281, test loss : 1.254609303040938\n",
            "\n",
            "epoch : 16, train acc : 79.73958587646484, train loss : 1.247574974430932\n",
            "epoch : 16, test acc : 78.0539779663086, test loss : 1.2617212479764766\n",
            "\n",
            "epoch : 17, train acc : 79.62673950195312, train loss : 1.2481678459379408\n",
            "epoch : 17, test acc : 79.01278686523438, test loss : 1.2552738243883306\n",
            "\n",
            "epoch : 18, train acc : 79.84375, train loss : 1.2463213152355619\n",
            "epoch : 18, test acc : 78.55113983154297, test loss : 1.2564330317757346\n",
            "\n",
            "epoch : 19, train acc : 79.61805725097656, train loss : 1.2495511598057216\n",
            "epoch : 19, test acc : 79.6875, test loss : 1.2491312406279824\n",
            "\n",
            "epoch : 20, train acc : 80.078125, train loss : 1.2437931431664362\n",
            "epoch : 20, test acc : 78.9772720336914, test loss : 1.2545734210447832\n",
            "\n",
            "epoch : 21, train acc : 80.078125, train loss : 1.2443132625685798\n",
            "epoch : 21, test acc : 79.11931610107422, test loss : 1.2546129009940408\n",
            "\n",
            "epoch : 22, train acc : 80.078125, train loss : 1.245058278242747\n",
            "epoch : 22, test acc : 78.87073516845703, test loss : 1.255416680466045\n",
            "\n",
            "epoch : 23, train acc : 80.10416412353516, train loss : 1.243811141120063\n",
            "epoch : 23, test acc : 79.40341186523438, test loss : 1.2503647208213806\n",
            "\n",
            "epoch : 24, train acc : 80.00868225097656, train loss : 1.2440956857469347\n",
            "epoch : 24, test acc : 79.50994110107422, test loss : 1.2506031773307107\n",
            "\n",
            "epoch : 25, train acc : 80.10416412353516, train loss : 1.2437874913215636\n",
            "epoch : 25, test acc : 79.26136016845703, test loss : 1.2514278997074475\n",
            "\n",
            "epoch : 26, train acc : 80.26909637451172, train loss : 1.2423584633403355\n",
            "epoch : 26, test acc : 79.40341186523438, test loss : 1.251172954385931\n",
            "\n",
            "epoch : 27, train acc : 79.85243225097656, train loss : 1.2462464994854396\n",
            "epoch : 27, test acc : 79.296875, test loss : 1.249968100677837\n",
            "\n",
            "epoch : 28, train acc : 80.27777862548828, train loss : 1.2419017235438028\n",
            "epoch : 28, test acc : 79.3678970336914, test loss : 1.2509546984325757\n",
            "\n",
            "epoch : 29, train acc : 80.29513549804688, train loss : 1.241751848326789\n",
            "epoch : 29, test acc : 79.3678970336914, test loss : 1.2492527528242632\n",
            "\n",
            "epoch : 30, train acc : 80.46006774902344, train loss : 1.2404703868760003\n",
            "epoch : 30, test acc : 79.54545593261719, test loss : 1.2479117892005227\n",
            "\n",
            "epoch : 31, train acc : 80.63368225097656, train loss : 1.2380582531293234\n",
            "epoch : 31, test acc : 79.43891906738281, test loss : 1.2507469979199497\n",
            "\n",
            "epoch : 32, train acc : 80.78993225097656, train loss : 1.237027676900228\n",
            "epoch : 32, test acc : 79.79403686523438, test loss : 1.246382642876018\n",
            "\n",
            "epoch : 33, train acc : 80.98958587646484, train loss : 1.2357291075918408\n",
            "epoch : 33, test acc : 79.7585220336914, test loss : 1.247183772650632\n",
            "\n",
            "epoch : 34, train acc : 80.68576049804688, train loss : 1.2382518304718866\n",
            "epoch : 34, test acc : 79.6164779663086, test loss : 1.2474620721556924\n",
            "\n",
            "epoch : 35, train acc : 80.88541412353516, train loss : 1.2358052836524116\n",
            "epoch : 35, test acc : 80.04261016845703, test loss : 1.2464922720735723\n",
            "\n",
            "epoch : 36, train acc : 80.65103912353516, train loss : 1.2386782129605611\n",
            "epoch : 36, test acc : 79.3678970336914, test loss : 1.2536122798919678\n",
            "\n",
            "epoch : 37, train acc : 80.60763549804688, train loss : 1.23949044280582\n",
            "epoch : 37, test acc : 79.3678970336914, test loss : 1.2517863349481062\n",
            "\n",
            "epoch : 38, train acc : 80.46875, train loss : 1.2402981731626723\n",
            "epoch : 38, test acc : 79.296875, test loss : 1.250240233811465\n",
            "\n",
            "epoch : 39, train acc : 80.76388549804688, train loss : 1.2365896489885118\n",
            "epoch : 39, test acc : 79.86505889892578, test loss : 1.2444606206633828\n",
            "\n",
            "epoch : 40, train acc : 80.546875, train loss : 1.238836501704322\n",
            "epoch : 40, test acc : 79.2258529663086, test loss : 1.2507434649900957\n",
            "\n",
            "epoch : 41, train acc : 80.17361450195312, train loss : 1.2419452044698926\n",
            "epoch : 41, test acc : 79.40341186523438, test loss : 1.2488705461675471\n",
            "\n",
            "epoch : 42, train acc : 79.78298950195312, train loss : 1.246374213695526\n",
            "epoch : 42, test acc : 78.125, test loss : 1.2614831165833906\n",
            "\n",
            "epoch : 43, train acc : 79.94791412353516, train loss : 1.2452759822209676\n",
            "epoch : 43, test acc : 79.50994110107422, test loss : 1.2492755272171714\n",
            "\n",
            "epoch : 44, train acc : 80.71180725097656, train loss : 1.2374160673883225\n",
            "epoch : 44, test acc : 79.2258529663086, test loss : 1.2518521818247708\n",
            "\n",
            "epoch : 45, train acc : 80.75521087646484, train loss : 1.23700057665507\n",
            "epoch : 45, test acc : 79.72301483154297, test loss : 1.2464121038263494\n",
            "\n",
            "epoch : 46, train acc : 80.98958587646484, train loss : 1.2338519069883558\n",
            "epoch : 46, test acc : 79.65198516845703, test loss : 1.2482187910513445\n",
            "\n",
            "epoch : 47, train acc : 81.25, train loss : 1.2321553375985888\n",
            "epoch : 47, test acc : 79.79403686523438, test loss : 1.2467328797687183\n",
            "\n",
            "epoch : 48, train acc : 81.26736450195312, train loss : 1.2324860983424717\n",
            "epoch : 48, test acc : 79.6875, test loss : 1.2476143457672813\n",
            "\n",
            "epoch : 49, train acc : 80.94618225097656, train loss : 1.2350908345646328\n",
            "epoch : 49, test acc : 79.33238983154297, test loss : 1.249718644402244\n",
            "\n",
            "epoch : 50, train acc : 80.68576049804688, train loss : 1.2368719193670485\n",
            "epoch : 50, test acc : 79.72301483154297, test loss : 1.248301549391313\n",
            "\n",
            "epoch : 51, train acc : 80.390625, train loss : 1.2397208703888787\n",
            "epoch : 51, test acc : 79.40341186523438, test loss : 1.2477781935171648\n",
            "\n",
            "epoch : 52, train acc : 80.57291412353516, train loss : 1.238456990983751\n",
            "epoch : 52, test acc : 79.47443389892578, test loss : 1.249919978055087\n",
            "\n",
            "epoch : 53, train acc : 80.95486450195312, train loss : 1.2344189524650573\n",
            "epoch : 53, test acc : 79.2258529663086, test loss : 1.2496946399862117\n",
            "\n",
            "epoch : 54, train acc : 80.60763549804688, train loss : 1.2370543320973715\n",
            "epoch : 54, test acc : 79.33238983154297, test loss : 1.2494846311482517\n",
            "\n",
            "epoch : 55, train acc : 80.53819274902344, train loss : 1.2384381029340956\n",
            "epoch : 55, test acc : 80.1491470336914, test loss : 1.2450150468132712\n",
            "\n",
            "epoch : 56, train acc : 81.28472137451172, train loss : 1.2319424311319986\n",
            "epoch : 56, test acc : 79.26136016845703, test loss : 1.249997079372406\n",
            "\n",
            "epoch : 57, train acc : 81.02430725097656, train loss : 1.2341782768567404\n",
            "epoch : 57, test acc : 79.7585220336914, test loss : 1.2446153163909912\n",
            "\n",
            "epoch : 58, train acc : 81.00694274902344, train loss : 1.2351210567686293\n",
            "epoch : 58, test acc : 80.18466186523438, test loss : 1.2434040199626575\n",
            "\n",
            "epoch : 59, train acc : 81.42361450195312, train loss : 1.2303276340166727\n",
            "epoch : 59, test acc : 79.47443389892578, test loss : 1.2478050643747503\n",
            "\n",
            "epoch : 60, train acc : 80.90277862548828, train loss : 1.2354748129844666\n",
            "epoch : 60, test acc : 80.1491470336914, test loss : 1.2427280436862598\n",
            "\n",
            "epoch : 61, train acc : 81.20659637451172, train loss : 1.2320836027463278\n",
            "epoch : 61, test acc : 80.04261016845703, test loss : 1.243207503448833\n",
            "\n",
            "epoch : 62, train acc : 81.27603912353516, train loss : 1.2311147054036458\n",
            "epoch : 62, test acc : 80.11363983154297, test loss : 1.2420052831823176\n",
            "\n",
            "epoch : 63, train acc : 81.50173950195312, train loss : 1.229097354412079\n",
            "epoch : 63, test acc : 80.71733093261719, test loss : 1.2375407760793513\n",
            "\n",
            "epoch : 64, train acc : 81.38888549804688, train loss : 1.2310399492581685\n",
            "epoch : 64, test acc : 79.90056610107422, test loss : 1.2446419650858098\n",
            "\n",
            "epoch : 65, train acc : 80.97222137451172, train loss : 1.233864845169915\n",
            "epoch : 65, test acc : 79.93608093261719, test loss : 1.244780871001157\n",
            "\n",
            "epoch : 66, train acc : 80.9375, train loss : 1.2347989757855733\n",
            "epoch : 66, test acc : 79.79403686523438, test loss : 1.2450484470887617\n",
            "\n",
            "epoch : 67, train acc : 80.77256774902344, train loss : 1.2364958114094204\n",
            "epoch : 67, test acc : 79.43891906738281, test loss : 1.248071470043876\n",
            "\n",
            "epoch : 68, train acc : 81.07638549804688, train loss : 1.2331543538305494\n",
            "epoch : 68, test acc : 79.08380889892578, test loss : 1.2529225674542515\n",
            "\n",
            "epoch : 69, train acc : 81.13715362548828, train loss : 1.2331725041071573\n",
            "epoch : 69, test acc : 79.97158813476562, test loss : 1.245891511440277\n",
            "\n",
            "epoch : 70, train acc : 81.14583587646484, train loss : 1.2324209425184462\n",
            "epoch : 70, test acc : 80.18466186523438, test loss : 1.2421069632877002\n",
            "\n",
            "epoch : 71, train acc : 81.29340362548828, train loss : 1.231050788031684\n",
            "epoch : 71, test acc : 80.0071029663086, test loss : 1.2448381889950146\n",
            "\n",
            "epoch : 72, train acc : 81.72743225097656, train loss : 1.2270892514122858\n",
            "epoch : 72, test acc : 81.00141906738281, test loss : 1.2354541475122625\n",
            "\n",
            "epoch : 73, train acc : 81.50173950195312, train loss : 1.2292428917355007\n",
            "epoch : 73, test acc : 80.29119110107422, test loss : 1.2431104345755144\n",
            "\n",
            "epoch : 74, train acc : 81.05902862548828, train loss : 1.233769714832306\n",
            "epoch : 74, test acc : 79.90056610107422, test loss : 1.2447177171707153\n",
            "\n",
            "epoch : 75, train acc : 81.25868225097656, train loss : 1.2327959246105618\n",
            "epoch : 75, test acc : 80.22016906738281, test loss : 1.241775306788358\n",
            "\n",
            "epoch : 76, train acc : 80.99826049804688, train loss : 1.2332738399505616\n",
            "epoch : 76, test acc : 79.7585220336914, test loss : 1.2462382099845193\n",
            "\n",
            "epoch : 77, train acc : 81.171875, train loss : 1.2316535419887966\n",
            "epoch : 77, test acc : 80.0071029663086, test loss : 1.2436230345205828\n",
            "\n",
            "epoch : 78, train acc : 80.82465362548828, train loss : 1.2354254497422112\n",
            "epoch : 78, test acc : 79.79403686523438, test loss : 1.2455454902215437\n",
            "\n",
            "epoch : 79, train acc : 81.19791412353516, train loss : 1.232024077574412\n",
            "epoch : 79, test acc : 79.50994110107422, test loss : 1.2475290027531711\n",
            "\n",
            "epoch : 80, train acc : 81.16319274902344, train loss : 1.2323496699333192\n",
            "epoch : 80, test acc : 79.90056610107422, test loss : 1.2454772699962964\n",
            "\n",
            "epoch : 81, train acc : 81.39756774902344, train loss : 1.230143588119083\n",
            "epoch : 81, test acc : 79.93608093261719, test loss : 1.2439252192323857\n",
            "\n",
            "epoch : 82, train acc : 81.22396087646484, train loss : 1.2323470407062107\n",
            "epoch : 82, test acc : 79.97158813476562, test loss : 1.2447417053309353\n",
            "\n",
            "epoch : 83, train acc : 81.45833587646484, train loss : 1.2287546661165025\n",
            "epoch : 83, test acc : 80.11363983154297, test loss : 1.2420986023816196\n",
            "\n",
            "epoch : 84, train acc : 81.875, train loss : 1.2254779603746202\n",
            "epoch : 84, test acc : 79.90056610107422, test loss : 1.2430340593511409\n",
            "\n",
            "epoch : 85, train acc : 81.31944274902344, train loss : 1.2305351628197565\n",
            "epoch : 85, test acc : 79.86505889892578, test loss : 1.2454295808618718\n",
            "\n",
            "epoch : 86, train acc : 80.95486450195312, train loss : 1.2341195119751824\n",
            "epoch : 86, test acc : 79.26136016845703, test loss : 1.2516806342385032\n",
            "\n",
            "epoch : 87, train acc : 80.92881774902344, train loss : 1.2348294655481975\n",
            "epoch : 87, test acc : 79.65198516845703, test loss : 1.247428211298856\n",
            "\n",
            "epoch : 88, train acc : 81.34548950195312, train loss : 1.2310922702153524\n",
            "epoch : 88, test acc : 80.3977279663086, test loss : 1.2408011122183367\n",
            "\n",
            "epoch : 89, train acc : 81.11978912353516, train loss : 1.233230925930871\n",
            "epoch : 89, test acc : 80.078125, test loss : 1.2421527559107\n",
            "\n",
            "epoch : 90, train acc : 81.72743225097656, train loss : 1.2277147849400838\n",
            "epoch : 90, test acc : 80.11363983154297, test loss : 1.239856237714941\n",
            "\n",
            "epoch : 91, train acc : 81.44965362548828, train loss : 1.2300384998321534\n",
            "epoch : 91, test acc : 79.26136016845703, test loss : 1.2501760775392705\n",
            "\n",
            "epoch : 92, train acc : 81.19791412353516, train loss : 1.2320817099677193\n",
            "epoch : 92, test acc : 79.79403686523438, test loss : 1.2458761876279658\n",
            "\n",
            "epoch : 93, train acc : 81.53646087646484, train loss : 1.228802666399214\n",
            "epoch : 93, test acc : 80.71733093261719, test loss : 1.2376709309491245\n",
            "\n",
            "epoch : 94, train acc : 81.51041412353516, train loss : 1.2292851156658597\n",
            "epoch : 94, test acc : 80.0071029663086, test loss : 1.2436950748617\n",
            "\n",
            "epoch : 95, train acc : 81.41493225097656, train loss : 1.2302590568860372\n",
            "epoch : 95, test acc : 80.1491470336914, test loss : 1.244554178281264\n",
            "\n",
            "epoch : 96, train acc : 81.64930725097656, train loss : 1.2276356154017978\n",
            "epoch : 96, test acc : 80.0071029663086, test loss : 1.2431080395525151\n",
            "\n",
            "epoch : 97, train acc : 81.55381774902344, train loss : 1.2284925553533765\n",
            "epoch : 97, test acc : 80.25568389892578, test loss : 1.2410194061019204\n",
            "\n",
            "epoch : 98, train acc : 81.50173950195312, train loss : 1.2287035293049282\n",
            "epoch : 98, test acc : 80.36221313476562, test loss : 1.2406097542155872\n",
            "\n",
            "epoch : 99, train acc : 81.66666412353516, train loss : 1.227611658308241\n",
            "epoch : 99, test acc : 80.5397720336914, test loss : 1.2388658957047896\n",
            "\n",
            "epoch : 100, train acc : 81.44097137451172, train loss : 1.2291460898187425\n",
            "epoch : 100, test acc : 79.97158813476562, test loss : 1.2460711760954424\n",
            "\n",
            "epoch : 101, train acc : 80.75521087646484, train loss : 1.2359760853979322\n",
            "epoch : 101, test acc : 80.18466186523438, test loss : 1.2431780262426897\n",
            "\n",
            "epoch : 102, train acc : 81.54513549804688, train loss : 1.2289881348609923\n",
            "epoch : 102, test acc : 79.86505889892578, test loss : 1.243960066275163\n",
            "\n",
            "epoch : 103, train acc : 81.38021087646484, train loss : 1.230304823981391\n",
            "epoch : 103, test acc : 80.0071029663086, test loss : 1.2440761219371448\n",
            "\n",
            "epoch : 104, train acc : 81.80555725097656, train loss : 1.22601906326082\n",
            "epoch : 104, test acc : 80.29119110107422, test loss : 1.2392101667144082\n",
            "\n",
            "epoch : 105, train acc : 81.484375, train loss : 1.2281799183951483\n",
            "epoch : 105, test acc : 80.25568389892578, test loss : 1.241256372495131\n",
            "\n",
            "epoch : 106, train acc : 81.78819274902344, train loss : 1.2265590879652235\n",
            "epoch : 106, test acc : 79.93608093261719, test loss : 1.2436024167320945\n",
            "\n",
            "epoch : 107, train acc : 81.640625, train loss : 1.2271225611368815\n",
            "epoch : 107, test acc : 80.3977279663086, test loss : 1.239741861820221\n",
            "\n",
            "epoch : 108, train acc : 81.66666412353516, train loss : 1.2270866486761305\n",
            "epoch : 108, test acc : 80.61079406738281, test loss : 1.2375698360529812\n",
            "\n",
            "epoch : 109, train acc : 81.54513549804688, train loss : 1.2284247663285996\n",
            "epoch : 109, test acc : 80.1491470336914, test loss : 1.2406491474671797\n",
            "\n",
            "epoch : 110, train acc : 81.88368225097656, train loss : 1.2252668036354912\n",
            "epoch : 110, test acc : 80.18466186523438, test loss : 1.241404647176916\n",
            "\n",
            "epoch : 111, train acc : 81.76215362548828, train loss : 1.2263396528032091\n",
            "epoch : 111, test acc : 80.50426483154297, test loss : 1.2392281835729426\n",
            "\n",
            "epoch : 112, train acc : 81.66666412353516, train loss : 1.2268973800871108\n",
            "epoch : 112, test acc : 80.25568389892578, test loss : 1.240446854721416\n",
            "\n",
            "epoch : 113, train acc : 81.33680725097656, train loss : 1.231069646941291\n",
            "epoch : 113, test acc : 79.65198516845703, test loss : 1.2441833236000754\n",
            "\n",
            "epoch : 114, train acc : 81.77083587646484, train loss : 1.2264801224072774\n",
            "epoch : 114, test acc : 80.11363983154297, test loss : 1.2426795688542454\n",
            "\n",
            "epoch : 115, train acc : 81.52777862548828, train loss : 1.2286680301030477\n",
            "epoch : 115, test acc : 80.36221313476562, test loss : 1.2400934967127712\n",
            "\n",
            "epoch : 116, train acc : 81.14583587646484, train loss : 1.2329737491077848\n",
            "epoch : 116, test acc : 79.2258529663086, test loss : 1.2530065937475725\n",
            "\n",
            "epoch : 117, train acc : 81.34548950195312, train loss : 1.230872344970703\n",
            "epoch : 117, test acc : 80.46875, test loss : 1.2398136474869468\n",
            "\n",
            "epoch : 118, train acc : 81.47569274902344, train loss : 1.2293904728359646\n",
            "epoch : 118, test acc : 80.50426483154297, test loss : 1.2387956922704524\n",
            "\n",
            "epoch : 119, train acc : 81.57118225097656, train loss : 1.2278918094105191\n",
            "epoch : 119, test acc : 80.61079406738281, test loss : 1.2380598837679082\n",
            "\n",
            "epoch : 120, train acc : 81.62326049804688, train loss : 1.2276464329825507\n",
            "epoch : 120, test acc : 80.0071029663086, test loss : 1.2442085146903992\n",
            "\n",
            "epoch : 121, train acc : 81.20659637451172, train loss : 1.2311546815766228\n",
            "epoch : 121, test acc : 80.71733093261719, test loss : 1.2376672950657932\n",
            "\n",
            "epoch : 122, train acc : 81.36284637451172, train loss : 1.229758960670895\n",
            "epoch : 122, test acc : 80.3977279663086, test loss : 1.2397868958386509\n",
            "\n",
            "epoch : 123, train acc : 81.24131774902344, train loss : 1.2314237501886156\n",
            "epoch : 123, test acc : 79.97158813476562, test loss : 1.243814224546606\n",
            "\n",
            "epoch : 124, train acc : 81.015625, train loss : 1.2329547670152452\n",
            "epoch : 124, test acc : 80.57528686523438, test loss : 1.2393497282808477\n",
            "\n",
            "epoch : 125, train acc : 80.94618225097656, train loss : 1.2346392883194817\n",
            "epoch : 125, test acc : 79.65198516845703, test loss : 1.246899881146171\n",
            "\n",
            "epoch : 126, train acc : 81.09375, train loss : 1.233571712176005\n",
            "epoch : 126, test acc : 79.58096313476562, test loss : 1.246403379873796\n",
            "\n",
            "epoch : 127, train acc : 81.51909637451172, train loss : 1.2288065049383374\n",
            "epoch : 127, test acc : 79.65198516845703, test loss : 1.2481519038026982\n",
            "\n",
            "epoch : 128, train acc : 81.67534637451172, train loss : 1.2272404617733426\n",
            "epoch : 128, test acc : 80.3977279663086, test loss : 1.2403820211237127\n",
            "\n",
            "epoch : 129, train acc : 81.78819274902344, train loss : 1.2265460650126139\n",
            "epoch : 129, test acc : 80.25568389892578, test loss : 1.2412998947230252\n",
            "\n",
            "epoch : 130, train acc : 81.31944274902344, train loss : 1.2305930601225958\n",
            "epoch : 130, test acc : 80.22016906738281, test loss : 1.2414565899155356\n",
            "\n",
            "epoch : 131, train acc : 81.65798950195312, train loss : 1.2276397320959302\n",
            "epoch : 131, test acc : 80.43323516845703, test loss : 1.239449295130643\n",
            "\n",
            "epoch : 132, train acc : 81.77083587646484, train loss : 1.2261281251907348\n",
            "epoch : 132, test acc : 80.32670593261719, test loss : 1.2403009588068181\n",
            "\n",
            "epoch : 133, train acc : 81.67534637451172, train loss : 1.2268665499157376\n",
            "epoch : 133, test acc : 80.1491470336914, test loss : 1.2416273843158374\n",
            "\n",
            "epoch : 134, train acc : 81.71006774902344, train loss : 1.2268030246098836\n",
            "epoch : 134, test acc : 79.79403686523438, test loss : 1.245321187106046\n",
            "\n",
            "epoch : 135, train acc : 81.82291412353516, train loss : 1.2255136370658875\n",
            "epoch : 135, test acc : 80.64630889892578, test loss : 1.2378521019762212\n",
            "\n",
            "epoch : 136, train acc : 81.73611450195312, train loss : 1.2267170349756877\n",
            "epoch : 136, test acc : 79.82954406738281, test loss : 1.2452043890953064\n",
            "\n",
            "epoch : 137, train acc : 81.47569274902344, train loss : 1.229641682571835\n",
            "epoch : 137, test acc : 80.04261016845703, test loss : 1.2424463358792392\n",
            "\n",
            "epoch : 138, train acc : 81.71006774902344, train loss : 1.2271461460325452\n",
            "epoch : 138, test acc : 80.36221313476562, test loss : 1.2413558038798245\n",
            "\n",
            "epoch : 139, train acc : 81.27603912353516, train loss : 1.2313780162069532\n",
            "epoch : 139, test acc : 79.43891906738281, test loss : 1.2490711645646528\n",
            "\n",
            "epoch : 140, train acc : 81.47569274902344, train loss : 1.2295342763264974\n",
            "epoch : 140, test acc : 79.65198516845703, test loss : 1.2470567714084277\n",
            "\n",
            "epoch : 141, train acc : 81.38888549804688, train loss : 1.2299714710977343\n",
            "epoch : 141, test acc : 80.11363983154297, test loss : 1.242335850542242\n",
            "\n",
            "epoch : 142, train acc : 81.64930725097656, train loss : 1.2270671698782178\n",
            "epoch : 142, test acc : 79.93608093261719, test loss : 1.2442832426591353\n",
            "\n",
            "epoch : 143, train acc : 81.70138549804688, train loss : 1.227075046963162\n",
            "epoch : 143, test acc : 79.7585220336914, test loss : 1.2450543967160312\n",
            "\n",
            "epoch : 144, train acc : 81.875, train loss : 1.2256341060002645\n",
            "epoch : 144, test acc : 80.11363983154297, test loss : 1.2417051792144775\n",
            "\n",
            "epoch : 145, train acc : 81.73611450195312, train loss : 1.2262218448850843\n",
            "epoch : 145, test acc : 80.078125, test loss : 1.2418496988036416\n",
            "\n",
            "epoch : 146, train acc : 81.69271087646484, train loss : 1.2270352469550239\n",
            "epoch : 146, test acc : 80.078125, test loss : 1.2425736405632712\n",
            "\n",
            "epoch : 147, train acc : 81.49305725097656, train loss : 1.229581700430976\n",
            "epoch : 147, test acc : 80.078125, test loss : 1.2430722442540256\n",
            "\n",
            "epoch : 148, train acc : 81.29340362548828, train loss : 1.2305383682250977\n",
            "epoch : 148, test acc : 79.79403686523438, test loss : 1.2454563216729597\n",
            "\n",
            "epoch : 149, train acc : 81.59722137451172, train loss : 1.2279858827590941\n",
            "epoch : 149, test acc : 80.22016906738281, test loss : 1.2423871159553528\n",
            "\n",
            "epoch : 150, train acc : 81.55381774902344, train loss : 1.2281851092974345\n",
            "epoch : 150, test acc : 79.6164779663086, test loss : 1.247034484689886\n",
            "\n",
            "epoch : 151, train acc : 81.66666412353516, train loss : 1.227275127834744\n",
            "epoch : 151, test acc : 79.86505889892578, test loss : 1.2452753186225891\n",
            "\n",
            "epoch : 152, train acc : 81.72743225097656, train loss : 1.2269216073883904\n",
            "epoch : 152, test acc : 80.18466186523438, test loss : 1.241541786627336\n",
            "\n",
            "epoch : 153, train acc : 81.65798950195312, train loss : 1.2266149799029031\n",
            "epoch : 153, test acc : 80.1491470336914, test loss : 1.240437854420055\n",
            "\n",
            "epoch : 154, train acc : 81.84027862548828, train loss : 1.2255708667967053\n",
            "epoch : 154, test acc : 80.71733093261719, test loss : 1.2376154823736711\n",
            "\n",
            "epoch : 155, train acc : 82.03993225097656, train loss : 1.2233890877829658\n",
            "epoch : 155, test acc : 80.36221313476562, test loss : 1.2406337748874317\n",
            "\n",
            "epoch : 156, train acc : 81.22396087646484, train loss : 1.2316150572564868\n",
            "epoch : 156, test acc : 79.93608093261719, test loss : 1.2445321895859458\n",
            "\n",
            "epoch : 157, train acc : 81.00694274902344, train loss : 1.2337455762757195\n",
            "epoch : 157, test acc : 80.22016906738281, test loss : 1.2412332025441257\n",
            "\n",
            "epoch : 158, train acc : 81.51041412353516, train loss : 1.22864152457979\n",
            "epoch : 158, test acc : 80.18466186523438, test loss : 1.2416034774346785\n",
            "\n",
            "epoch : 159, train acc : 81.75347137451172, train loss : 1.2258990936809115\n",
            "epoch : 159, test acc : 80.18466186523438, test loss : 1.2409271868792446\n",
            "\n",
            "epoch : 160, train acc : 81.875, train loss : 1.2252213252915276\n",
            "epoch : 160, test acc : 80.32670593261719, test loss : 1.2391234853050925\n",
            "\n",
            "epoch : 161, train acc : 81.62326049804688, train loss : 1.227380441294776\n",
            "epoch : 161, test acc : 80.18466186523438, test loss : 1.2433047565546902\n",
            "\n",
            "epoch : 162, train acc : 81.52777862548828, train loss : 1.2288279957241481\n",
            "epoch : 162, test acc : 80.078125, test loss : 1.2432233637029475\n",
            "\n",
            "epoch : 163, train acc : 81.12847137451172, train loss : 1.2329006777869331\n",
            "epoch : 163, test acc : 79.97158813476562, test loss : 1.243363087827509\n",
            "\n",
            "epoch : 164, train acc : 81.31076049804688, train loss : 1.2312074727482265\n",
            "epoch : 164, test acc : 80.04261016845703, test loss : 1.2449059757319363\n",
            "\n",
            "epoch : 165, train acc : 81.36284637451172, train loss : 1.2308746483590869\n",
            "epoch : 165, test acc : 80.0071029663086, test loss : 1.2443646300922742\n",
            "\n",
            "epoch : 166, train acc : 81.51909637451172, train loss : 1.2283822880850899\n",
            "epoch : 166, test acc : 80.1491470336914, test loss : 1.2431689554994756\n",
            "\n",
            "epoch : 167, train acc : 81.54513549804688, train loss : 1.2283817105823094\n",
            "epoch : 167, test acc : 79.79403686523438, test loss : 1.244669329036366\n",
            "\n",
            "epoch : 168, train acc : 81.66666412353516, train loss : 1.2270846631791856\n",
            "epoch : 168, test acc : 80.22016906738281, test loss : 1.2418509234081616\n",
            "\n",
            "epoch : 169, train acc : 81.78819274902344, train loss : 1.225724376572503\n",
            "epoch : 169, test acc : 80.43323516845703, test loss : 1.2393799478357488\n",
            "\n",
            "epoch : 170, train acc : 81.80555725097656, train loss : 1.2259683012962341\n",
            "epoch : 170, test acc : 80.11363983154297, test loss : 1.2418572469191118\n",
            "\n",
            "epoch : 171, train acc : 81.82291412353516, train loss : 1.2257603605588276\n",
            "epoch : 171, test acc : 79.93608093261719, test loss : 1.2438185269182378\n",
            "\n",
            "epoch : 172, train acc : 81.53646087646484, train loss : 1.2291219698058233\n",
            "epoch : 172, test acc : 80.22016906738281, test loss : 1.2419900569048794\n",
            "\n",
            "epoch : 173, train acc : 81.71006774902344, train loss : 1.226566031244066\n",
            "epoch : 173, test acc : 80.22016906738281, test loss : 1.2408996549519626\n",
            "\n",
            "epoch : 174, train acc : 81.76215362548828, train loss : 1.226300467385186\n",
            "epoch : 174, test acc : 80.3977279663086, test loss : 1.2403444810347124\n",
            "\n",
            "epoch : 175, train acc : 81.64930725097656, train loss : 1.2266563283072578\n",
            "epoch : 175, test acc : 80.11363983154297, test loss : 1.2427800785411487\n",
            "\n",
            "epoch : 176, train acc : 81.59722137451172, train loss : 1.2280836608674792\n",
            "epoch : 176, test acc : 79.04829406738281, test loss : 1.2520656152205034\n",
            "\n",
            "epoch : 177, train acc : 81.30208587646484, train loss : 1.2308026432991028\n",
            "epoch : 177, test acc : 79.97158813476562, test loss : 1.2440314021977512\n",
            "\n",
            "epoch : 178, train acc : 81.43228912353516, train loss : 1.2294930391841465\n",
            "epoch : 178, test acc : 79.90056610107422, test loss : 1.2450046647678723\n",
            "\n",
            "epoch : 179, train acc : 81.41493225097656, train loss : 1.2300133652157255\n",
            "epoch : 179, test acc : 80.078125, test loss : 1.2437631650404497\n",
            "\n",
            "epoch : 180, train acc : 81.5625, train loss : 1.2281758334901598\n",
            "epoch : 180, test acc : 80.0071029663086, test loss : 1.2441185550256209\n",
            "\n",
            "epoch : 181, train acc : 81.64930725097656, train loss : 1.2279243893093532\n",
            "epoch : 181, test acc : 79.43891906738281, test loss : 1.2492401654070073\n",
            "\n",
            "epoch : 182, train acc : 81.31944274902344, train loss : 1.23112745947308\n",
            "epoch : 182, test acc : 80.18466186523438, test loss : 1.2401429414749146\n",
            "\n",
            "epoch : 183, train acc : 81.640625, train loss : 1.2276408129268221\n",
            "epoch : 183, test acc : 80.61079406738281, test loss : 1.2393694032322278\n",
            "\n",
            "epoch : 184, train acc : 81.51909637451172, train loss : 1.2285040352079604\n",
            "epoch : 184, test acc : 80.22016906738281, test loss : 1.2418146404353054\n",
            "\n",
            "epoch : 185, train acc : 81.5625, train loss : 1.2282844530211554\n",
            "epoch : 185, test acc : 80.0071029663086, test loss : 1.2433283870870417\n",
            "\n",
            "epoch : 186, train acc : 81.50173950195312, train loss : 1.228248733944363\n",
            "epoch : 186, test acc : 80.04261016845703, test loss : 1.242758642543446\n",
            "\n",
            "epoch : 187, train acc : 81.66666412353516, train loss : 1.2267453206910028\n",
            "epoch : 187, test acc : 80.078125, test loss : 1.243297739462419\n",
            "\n",
            "epoch : 188, train acc : 81.81423950195312, train loss : 1.2257496953010558\n",
            "epoch : 188, test acc : 80.078125, test loss : 1.2423635016788135\n",
            "\n",
            "epoch : 189, train acc : 81.64930725097656, train loss : 1.2271649016274346\n",
            "epoch : 189, test acc : 79.97158813476562, test loss : 1.2444037361578508\n",
            "\n",
            "epoch : 190, train acc : 81.77083587646484, train loss : 1.226217167907291\n",
            "epoch : 190, test acc : 79.82954406738281, test loss : 1.244254166429693\n",
            "\n",
            "epoch : 191, train acc : 81.78819274902344, train loss : 1.2262273298369513\n",
            "epoch : 191, test acc : 79.86505889892578, test loss : 1.245196066119454\n",
            "\n",
            "epoch : 192, train acc : 81.63194274902344, train loss : 1.227606925699446\n",
            "epoch : 192, test acc : 79.72301483154297, test loss : 1.2441655559973284\n",
            "\n",
            "epoch : 193, train acc : 81.57986450195312, train loss : 1.2278591924243503\n",
            "epoch : 193, test acc : 79.90056610107422, test loss : 1.2436177026141773\n",
            "\n",
            "epoch : 194, train acc : 81.81423950195312, train loss : 1.2257904953426786\n",
            "epoch : 194, test acc : 80.46875, test loss : 1.2407687631520359\n",
            "\n",
            "epoch : 195, train acc : 81.49305725097656, train loss : 1.2285552144050598\n",
            "epoch : 195, test acc : 79.82954406738281, test loss : 1.2447841167449951\n",
            "\n",
            "epoch : 196, train acc : 81.83159637451172, train loss : 1.2256616168551975\n",
            "epoch : 196, test acc : 80.078125, test loss : 1.2424812425266614\n",
            "\n",
            "epoch : 197, train acc : 82.01388549804688, train loss : 1.2237142509884305\n",
            "epoch : 197, test acc : 80.1491470336914, test loss : 1.2414328347552905\n",
            "\n",
            "epoch : 198, train acc : 81.76215362548828, train loss : 1.2262059410413106\n",
            "epoch : 198, test acc : 79.6875, test loss : 1.2471708926287564\n",
            "\n",
            "epoch : 199, train acc : 81.85763549804688, train loss : 1.225244481033749\n",
            "epoch : 199, test acc : 80.25568389892578, test loss : 1.2420352263884111\n",
            "\n"
          ]
        }
      ]
    },
    {
      "cell_type": "markdown",
      "metadata": {
        "id": "LULSrZv-UTDz"
      },
      "source": [
        "## Plot 함수"
      ]
    },
    {
      "cell_type": "code",
      "metadata": {
        "id": "08FdiEjDV0kb"
      },
      "source": [
        "def plot_curve_error(data_mean, data_std, x_label, y_label, title):\n",
        "\n",
        "    plt.figure(figsize=(8, 6))\n",
        "    plt.title(title)\n",
        "\n",
        "    alpha = 0.3\n",
        "    \n",
        "    plt.plot(range(len(data_mean)), data_mean, '-', color = 'red')\n",
        "    plt.fill_between(range(len(data_mean)), data_mean - data_std, data_mean + data_std, facecolor = 'blue', alpha = alpha) \n",
        "    \n",
        "    plt.xlabel(x_label)\n",
        "    plt.ylabel(y_label)\n",
        "\n",
        "    plt.tight_layout()\n",
        "    plt.show()"
      ],
      "execution_count": 23,
      "outputs": []
    },
    {
      "cell_type": "code",
      "metadata": {
        "colab": {
          "base_uri": "https://localhost:8080/",
          "height": 477
        },
        "id": "9ENxj-BQUZ-7",
        "outputId": "1ecb53c3-aa0d-4e5b-b334-df4b3f092c30"
      },
      "source": [
        "print('[plot the training loss]')\n",
        "print('') \n",
        "plot_curve_error(loss_mean_train, loss_std_train, 'epoch', 'loss', 'loss (training)')"
      ],
      "execution_count": 24,
      "outputs": [
        {
          "output_type": "stream",
          "name": "stdout",
          "text": [
            "[plot the training loss]\n",
            "\n"
          ]
        },
        {
          "output_type": "display_data",
          "data": {
            "image/png": "[encoded data removed]",
            "text/plain": [
              "<Figure size 576x432 with 1 Axes>"
            ]
          },
          "metadata": {
            "needs_background": "light"
          }
        }
      ]
    },
    {
      "cell_type": "code",
      "metadata": {
        "colab": {
          "base_uri": "https://localhost:8080/",
          "height": 477
        },
        "id": "6bqK2U_jWXva",
        "outputId": "7910e01c-cdf6-47d8-a2e7-441bd559b26e"
      },
      "source": [
        "print('[plot the testing loss]')\n",
        "print('') \n",
        "plot_curve_error(loss_mean_test, loss_std_test, 'epoch', 'loss', 'loss (testing)')"
      ],
      "execution_count": 25,
      "outputs": [
        {
          "output_type": "stream",
          "name": "stdout",
          "text": [
            "[plot the testing loss]\n",
            "\n"
          ]
        },
        {
          "output_type": "display_data",
          "data": {
            "image/png": "[encoded data removed]",
            "text/plain": [
              "<Figure size 576x432 with 1 Axes>"
            ]
          },
          "metadata": {
            "needs_background": "light"
          }
        }
      ]
    },
    {
      "cell_type": "code",
      "metadata": {
        "colab": {
          "base_uri": "https://localhost:8080/",
          "height": 477
        },
        "id": "_J600wqOWgNF",
        "outputId": "d8c2134a-1fa0-4ee7-a825-a28ff7485615"
      },
      "source": [
        "print('[plot the traning accuracy]') \n",
        "print('') \n",
        "plot_curve_error(accuracy_mean_train, accuracy_std_train, 'epoch', 'accuracy', 'Accuracy (training)')"
      ],
      "execution_count": 26,
      "outputs": [
        {
          "output_type": "stream",
          "name": "stdout",
          "text": [
            "[plot the traning accuracy]\n",
            "\n"
          ]
        },
        {
          "output_type": "display_data",
          "data": {
            "image/png": "[encoded data removed]",
            "text/plain": [
              "<Figure size 576x432 with 1 Axes>"
            ]
          },
          "metadata": {
            "needs_background": "light"
          }
        }
      ]
    },
    {
      "cell_type": "code",
      "metadata": {
        "colab": {
          "base_uri": "https://localhost:8080/",
          "height": 477
        },
        "id": "TsVmJXxnWIl9",
        "outputId": "dc2e9b85-557a-4300-854b-07892a1bb70f"
      },
      "source": [
        "print('[plot the testing accuracy]') \n",
        "print('') \n",
        "plot_curve_error(accuracy_mean_test, accuracy_std_test, 'epoch', 'accuracy', 'Accuracy (testing)')"
      ],
      "execution_count": 27,
      "outputs": [
        {
          "output_type": "stream",
          "name": "stdout",
          "text": [
            "[plot the testing accuracy]\n",
            "\n"
          ]
        },
        {
          "output_type": "display_data",
          "data": {
            "image/png": "[encoded data removed]",
            "text/plain": [
              "<Figure size 576x432 with 1 Axes>"
            ]
          },
          "metadata": {
            "needs_background": "light"
          }
        }
      ]
    },
    {
      "cell_type": "code",
      "metadata": {
        "id": "aF8p8kkmUasj"
      },
      "source": [
        ""
      ],
      "execution_count": 22,
      "outputs": []
    }
  ]
}
