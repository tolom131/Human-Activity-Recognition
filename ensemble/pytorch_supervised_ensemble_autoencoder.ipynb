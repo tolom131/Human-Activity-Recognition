{
  "nbformat": 4,
  "nbformat_minor": 0,
  "metadata": {
    "accelerator": "GPU",
    "colab": {
      "name": "supervised ensemble autoencoder.ipynb",
      "provenance": [],
      "collapsed_sections": [],
      "include_colab_link": true
    },
    "interpreter": {
      "hash": "84bbda367bac7e7bffd9b7890a44d65326aaedad40e5a9021c2651157391b1ef"
    },
    "kernelspec": {
      "display_name": "Python 3.8.5 64-bit ('base': conda)",
      "name": "python3"
    },
    "language_info": {
      "codemirror_mode": {
        "name": "ipython",
        "version": 3
      },
      "file_extension": ".py",
      "mimetype": "text/x-python",
      "name": "python",
      "nbconvert_exporter": "python",
      "pygments_lexer": "ipython3",
      "version": "3.8.5"
    },
    "widgets": {
      "application/vnd.jupyter.widget-state+json": {
        "f5d0aa6329c2462884983893862659ed": {
          "model_module": "@jupyter-widgets/controls",
          "model_name": "HBoxModel",
          "model_module_version": "1.5.0",
          "state": {
            "_view_name": "HBoxView",
            "_dom_classes": [],
            "_model_name": "HBoxModel",
            "_view_module": "@jupyter-widgets/controls",
            "_model_module_version": "1.5.0",
            "_view_count": null,
            "_view_module_version": "1.5.0",
            "box_style": "",
            "layout": "IPY_MODEL_efca4b3f0a85402692dbf7fc276034ae",
            "_model_module": "@jupyter-widgets/controls",
            "children": [
              "IPY_MODEL_377d75f88e554b2fb8134d3d35a7f00d",
              "IPY_MODEL_4d8419f6e32f4f79aaab3b91e229e3cd",
              "IPY_MODEL_d5a9215eac094661a6fbde452b458727"
            ]
          }
        },
        "efca4b3f0a85402692dbf7fc276034ae": {
          "model_module": "@jupyter-widgets/base",
          "model_name": "LayoutModel",
          "model_module_version": "1.2.0",
          "state": {
            "_view_name": "LayoutView",
            "grid_template_rows": null,
            "right": null,
            "justify_content": null,
            "_view_module": "@jupyter-widgets/base",
            "overflow": null,
            "_model_module_version": "1.2.0",
            "_view_count": null,
            "flex_flow": null,
            "width": null,
            "min_width": null,
            "border": null,
            "align_items": null,
            "bottom": null,
            "_model_module": "@jupyter-widgets/base",
            "top": null,
            "grid_column": null,
            "overflow_y": null,
            "overflow_x": null,
            "grid_auto_flow": null,
            "grid_area": null,
            "grid_template_columns": null,
            "flex": null,
            "_model_name": "LayoutModel",
            "justify_items": null,
            "grid_row": null,
            "max_height": null,
            "align_content": null,
            "visibility": null,
            "align_self": null,
            "height": null,
            "min_height": null,
            "padding": null,
            "grid_auto_rows": null,
            "grid_gap": null,
            "max_width": null,
            "order": null,
            "_view_module_version": "1.2.0",
            "grid_template_areas": null,
            "object_position": null,
            "object_fit": null,
            "grid_auto_columns": null,
            "margin": null,
            "display": null,
            "left": null
          }
        },
        "377d75f88e554b2fb8134d3d35a7f00d": {
          "model_module": "@jupyter-widgets/controls",
          "model_name": "HTMLModel",
          "model_module_version": "1.5.0",
          "state": {
            "_view_name": "HTMLView",
            "style": "IPY_MODEL_2b2d80db8d9848638cd7a1961f0a44fc",
            "_dom_classes": [],
            "description": "",
            "_model_name": "HTMLModel",
            "placeholder": "​",
            "_view_module": "@jupyter-widgets/controls",
            "_model_module_version": "1.5.0",
            "value": "  1%",
            "_view_count": null,
            "_view_module_version": "1.5.0",
            "description_tooltip": null,
            "_model_module": "@jupyter-widgets/controls",
            "layout": "IPY_MODEL_bf1232339675496095c1cbec5b82e1a4"
          }
        },
        "4d8419f6e32f4f79aaab3b91e229e3cd": {
          "model_module": "@jupyter-widgets/controls",
          "model_name": "FloatProgressModel",
          "model_module_version": "1.5.0",
          "state": {
            "_view_name": "ProgressView",
            "style": "IPY_MODEL_861d69d8f1d54bb1b67b3baf1fb5b2a5",
            "_dom_classes": [],
            "description": "",
            "_model_name": "FloatProgressModel",
            "bar_style": "",
            "max": 1500,
            "_view_module": "@jupyter-widgets/controls",
            "_model_module_version": "1.5.0",
            "value": 16,
            "_view_count": null,
            "_view_module_version": "1.5.0",
            "orientation": "horizontal",
            "min": 0,
            "description_tooltip": null,
            "_model_module": "@jupyter-widgets/controls",
            "layout": "IPY_MODEL_514663dd120f42f3907894a21791ba87"
          }
        },
        "d5a9215eac094661a6fbde452b458727": {
          "model_module": "@jupyter-widgets/controls",
          "model_name": "HTMLModel",
          "model_module_version": "1.5.0",
          "state": {
            "_view_name": "HTMLView",
            "style": "IPY_MODEL_6f94c55ae0b240018356e15d2484afcf",
            "_dom_classes": [],
            "description": "",
            "_model_name": "HTMLModel",
            "placeholder": "​",
            "_view_module": "@jupyter-widgets/controls",
            "_model_module_version": "1.5.0",
            "value": " 16/1500 [02:37&lt;4:03:07,  9.83s/it]",
            "_view_count": null,
            "_view_module_version": "1.5.0",
            "description_tooltip": null,
            "_model_module": "@jupyter-widgets/controls",
            "layout": "IPY_MODEL_693343d5f84b48f3a02d55e10436c2df"
          }
        },
        "2b2d80db8d9848638cd7a1961f0a44fc": {
          "model_module": "@jupyter-widgets/controls",
          "model_name": "DescriptionStyleModel",
          "model_module_version": "1.5.0",
          "state": {
            "_view_name": "StyleView",
            "_model_name": "DescriptionStyleModel",
            "description_width": "",
            "_view_module": "@jupyter-widgets/base",
            "_model_module_version": "1.5.0",
            "_view_count": null,
            "_view_module_version": "1.2.0",
            "_model_module": "@jupyter-widgets/controls"
          }
        },
        "bf1232339675496095c1cbec5b82e1a4": {
          "model_module": "@jupyter-widgets/base",
          "model_name": "LayoutModel",
          "model_module_version": "1.2.0",
          "state": {
            "_view_name": "LayoutView",
            "grid_template_rows": null,
            "right": null,
            "justify_content": null,
            "_view_module": "@jupyter-widgets/base",
            "overflow": null,
            "_model_module_version": "1.2.0",
            "_view_count": null,
            "flex_flow": null,
            "width": null,
            "min_width": null,
            "border": null,
            "align_items": null,
            "bottom": null,
            "_model_module": "@jupyter-widgets/base",
            "top": null,
            "grid_column": null,
            "overflow_y": null,
            "overflow_x": null,
            "grid_auto_flow": null,
            "grid_area": null,
            "grid_template_columns": null,
            "flex": null,
            "_model_name": "LayoutModel",
            "justify_items": null,
            "grid_row": null,
            "max_height": null,
            "align_content": null,
            "visibility": null,
            "align_self": null,
            "height": null,
            "min_height": null,
            "padding": null,
            "grid_auto_rows": null,
            "grid_gap": null,
            "max_width": null,
            "order": null,
            "_view_module_version": "1.2.0",
            "grid_template_areas": null,
            "object_position": null,
            "object_fit": null,
            "grid_auto_columns": null,
            "margin": null,
            "display": null,
            "left": null
          }
        },
        "861d69d8f1d54bb1b67b3baf1fb5b2a5": {
          "model_module": "@jupyter-widgets/controls",
          "model_name": "ProgressStyleModel",
          "model_module_version": "1.5.0",
          "state": {
            "_view_name": "StyleView",
            "_model_name": "ProgressStyleModel",
            "description_width": "",
            "_view_module": "@jupyter-widgets/base",
            "_model_module_version": "1.5.0",
            "_view_count": null,
            "_view_module_version": "1.2.0",
            "bar_color": null,
            "_model_module": "@jupyter-widgets/controls"
          }
        },
        "514663dd120f42f3907894a21791ba87": {
          "model_module": "@jupyter-widgets/base",
          "model_name": "LayoutModel",
          "model_module_version": "1.2.0",
          "state": {
            "_view_name": "LayoutView",
            "grid_template_rows": null,
            "right": null,
            "justify_content": null,
            "_view_module": "@jupyter-widgets/base",
            "overflow": null,
            "_model_module_version": "1.2.0",
            "_view_count": null,
            "flex_flow": null,
            "width": null,
            "min_width": null,
            "border": null,
            "align_items": null,
            "bottom": null,
            "_model_module": "@jupyter-widgets/base",
            "top": null,
            "grid_column": null,
            "overflow_y": null,
            "overflow_x": null,
            "grid_auto_flow": null,
            "grid_area": null,
            "grid_template_columns": null,
            "flex": null,
            "_model_name": "LayoutModel",
            "justify_items": null,
            "grid_row": null,
            "max_height": null,
            "align_content": null,
            "visibility": null,
            "align_self": null,
            "height": null,
            "min_height": null,
            "padding": null,
            "grid_auto_rows": null,
            "grid_gap": null,
            "max_width": null,
            "order": null,
            "_view_module_version": "1.2.0",
            "grid_template_areas": null,
            "object_position": null,
            "object_fit": null,
            "grid_auto_columns": null,
            "margin": null,
            "display": null,
            "left": null
          }
        },
        "6f94c55ae0b240018356e15d2484afcf": {
          "model_module": "@jupyter-widgets/controls",
          "model_name": "DescriptionStyleModel",
          "model_module_version": "1.5.0",
          "state": {
            "_view_name": "StyleView",
            "_model_name": "DescriptionStyleModel",
            "description_width": "",
            "_view_module": "@jupyter-widgets/base",
            "_model_module_version": "1.5.0",
            "_view_count": null,
            "_view_module_version": "1.2.0",
            "_model_module": "@jupyter-widgets/controls"
          }
        },
        "693343d5f84b48f3a02d55e10436c2df": {
          "model_module": "@jupyter-widgets/base",
          "model_name": "LayoutModel",
          "model_module_version": "1.2.0",
          "state": {
            "_view_name": "LayoutView",
            "grid_template_rows": null,
            "right": null,
            "justify_content": null,
            "_view_module": "@jupyter-widgets/base",
            "overflow": null,
            "_model_module_version": "1.2.0",
            "_view_count": null,
            "flex_flow": null,
            "width": null,
            "min_width": null,
            "border": null,
            "align_items": null,
            "bottom": null,
            "_model_module": "@jupyter-widgets/base",
            "top": null,
            "grid_column": null,
            "overflow_y": null,
            "overflow_x": null,
            "grid_auto_flow": null,
            "grid_area": null,
            "grid_template_columns": null,
            "flex": null,
            "_model_name": "LayoutModel",
            "justify_items": null,
            "grid_row": null,
            "max_height": null,
            "align_content": null,
            "visibility": null,
            "align_self": null,
            "height": null,
            "min_height": null,
            "padding": null,
            "grid_auto_rows": null,
            "grid_gap": null,
            "max_width": null,
            "order": null,
            "_view_module_version": "1.2.0",
            "grid_template_areas": null,
            "object_position": null,
            "object_fit": null,
            "grid_auto_columns": null,
            "margin": null,
            "display": null,
            "left": null
          }
        }
      }
    }
  },
  "cells": [
    {
      "cell_type": "markdown",
      "metadata": {
        "id": "view-in-github",
        "colab_type": "text"
      },
      "source": [
        "<a href=\"https://colab.research.google.com/github/tolom131/Human-Activity-Recognition/blob/main/ensemble/pytorch_supervised_ensemble_autoencoder.ipynb\" target=\"_parent\"><img src=\"https://colab.research.google.com/assets/colab-badge.svg\" alt=\"Open In Colab\"/></a>"
      ]
    },
    {
      "cell_type": "markdown",
      "metadata": {
        "id": "AQGQXmOpA9J-"
      },
      "source": [
        "# Unsupervised image denoising"
      ]
    },
    {
      "cell_type": "markdown",
      "metadata": {
        "id": "TGBcGR2LA9KI"
      },
      "source": [
        "## Import libraries"
      ]
    },
    {
      "cell_type": "code",
      "metadata": {
        "id": "NNpI2DZ6A9KJ"
      },
      "source": [
        "import torch\n",
        "import torchvision\n",
        "import torchvision.transforms as transforms\n",
        "from torch.utils.data import Dataset\n",
        "from os import listdir\n",
        "from os.path import join\n",
        "from torchvision.transforms import Compose, ToTensor, ToPILImage, Resize, Lambda, Normalize, Grayscale\n",
        "from torch.utils.data import DataLoader\n",
        "from PIL import Image\n",
        "import matplotlib.pyplot as plt\n",
        "import numpy as np\n",
        "import torch.nn as nn\n",
        "import torch.nn.functional as F\n",
        "import torch.optim as optim\n",
        "from math import log10\n",
        "from tqdm.notebook import tqdm\n",
        "import os\n",
        "import math\n",
        "import torch as tf"
      ],
      "execution_count": 1,
      "outputs": []
    },
    {
      "cell_type": "markdown",
      "metadata": {
        "id": "20TiZsA_A9KO"
      },
      "source": [
        "## Hyper parameters"
      ]
    },
    {
      "cell_type": "code",
      "metadata": {
        "id": "KtDynD4nA9KP"
      },
      "source": [
        "device        = torch.device('cuda' if torch.cuda.is_available() else 'cpu')\n",
        "\n",
        "# ==================================================\n",
        "# determine optimal hyper-parameters to obtain best testing performance\n",
        "number_epoch    = 1500\n",
        "size_minibatch  = 128\n",
        "learning_rate   = 0.01\n",
        "alpha = 1\n",
        "warmup = 100\n",
        "# =================================================="
      ],
      "execution_count": 2,
      "outputs": []
    },
    {
      "cell_type": "code",
      "metadata": {
        "colab": {
          "base_uri": "https://localhost:8080/"
        },
        "id": "9FriR4w79i_Z",
        "outputId": "b90c4e83-5b7c-4ab2-b625-06c85b383d02"
      },
      "source": [
        "from google.colab import drive \n",
        "drive.mount('/content/drive/')\n",
        "\n",
        "directory_data  = './drive/MyDrive/HAR/'\n",
        "filename_data   = 'WISDM_at_v2.0_raw.txt'\n",
        "\n",
        "import sys\n",
        "sys.path.append('/content/drive/MyDrive/HAR/')\n",
        "import wisdm_1_1\n",
        "import wisdm_2_0\n",
        "origianl_x, original_y, num_classes = wisdm_1_1.create_wisdm_1_1(directory_data + filename_data)\n",
        "#origianl_x, original_y, num_classes = wisdm_2_0.create_wisdm_2_0(directory_data + filename_data)"
      ],
      "execution_count": 3,
      "outputs": [
        {
          "output_type": "stream",
          "name": "stdout",
          "text": [
            "Drive already mounted at /content/drive/; to attempt to forcibly remount, call drive.mount(\"/content/drive/\", force_remount=True).\n"
          ]
        },
        {
          "output_type": "stream",
          "name": "stderr",
          "text": [
            "/usr/local/lib/python3.7/dist-packages/IPython/core/interactiveshell.py:2882: DtypeWarning: Columns (2) have mixed types.Specify dtype option on import or set low_memory=False.\n",
            "  exec(code_obj, self.user_global_ns, self.user_ns)\n"
          ]
        },
        {
          "output_type": "stream",
          "name": "stdout",
          "text": [
            "x_train.shape :  (14423, 200, 3) y_train.shape:  (14423, 6)\n"
          ]
        }
      ]
    },
    {
      "cell_type": "code",
      "metadata": {
        "id": "0IsbQDqQ9mCD"
      },
      "source": [
        "from sklearn.model_selection import train_test_split\n",
        "x_train, x_test, y_train, y_test = train_test_split(origianl_x, original_y, random_state=42, stratify=original_y, test_size=0.2)"
      ],
      "execution_count": 4,
      "outputs": []
    },
    {
      "cell_type": "markdown",
      "metadata": {
        "id": "9AbHCZPpA9KR"
      },
      "source": [
        "## Costumize dataloader for pytorch"
      ]
    },
    {
      "cell_type": "code",
      "metadata": {
        "id": "1UveCjrBA9KS"
      },
      "source": [
        "class dataset (Dataset):\n",
        "    def  __init__(self, data, label):\n",
        "\n",
        "        self.data    = data\n",
        "        self.label    = label\n",
        "            \n",
        "    def __getitem__(self, index):\n",
        "\n",
        "        data    = self.data[index]\n",
        "        label   = self.label[index]\n",
        "        return (data, label)\n",
        "\n",
        "    def __len__(self):\n",
        "        return self.data.shape[0]"
      ],
      "execution_count": 5,
      "outputs": []
    },
    {
      "cell_type": "markdown",
      "metadata": {
        "id": "357alwWgA9KU"
      },
      "source": [
        "## Construct datasets and dataloaders for training and testing"
      ]
    },
    {
      "cell_type": "code",
      "metadata": {
        "id": "b7JDqjSVA9KU"
      },
      "source": [
        "## transformer를 통과하기 위해 데이터 shape 변경\n",
        "# x_train = x_train.reshape(-1, x_train.shape[2], x_train.shape[1])\n",
        "# x_test = x_test.reshape(-1, x_test.shape[2], x_test.shape[1])\n",
        "x_train = tf.FloatTensor(x_train)\n",
        "x_test = tf.FloatTensor(x_test)\n",
        "x_train = x_train.permute(0, 2, 1)\n",
        "x_test = x_test.permute(0, 2, 1)\n",
        "\n",
        "dataset_train = dataset(x_train, y_train) \n",
        "dataset_test  = dataset(x_test, y_test) \n",
        "\n",
        "dataloader_train = DataLoader(dataset_train, batch_size=size_minibatch, shuffle=True, drop_last=True, num_workers=2)\n",
        "dataloader_test  = DataLoader(dataset_test,  batch_size=size_minibatch, shuffle=False, drop_last=True, num_workers=2) "
      ],
      "execution_count": 6,
      "outputs": []
    },
    {
      "cell_type": "markdown",
      "metadata": {
        "id": "5Yn9jMLrA9KX"
      },
      "source": [
        "## Class for the neural network"
      ]
    },
    {
      "cell_type": "code",
      "metadata": {
        "id": "htsiFor1QWwT"
      },
      "source": [
        "class Classifier(nn.Module):\n",
        "    def __init__(self, dim, channel, num_classes, is_alone=False):\n",
        "        super(Classifier, self).__init__()\n",
        "        \n",
        "        if is_alone:\n",
        "            self.dim = dim\n",
        "            self.channel = channel\n",
        "            self.num_classes = num_classes\n",
        "        else:\n",
        "            self.dim = dim\n",
        "            self.channel = channel\n",
        "            self.num_classes = num_classes\n",
        "\n",
        "        # original inputs shape : [batch_size, channel, dim]\n",
        "        # classifier inputs shape : [batch_size, channel*80, dim//8]\n",
        "\n",
        "        self.conv1 = nn.Conv1d(self.channel, 512, kernel_size=3, padding=1, stride=1)\n",
        "        self.batch1 = nn.BatchNorm1d(512)\n",
        "        self.relu1 = nn.ReLU()\n",
        "\n",
        "        self.conv2 = nn.Conv1d(512, 1024, kernel_size=3, padding=1, stride=1)\n",
        "        self.batch2 = nn.BatchNorm1d(1024)\n",
        "        self.relu2 = nn.ReLU()\n",
        "        \n",
        "        self.lstm = nn.LSTM(25, 128, batch_first=True)\n",
        "        self.classifier = nn.Linear(128, self.num_classes)\n",
        "        self.softmax = nn.Softmax(dim=1)\n",
        "\n",
        "    def forward(self, inputs):\n",
        "\n",
        "        x = self.conv1(inputs)\n",
        "        x = self.batch1(x)\n",
        "        #print(x.size())\n",
        "        x = self.relu1(x)\n",
        "        #print(x.size())\n",
        "        x = self.conv2(x)\n",
        "        #print(x.size())\n",
        "        x = self.batch2(x)\n",
        "        #print(x.size())\n",
        "        x = self.relu2(x)\n",
        "        #print(\"before LSTM : \", x.size())\n",
        "        x, _ = self.lstm(x)\n",
        "        #print(\"after LSTM : \", x.size())\n",
        "        x = x[:, -1, :]\n",
        "        #print(\"after -1 \" , x.size())\n",
        "        x = self.classifier(x)\n",
        "        #print(x.size())\n",
        "        return x  "
      ],
      "execution_count": 7,
      "outputs": []
    },
    {
      "cell_type": "code",
      "metadata": {
        "id": "pe1o7K7dMbwi"
      },
      "source": [
        "class SAE(nn.Module):\n",
        "    def __init__(self):\n",
        "        super(SAE, self).__init__()\n",
        "\n",
        "        def CBR2d(in_channels, out_channels, kernel_size=3, stride=1, padding=1, bias=True):\n",
        "            layers =  []\n",
        "            layers += [nn.Conv1d(in_channels=in_channels, out_channels=out_channels, kernel_size=kernel_size, stride=stride, padding=padding, bias=bias)]\n",
        "            layers += [nn.BatchNorm1d(num_features=out_channels)]\n",
        "            layers += [nn.ReLU()]\n",
        "\n",
        "            cbr = nn.Sequential(*layers)\n",
        "\n",
        "            return cbr\n",
        "\n",
        "        # Contracting path\n",
        "        self.encoder_layers = [CBR2d(in_channels=3, out_channels=64), nn.MaxPool1d(kernel_size=2), CBR2d(in_channels=64, out_channels=128), \n",
        "                          nn.MaxPool1d(kernel_size=2), CBR2d(in_channels=128, out_channels=256), nn.MaxPool1d(kernel_size=2)]\n",
        "        self.encoder = nn.Sequential(*self.encoder_layers)\n",
        "\n",
        "        # Expansive path\n",
        "        self.decoder_layers = [CBR2d(in_channels=256, out_channels=128), nn.ConvTranspose1d(in_channels=128, out_channels=128, kernel_size=2, stride=2, padding=0, bias=True),\n",
        "                               CBR2d(in_channels=128, out_channels=64), nn.ConvTranspose1d(in_channels=64, out_channels=64, kernel_size=2, stride=2, padding=0, bias=True),\n",
        "                               CBR2d(in_channels=64,  out_channels=3), nn.ConvTranspose1d(in_channels=3, out_channels=3, kernel_size=2, stride=2, padding=0, bias=True)]\n",
        "        self.decoder = nn.Sequential(*self.decoder_layers)\n",
        "     \n",
        "    def forward(self, x):\n",
        "        \n",
        "        encoded = self.encoder(x)\n",
        "        decoded = self.decoder(encoded)\n",
        "\n",
        "        return encoded, decoded"
      ],
      "execution_count": 8,
      "outputs": []
    },
    {
      "cell_type": "code",
      "source": [
        "# from torchsummary import summary as summary_\n",
        "# sae = SAE().to(device)\n",
        "# summary_(sae, (3, 200))"
      ],
      "metadata": {
        "id": "TSulRfCBNCM0"
      },
      "execution_count": 9,
      "outputs": []
    },
    {
      "cell_type": "markdown",
      "metadata": {
        "id": "Uig2PSDaTDu6"
      },
      "source": [
        "## model summary 용"
      ]
    },
    {
      "cell_type": "markdown",
      "metadata": {
        "id": "h8DSwKtMOqBH"
      },
      "source": [
        "## 모델링 과정을 위해 필요한 함수 정의"
      ]
    },
    {
      "cell_type": "code",
      "metadata": {
        "id": "yA0KNRpEnnN6"
      },
      "source": [
        "def compute_mse_loss(input, prediction):\n",
        "    \n",
        "    mse = nn.MSELoss()\n",
        "    \n",
        "    # ==================================================\n",
        "    # fill up the blank\n",
        "    loss_mse = mse(prediction, input)\n",
        "    # ==================================================\n",
        "    \n",
        "    loss_mse_value = loss_mse.item() \n",
        "    \n",
        "    return loss_mse, loss_mse_value"
      ],
      "execution_count": 10,
      "outputs": []
    },
    {
      "cell_type": "code",
      "metadata": {
        "id": "mT9FgvXjcVBB"
      },
      "source": [
        "def compute_entropy_loss(inputs, prediction):\n",
        "    # inputs : label_train ,prediction : classified\n",
        "    inputs = torch.argmax(inputs, 1)\n",
        "    cross = nn.CrossEntropyLoss()\n",
        "\n",
        "    loss_cross = cross(prediction, inputs)\n",
        "\n",
        "    loss_cross_value = loss_cross.item()\n",
        "    return loss_cross, loss_cross_value"
      ],
      "execution_count": 11,
      "outputs": []
    },
    {
      "cell_type": "code",
      "metadata": {
        "id": "YlSY2TrROn6W"
      },
      "source": [
        "def compute_accuracy(prediction, label):\n",
        "    # ================================================================================ \n",
        "    # complete the function body\n",
        "    b_Prediction = torch.argmax(prediction, 1)\n",
        "    b_label = torch.argmax(label, 1)\n",
        "    bCorrect = (b_Prediction == b_label)\n",
        "    accuracy = bCorrect.float().mean() * 100\n",
        "    # ================================================================================ \n",
        "\n",
        "    return accuracy"
      ],
      "execution_count": 12,
      "outputs": []
    },
    {
      "cell_type": "markdown",
      "metadata": {
        "id": "3DYCbEtyPHW5"
      },
      "source": [
        "## 모델링 과정 정리를 위한 배열"
      ]
    },
    {
      "cell_type": "code",
      "metadata": {
        "id": "U2GV2m67PGMD"
      },
      "source": [
        "total_loss_mean_train     = np.zeros(number_epoch)\n",
        "total_loss_std_train      = np.zeros(number_epoch)\n",
        "\n",
        "classified_loss_mean_train     = np.zeros(number_epoch)\n",
        "classified_loss_std_train      = np.zeros(number_epoch)\n",
        "\n",
        "decoded_loss_mean_train     = np.zeros(number_epoch)\n",
        "decoded_loss_std_train      = np.zeros(number_epoch)\n",
        "\n",
        "accuracy_mean_train = np.zeros(number_epoch)\n",
        "accuracy_std_train  = np.zeros(number_epoch)"
      ],
      "execution_count": 13,
      "outputs": []
    },
    {
      "cell_type": "code",
      "source": [
        "total_loss_mean_test     = np.zeros(number_epoch)\n",
        "total_loss_std_test      = np.zeros(number_epoch)\n",
        "\n",
        "classified_loss_mean_test     = np.zeros(number_epoch)\n",
        "classified_loss_std_test      = np.zeros(number_epoch)\n",
        "\n",
        "decoded_loss_mean_test    = np.zeros(number_epoch)\n",
        "decoded_loss_std_test      = np.zeros(number_epoch)\n",
        "\n",
        "accuracy_mean_test = np.zeros(number_epoch)\n",
        "accuracy_std_test  = np.zeros(number_epoch)"
      ],
      "metadata": {
        "id": "siA03vcV98ln"
      },
      "execution_count": 14,
      "outputs": []
    },
    {
      "cell_type": "markdown",
      "metadata": {
        "id": "tTptbDGZA9KZ"
      },
      "source": [
        "## Build the network"
      ]
    },
    {
      "cell_type": "code",
      "metadata": {
        "id": "qzsj97WB3_tq"
      },
      "source": [
        "autoencoder = SAE().to(device)\n",
        "classifier = Classifier(25, 256, 6).to(device)\n",
        "autoencoder_optimizer = torch.optim.Adam(autoencoder.parameters(), lr=learning_rate)\n",
        "classifier_optimizer = torch.optim.Adam(classifier.parameters(), lr=learning_rate)"
      ],
      "execution_count": 15,
      "outputs": []
    },
    {
      "cell_type": "markdown",
      "metadata": {
        "id": "2NKn_pSx3L0H"
      },
      "source": [
        "## Autoencoder"
      ]
    },
    {
      "cell_type": "code",
      "metadata": {
        "colab": {
          "base_uri": "https://localhost:8080/",
          "height": 930,
          "referenced_widgets": [
            "f5d0aa6329c2462884983893862659ed",
            "efca4b3f0a85402692dbf7fc276034ae",
            "377d75f88e554b2fb8134d3d35a7f00d",
            "4d8419f6e32f4f79aaab3b91e229e3cd",
            "d5a9215eac094661a6fbde452b458727",
            "2b2d80db8d9848638cd7a1961f0a44fc",
            "bf1232339675496095c1cbec5b82e1a4",
            "861d69d8f1d54bb1b67b3baf1fb5b2a5",
            "514663dd120f42f3907894a21791ba87",
            "6f94c55ae0b240018356e15d2484afcf",
            "693343d5f84b48f3a02d55e10436c2df"
          ]
        },
        "id": "UYEYvwqKmz-V",
        "outputId": "37cbd9d5-5b46-47f5-a277-8a858e4fea56"
      },
      "source": [
        "# ================================================================================\n",
        "# \n",
        "# iterations for epochs\n",
        "#\n",
        "# ================================================================================\n",
        "for i in tqdm(range(number_epoch)):\n",
        "    \n",
        "    # ================================================================================\n",
        "    # \n",
        "    # training\n",
        "    #\n",
        "    # ================================================================================\n",
        "    total_loss_train_epoch      = []\n",
        "    classified_loss_train_epoch = []\n",
        "    decoded_loss_train_epoch    = []\n",
        "    accuracy_train_epoch        = []\n",
        "\n",
        "    autoencoder.train()\n",
        "    classifier.train()\n",
        "\n",
        "    for index_batch, (data, label) in enumerate(dataloader_train):\n",
        "\n",
        "        data_train = data.to(device)\n",
        "        label_train = label.to(device)\n",
        "        \n",
        "        encoded, decoded = autoencoder(data_train)\n",
        "        classified = classifier(encoded)\n",
        "\n",
        "        # classified loss\n",
        "        classified_loss, classfied_loss_value       = compute_entropy_loss(label_train, classified)\n",
        "\n",
        "        # decoded loss\n",
        "        decoded_loss, decoded_loss_value            = compute_mse_loss(data_train, decoded)\n",
        "\n",
        "        # classified accuracy\n",
        "        accuracy_train                              = compute_accuracy(classified, label_train).to(\"cpu\")\n",
        "        accuracy_train = accuracy_train.numpy()\n",
        "\n",
        "        total_loss = classified_loss + decoded_loss * alpha\n",
        "\n",
        "        autoencoder_optimizer.zero_grad()\n",
        "        classifier_optimizer.zero_grad()\n",
        "        \n",
        "        total_loss.backward()\n",
        "\n",
        "        autoencoder_optimizer.step()\n",
        "        classifier_optimizer.step()\n",
        "\n",
        "        total_loss_train_epoch.append(total_loss.item())\n",
        "        classified_loss_train_epoch.append(classfied_loss_value)\n",
        "        decoded_loss_train_epoch.append(decoded_loss_value)\n",
        "        accuracy_train_epoch.append(accuracy_train)\n",
        "        \n",
        "    total_loss_mean_train[i]          = np.mean(total_loss_train_epoch)\n",
        "    total_loss_std_train[i]           = np.std(total_loss_train_epoch)\n",
        "\n",
        "    classified_loss_mean_train[i]     = np.mean(classified_loss_train_epoch)\n",
        "    classified_loss_std_train[i]      = np.std(classified_loss_train_epoch)\n",
        "\n",
        "    decoded_loss_mean_train[i]        = np.mean(decoded_loss_train_epoch)\n",
        "    decoded_loss_std_train[i]         = np.std(decoded_loss_train_epoch)\n",
        "\n",
        "    accuracy_mean_train[i]            = np.mean(accuracy_train_epoch)\n",
        "    accuracy_std_train[i]             = np.std(accuracy_train_epoch)\n",
        "\n",
        "    # ================================================================================\n",
        "    # \n",
        "    # testing\n",
        "    #\n",
        "    # ================================================================================\n",
        "    total_loss_test_epoch      = []\n",
        "    classified_loss_test_epoch = []\n",
        "    decoded_loss_test_epoch    = []\n",
        "    accuracy_test_epoch        = []\n",
        "\n",
        "    with torch.no_grad():\n",
        "        autoencoder.eval()\n",
        "        classifier.eval()\n",
        "\n",
        "    for index_batch, (data, label) in enumerate(dataloader_test):\n",
        "\n",
        "        data_test = data.to(device)\n",
        "        label_test = label.to(device)\n",
        "        \n",
        "        encoded, decoded  = autoencoder(data_test)\n",
        "        classified        = classifier(encoded)\n",
        "\n",
        "        # classified loss\n",
        "        classified_loss, classfied_loss_value       = compute_entropy_loss(label_test, classified)\n",
        "\n",
        "        # decoded loss\n",
        "        decoded_loss, decoded_loss_value            = compute_mse_loss(data_test, decoded)\n",
        "\n",
        "        # classified accuracy\n",
        "        accuracy_test               = compute_accuracy(classified, label_test).to(\"cpu\")\n",
        "        accuracy_test = accuracy_test.numpy()\n",
        "\n",
        "        total_loss = classified_loss + decoded_loss * alpha\n",
        "\n",
        "        total_loss_test_epoch.append(total_loss.item())\n",
        "        classified_loss_test_epoch.append(classfied_loss_value)\n",
        "        decoded_loss_test_epoch.append(decoded_loss_value)\n",
        "        accuracy_test_epoch.append(accuracy_test.item())\n",
        "\n",
        "    total_loss_mean_test[i]      = np.mean(total_loss_test_epoch)\n",
        "    total_loss_std_test[i]       = np.std(total_loss_test_epoch)\n",
        "\n",
        "    classified_loss_mean_test[i]      = np.mean(classified_loss_test_epoch)\n",
        "    classified_loss_std_test[i]       = np.std(classified_loss_test_epoch)\n",
        "\n",
        "    decoded_loss_mean_test[i]      = np.mean(decoded_loss_test_epoch)\n",
        "    decoded_loss_std_test[i]       = np.std(decoded_loss_test_epoch)\n",
        "\n",
        "    accuracy_mean_test[i]  = np.mean(accuracy_test_epoch)\n",
        "    accuracy_std_test[i]   = np.std(accuracy_test_epoch)\n",
        "\n",
        "    print(\"epoch : {}, train >> accuracy {:.8f}, total loss : {:.8f}, classified loss : {:.8f}, decoded loss : {:.8f}\".format(i, accuracy_mean_train[i], total_loss_mean_train[i], classified_loss_mean_train[i], decoded_loss_mean_train[i]))\n",
        "    print(\"epoch : {}, test  >> accuracy {:.8f}, total loss : {:.8f}, classified loss : {:.8f}, decoded loss : {:.8f}\".format(i, accuracy_mean_test[i], total_loss_mean_test[i], classified_loss_mean_test[i], decoded_loss_mean_test[i]))\n",
        "    print()"
      ],
      "execution_count": null,
      "outputs": [
        {
          "output_type": "display_data",
          "data": {
            "application/vnd.jupyter.widget-view+json": {
              "model_id": "f5d0aa6329c2462884983893862659ed",
              "version_minor": 0,
              "version_major": 2
            },
            "text/plain": [
              "  0%|          | 0/1500 [00:00<?, ?it/s]"
            ]
          },
          "metadata": {}
        },
        {
          "output_type": "stream",
          "name": "stdout",
          "text": [
            "epoch : 0, train >> accuracy 62.88194275, total loss : 1.06573153, classified loss : 0.99179515, decoded loss : 0.07393638\n",
            "epoch : 0, test  >> accuracy 73.50852273, total loss : 0.84491618, classified loss : 0.79062835, decoded loss : 0.05428782\n",
            "\n",
            "epoch : 1, train >> accuracy 73.75868225, total loss : 0.79654433, classified loss : 0.74491538, decoded loss : 0.05162895\n",
            "epoch : 1, test  >> accuracy 70.77414773, total loss : 0.91696302, classified loss : 0.86794991, decoded loss : 0.04901311\n",
            "\n",
            "epoch : 2, train >> accuracy 74.49652863, total loss : 0.77548836, classified loss : 0.72736020, decoded loss : 0.04812816\n",
            "epoch : 2, test  >> accuracy 72.30113636, total loss : 0.80456619, classified loss : 0.75715180, decoded loss : 0.04741439\n",
            "\n",
            "epoch : 3, train >> accuracy 75.17361450, total loss : 0.74874395, classified loss : 0.70365850, decoded loss : 0.04508546\n",
            "epoch : 3, test  >> accuracy 75.60369318, total loss : 0.73166353, classified loss : 0.68863315, decoded loss : 0.04303037\n",
            "\n",
            "epoch : 4, train >> accuracy 76.90972137, total loss : 0.69793850, classified loss : 0.65636493, decoded loss : 0.04157357\n",
            "epoch : 4, test  >> accuracy 76.63352273, total loss : 0.68505776, classified loss : 0.64599880, decoded loss : 0.03905897\n",
            "\n",
            "epoch : 5, train >> accuracy 77.42187500, total loss : 0.67550552, classified loss : 0.63624764, decoded loss : 0.03925789\n",
            "epoch : 5, test  >> accuracy 77.94744318, total loss : 0.65438761, classified loss : 0.61589845, decoded loss : 0.03848916\n",
            "\n",
            "epoch : 6, train >> accuracy 77.64756775, total loss : 0.65383747, classified loss : 0.61477778, decoded loss : 0.03905969\n",
            "epoch : 6, test  >> accuracy 77.91193182, total loss : 0.64557076, classified loss : 0.60971958, decoded loss : 0.03585118\n",
            "\n",
            "epoch : 7, train >> accuracy 77.25694275, total loss : 0.65851458, classified loss : 0.62130797, decoded loss : 0.03720661\n",
            "epoch : 7, test  >> accuracy 78.01846591, total loss : 0.64871772, classified loss : 0.61222159, decoded loss : 0.03649614\n",
            "\n",
            "epoch : 8, train >> accuracy 77.98611450, total loss : 0.62821310, classified loss : 0.59286363, decoded loss : 0.03534947\n",
            "epoch : 8, test  >> accuracy 78.55113636, total loss : 0.61562206, classified loss : 0.58235494, decoded loss : 0.03326712\n",
            "\n",
            "epoch : 9, train >> accuracy 78.53298950, total loss : 0.61185068, classified loss : 0.57791408, decoded loss : 0.03393660\n",
            "epoch : 9, test  >> accuracy 77.66335227, total loss : 0.63188576, classified loss : 0.60059219, decoded loss : 0.03129357\n",
            "\n",
            "epoch : 10, train >> accuracy 78.97569275, total loss : 0.60582095, classified loss : 0.57375647, decoded loss : 0.03206449\n",
            "epoch : 10, test  >> accuracy 77.66335227, total loss : 0.62827780, classified loss : 0.59747220, decoded loss : 0.03080560\n",
            "\n",
            "epoch : 11, train >> accuracy 79.38368225, total loss : 0.58394999, classified loss : 0.55300481, decoded loss : 0.03094518\n",
            "epoch : 11, test  >> accuracy 78.90625000, total loss : 0.59511071, classified loss : 0.56521271, decoded loss : 0.02989800\n",
            "\n",
            "epoch : 12, train >> accuracy 79.13194275, total loss : 0.57549146, classified loss : 0.54575106, decoded loss : 0.02974039\n",
            "epoch : 12, test  >> accuracy 77.02414773, total loss : 0.62742415, classified loss : 0.59878569, decoded loss : 0.02863847\n",
            "\n",
            "epoch : 13, train >> accuracy 79.20138550, total loss : 0.57499213, classified loss : 0.54611210, decoded loss : 0.02888003\n",
            "epoch : 13, test  >> accuracy 75.60369318, total loss : 0.58919710, classified loss : 0.56249963, decoded loss : 0.02669747\n",
            "\n",
            "epoch : 14, train >> accuracy 79.09722137, total loss : 0.57784952, classified loss : 0.54976381, decoded loss : 0.02808571\n",
            "epoch : 14, test  >> accuracy 78.37357955, total loss : 0.61353575, classified loss : 0.58535624, decoded loss : 0.02817951\n",
            "\n",
            "epoch : 15, train >> accuracy 78.84548950, total loss : 0.58952955, classified loss : 0.56125790, decoded loss : 0.02827166\n",
            "epoch : 15, test  >> accuracy 78.40909091, total loss : 0.58180020, classified loss : 0.55508212, decoded loss : 0.02671808\n",
            "\n"
          ]
        }
      ]
    },
    {
      "cell_type": "code",
      "source": [
        "!pip install torchviz"
      ],
      "metadata": {
        "id": "51fM_Jv5bFsW"
      },
      "execution_count": null,
      "outputs": []
    },
    {
      "cell_type": "code",
      "source": [
        "from torchviz import make_dot\n",
        "make_dot(classified_loss, params=dict(classifier.named_parameters())).render(f\"graph\", format=\"png\")"
      ],
      "metadata": {
        "id": "kQ0M0CSYaUmg"
      },
      "execution_count": null,
      "outputs": []
    },
    {
      "cell_type": "markdown",
      "metadata": {
        "id": "LULSrZv-UTDz"
      },
      "source": [
        "## Plot 함수"
      ]
    },
    {
      "cell_type": "code",
      "metadata": {
        "id": "08FdiEjDV0kb"
      },
      "source": [
        "def plot_curve_error(data_mean, data_std, x_label, y_label, title):\n",
        "\n",
        "    plt.figure(figsize=(8, 6))\n",
        "    plt.title(title)\n",
        "\n",
        "    alpha = 0.3\n",
        "    \n",
        "    plt.plot(range(len(data_mean)), data_mean, '-', color = 'red')\n",
        "    plt.fill_between(range(len(data_mean)), data_mean - data_std, data_mean + data_std, facecolor = 'blue', alpha = alpha) \n",
        "    \n",
        "    plt.xlabel(x_label)\n",
        "    plt.ylabel(y_label)\n",
        "\n",
        "    plt.tight_layout()\n",
        "    plt.show()"
      ],
      "execution_count": null,
      "outputs": []
    },
    {
      "cell_type": "code",
      "metadata": {
        "id": "9ENxj-BQUZ-7"
      },
      "source": [
        "print('[plot the training loss]')\n",
        "print('') \n",
        "plot_curve_error(loss_mean_train, loss_std_train, 'epoch', 'loss', 'loss (training)')"
      ],
      "execution_count": null,
      "outputs": []
    },
    {
      "cell_type": "code",
      "metadata": {
        "id": "6bqK2U_jWXva"
      },
      "source": [
        "print('[plot the testing loss]')\n",
        "print('') \n",
        "plot_curve_error(loss_mean_test, loss_std_test, 'epoch', 'loss', 'loss (testing)')"
      ],
      "execution_count": null,
      "outputs": []
    },
    {
      "cell_type": "code",
      "metadata": {
        "id": "_J600wqOWgNF"
      },
      "source": [
        "print('[plot the traning accuracy]') \n",
        "print('') \n",
        "plot_curve_error(accuracy_mean_train, accuracy_std_train, 'epoch', 'accuracy', 'Accuracy (training)')"
      ],
      "execution_count": null,
      "outputs": []
    },
    {
      "cell_type": "code",
      "metadata": {
        "id": "TsVmJXxnWIl9"
      },
      "source": [
        "print('[plot the testing accuracy]') \n",
        "print('') \n",
        "plot_curve_error(accuracy_mean_test, accuracy_std_test, 'epoch', 'accuracy', 'Accuracy (testing)')"
      ],
      "execution_count": null,
      "outputs": []
    },
    {
      "cell_type": "code",
      "metadata": {
        "id": "aF8p8kkmUasj"
      },
      "source": [
        ""
      ],
      "execution_count": null,
      "outputs": []
    }
  ]
}