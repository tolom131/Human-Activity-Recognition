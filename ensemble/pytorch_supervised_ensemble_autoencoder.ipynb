{
  "nbformat": 4,
  "nbformat_minor": 0,
  "metadata": {
    "accelerator": "GPU",
    "colab": {
      "name": "supervised ensemble autoencoder.ipynb",
      "provenance": [],
      "collapsed_sections": [],
      "include_colab_link": true
    },
    "interpreter": {
      "hash": "84bbda367bac7e7bffd9b7890a44d65326aaedad40e5a9021c2651157391b1ef"
    },
    "kernelspec": {
      "display_name": "Python 3.8.5 64-bit ('base': conda)",
      "name": "python3"
    },
    "language_info": {
      "codemirror_mode": {
        "name": "ipython",
        "version": 3
      },
      "file_extension": ".py",
      "mimetype": "text/x-python",
      "name": "python",
      "nbconvert_exporter": "python",
      "pygments_lexer": "ipython3",
      "version": "3.8.5"
    },
    "widgets": {
      "application/vnd.jupyter.widget-state+json": {
        "2ef603bc1bef4ecfaa2270e27d23bcf4": {
          "model_module": "@jupyter-widgets/controls",
          "model_name": "HBoxModel",
          "model_module_version": "1.5.0",
          "state": {
            "_view_name": "HBoxView",
            "_dom_classes": [],
            "_model_name": "HBoxModel",
            "_view_module": "@jupyter-widgets/controls",
            "_model_module_version": "1.5.0",
            "_view_count": null,
            "_view_module_version": "1.5.0",
            "box_style": "",
            "layout": "IPY_MODEL_92c9ae4c25ef499b88c9c4573a7dbdc8",
            "_model_module": "@jupyter-widgets/controls",
            "children": [
              "IPY_MODEL_2b61c2f48dcc4dba8d7ef580571b03be",
              "IPY_MODEL_9351dd57c95f46ad867af70ae19f0861",
              "IPY_MODEL_736413220cda488eba77438561ae07a3"
            ]
          }
        },
        "92c9ae4c25ef499b88c9c4573a7dbdc8": {
          "model_module": "@jupyter-widgets/base",
          "model_name": "LayoutModel",
          "model_module_version": "1.2.0",
          "state": {
            "_view_name": "LayoutView",
            "grid_template_rows": null,
            "right": null,
            "justify_content": null,
            "_view_module": "@jupyter-widgets/base",
            "overflow": null,
            "_model_module_version": "1.2.0",
            "_view_count": null,
            "flex_flow": null,
            "width": null,
            "min_width": null,
            "border": null,
            "align_items": null,
            "bottom": null,
            "_model_module": "@jupyter-widgets/base",
            "top": null,
            "grid_column": null,
            "overflow_y": null,
            "overflow_x": null,
            "grid_auto_flow": null,
            "grid_area": null,
            "grid_template_columns": null,
            "flex": null,
            "_model_name": "LayoutModel",
            "justify_items": null,
            "grid_row": null,
            "max_height": null,
            "align_content": null,
            "visibility": null,
            "align_self": null,
            "height": null,
            "min_height": null,
            "padding": null,
            "grid_auto_rows": null,
            "grid_gap": null,
            "max_width": null,
            "order": null,
            "_view_module_version": "1.2.0",
            "grid_template_areas": null,
            "object_position": null,
            "object_fit": null,
            "grid_auto_columns": null,
            "margin": null,
            "display": null,
            "left": null
          }
        },
        "2b61c2f48dcc4dba8d7ef580571b03be": {
          "model_module": "@jupyter-widgets/controls",
          "model_name": "HTMLModel",
          "model_module_version": "1.5.0",
          "state": {
            "_view_name": "HTMLView",
            "style": "IPY_MODEL_6196d5b538c849bd86019c20c9cf43f7",
            "_dom_classes": [],
            "description": "",
            "_model_name": "HTMLModel",
            "placeholder": "​",
            "_view_module": "@jupyter-widgets/controls",
            "_model_module_version": "1.5.0",
            "value": "  3%",
            "_view_count": null,
            "_view_module_version": "1.5.0",
            "description_tooltip": null,
            "_model_module": "@jupyter-widgets/controls",
            "layout": "IPY_MODEL_11b05b1288cc4a9a86184d8c361c5d79"
          }
        },
        "9351dd57c95f46ad867af70ae19f0861": {
          "model_module": "@jupyter-widgets/controls",
          "model_name": "FloatProgressModel",
          "model_module_version": "1.5.0",
          "state": {
            "_view_name": "ProgressView",
            "style": "IPY_MODEL_c8815abc88bd43979ac8b00a5f9ddafb",
            "_dom_classes": [],
            "description": "",
            "_model_name": "FloatProgressModel",
            "bar_style": "",
            "max": 1500,
            "_view_module": "@jupyter-widgets/controls",
            "_model_module_version": "1.5.0",
            "value": 50,
            "_view_count": null,
            "_view_module_version": "1.5.0",
            "orientation": "horizontal",
            "min": 0,
            "description_tooltip": null,
            "_model_module": "@jupyter-widgets/controls",
            "layout": "IPY_MODEL_7cb607494a3b4bfd9a83859a4f513203"
          }
        },
        "736413220cda488eba77438561ae07a3": {
          "model_module": "@jupyter-widgets/controls",
          "model_name": "HTMLModel",
          "model_module_version": "1.5.0",
          "state": {
            "_view_name": "HTMLView",
            "style": "IPY_MODEL_b8b6dcc42e7b4c0296ded5c8204a3e71",
            "_dom_classes": [],
            "description": "",
            "_model_name": "HTMLModel",
            "placeholder": "​",
            "_view_module": "@jupyter-widgets/controls",
            "_model_module_version": "1.5.0",
            "value": " 50/1500 [08:11&lt;3:57:44,  9.84s/it]",
            "_view_count": null,
            "_view_module_version": "1.5.0",
            "description_tooltip": null,
            "_model_module": "@jupyter-widgets/controls",
            "layout": "IPY_MODEL_86d55c80ad624bf6a152ee8571ec5bd1"
          }
        },
        "6196d5b538c849bd86019c20c9cf43f7": {
          "model_module": "@jupyter-widgets/controls",
          "model_name": "DescriptionStyleModel",
          "model_module_version": "1.5.0",
          "state": {
            "_view_name": "StyleView",
            "_model_name": "DescriptionStyleModel",
            "description_width": "",
            "_view_module": "@jupyter-widgets/base",
            "_model_module_version": "1.5.0",
            "_view_count": null,
            "_view_module_version": "1.2.0",
            "_model_module": "@jupyter-widgets/controls"
          }
        },
        "11b05b1288cc4a9a86184d8c361c5d79": {
          "model_module": "@jupyter-widgets/base",
          "model_name": "LayoutModel",
          "model_module_version": "1.2.0",
          "state": {
            "_view_name": "LayoutView",
            "grid_template_rows": null,
            "right": null,
            "justify_content": null,
            "_view_module": "@jupyter-widgets/base",
            "overflow": null,
            "_model_module_version": "1.2.0",
            "_view_count": null,
            "flex_flow": null,
            "width": null,
            "min_width": null,
            "border": null,
            "align_items": null,
            "bottom": null,
            "_model_module": "@jupyter-widgets/base",
            "top": null,
            "grid_column": null,
            "overflow_y": null,
            "overflow_x": null,
            "grid_auto_flow": null,
            "grid_area": null,
            "grid_template_columns": null,
            "flex": null,
            "_model_name": "LayoutModel",
            "justify_items": null,
            "grid_row": null,
            "max_height": null,
            "align_content": null,
            "visibility": null,
            "align_self": null,
            "height": null,
            "min_height": null,
            "padding": null,
            "grid_auto_rows": null,
            "grid_gap": null,
            "max_width": null,
            "order": null,
            "_view_module_version": "1.2.0",
            "grid_template_areas": null,
            "object_position": null,
            "object_fit": null,
            "grid_auto_columns": null,
            "margin": null,
            "display": null,
            "left": null
          }
        },
        "c8815abc88bd43979ac8b00a5f9ddafb": {
          "model_module": "@jupyter-widgets/controls",
          "model_name": "ProgressStyleModel",
          "model_module_version": "1.5.0",
          "state": {
            "_view_name": "StyleView",
            "_model_name": "ProgressStyleModel",
            "description_width": "",
            "_view_module": "@jupyter-widgets/base",
            "_model_module_version": "1.5.0",
            "_view_count": null,
            "_view_module_version": "1.2.0",
            "bar_color": null,
            "_model_module": "@jupyter-widgets/controls"
          }
        },
        "7cb607494a3b4bfd9a83859a4f513203": {
          "model_module": "@jupyter-widgets/base",
          "model_name": "LayoutModel",
          "model_module_version": "1.2.0",
          "state": {
            "_view_name": "LayoutView",
            "grid_template_rows": null,
            "right": null,
            "justify_content": null,
            "_view_module": "@jupyter-widgets/base",
            "overflow": null,
            "_model_module_version": "1.2.0",
            "_view_count": null,
            "flex_flow": null,
            "width": null,
            "min_width": null,
            "border": null,
            "align_items": null,
            "bottom": null,
            "_model_module": "@jupyter-widgets/base",
            "top": null,
            "grid_column": null,
            "overflow_y": null,
            "overflow_x": null,
            "grid_auto_flow": null,
            "grid_area": null,
            "grid_template_columns": null,
            "flex": null,
            "_model_name": "LayoutModel",
            "justify_items": null,
            "grid_row": null,
            "max_height": null,
            "align_content": null,
            "visibility": null,
            "align_self": null,
            "height": null,
            "min_height": null,
            "padding": null,
            "grid_auto_rows": null,
            "grid_gap": null,
            "max_width": null,
            "order": null,
            "_view_module_version": "1.2.0",
            "grid_template_areas": null,
            "object_position": null,
            "object_fit": null,
            "grid_auto_columns": null,
            "margin": null,
            "display": null,
            "left": null
          }
        },
        "b8b6dcc42e7b4c0296ded5c8204a3e71": {
          "model_module": "@jupyter-widgets/controls",
          "model_name": "DescriptionStyleModel",
          "model_module_version": "1.5.0",
          "state": {
            "_view_name": "StyleView",
            "_model_name": "DescriptionStyleModel",
            "description_width": "",
            "_view_module": "@jupyter-widgets/base",
            "_model_module_version": "1.5.0",
            "_view_count": null,
            "_view_module_version": "1.2.0",
            "_model_module": "@jupyter-widgets/controls"
          }
        },
        "86d55c80ad624bf6a152ee8571ec5bd1": {
          "model_module": "@jupyter-widgets/base",
          "model_name": "LayoutModel",
          "model_module_version": "1.2.0",
          "state": {
            "_view_name": "LayoutView",
            "grid_template_rows": null,
            "right": null,
            "justify_content": null,
            "_view_module": "@jupyter-widgets/base",
            "overflow": null,
            "_model_module_version": "1.2.0",
            "_view_count": null,
            "flex_flow": null,
            "width": null,
            "min_width": null,
            "border": null,
            "align_items": null,
            "bottom": null,
            "_model_module": "@jupyter-widgets/base",
            "top": null,
            "grid_column": null,
            "overflow_y": null,
            "overflow_x": null,
            "grid_auto_flow": null,
            "grid_area": null,
            "grid_template_columns": null,
            "flex": null,
            "_model_name": "LayoutModel",
            "justify_items": null,
            "grid_row": null,
            "max_height": null,
            "align_content": null,
            "visibility": null,
            "align_self": null,
            "height": null,
            "min_height": null,
            "padding": null,
            "grid_auto_rows": null,
            "grid_gap": null,
            "max_width": null,
            "order": null,
            "_view_module_version": "1.2.0",
            "grid_template_areas": null,
            "object_position": null,
            "object_fit": null,
            "grid_auto_columns": null,
            "margin": null,
            "display": null,
            "left": null
          }
        }
      }
    }
  },
  "cells": [
    {
      "cell_type": "markdown",
      "metadata": {
        "id": "view-in-github",
        "colab_type": "text"
      },
      "source": [
        "<a href=\"https://colab.research.google.com/github/tolom131/Human-Activity-Recognition/blob/main/ensemble/pytorch_supervised_ensemble_autoencoder.ipynb\" target=\"_parent\"><img src=\"https://colab.research.google.com/assets/colab-badge.svg\" alt=\"Open In Colab\"/></a>"
      ]
    },
    {
      "cell_type": "markdown",
      "metadata": {
        "id": "AQGQXmOpA9J-"
      },
      "source": [
        "# Unsupervised image denoising"
      ]
    },
    {
      "cell_type": "markdown",
      "metadata": {
        "id": "TGBcGR2LA9KI"
      },
      "source": [
        "## Import libraries"
      ]
    },
    {
      "cell_type": "code",
      "metadata": {
        "id": "NNpI2DZ6A9KJ"
      },
      "source": [
        "import torch\n",
        "import torchvision\n",
        "import torchvision.transforms as transforms\n",
        "from torch.utils.data import Dataset\n",
        "from os import listdir\n",
        "from os.path import join\n",
        "from torchvision.transforms import Compose, ToTensor, ToPILImage, Resize, Lambda, Normalize, Grayscale\n",
        "from torch.utils.data import DataLoader\n",
        "from PIL import Image\n",
        "import matplotlib.pyplot as plt\n",
        "import numpy as np\n",
        "import torch.nn as nn\n",
        "import torch.nn.functional as F\n",
        "import torch.optim as optim\n",
        "from math import log10\n",
        "from tqdm.notebook import tqdm\n",
        "import os\n",
        "import math\n",
        "import torch as tf"
      ],
      "execution_count": 1,
      "outputs": []
    },
    {
      "cell_type": "markdown",
      "metadata": {
        "id": "20TiZsA_A9KO"
      },
      "source": [
        "## Hyper parameters"
      ]
    },
    {
      "cell_type": "code",
      "metadata": {
        "id": "KtDynD4nA9KP"
      },
      "source": [
        "device        = torch.device('cuda' if torch.cuda.is_available() else 'cpu')\n",
        "\n",
        "# ==================================================\n",
        "# determine optimal hyper-parameters to obtain best testing performance\n",
        "number_epoch    = 1500\n",
        "size_minibatch  = 128\n",
        "learning_rate   = 0.01\n",
        "alpha = 0.9\n",
        "warmup = 100\n",
        "# =================================================="
      ],
      "execution_count": 2,
      "outputs": []
    },
    {
      "cell_type": "code",
      "metadata": {
        "colab": {
          "base_uri": "https://localhost:8080/"
        },
        "id": "9FriR4w79i_Z",
        "outputId": "6e2ba037-fb87-4d69-b94c-eab6d656cb1b"
      },
      "source": [
        "from google.colab import drive \n",
        "drive.mount('/content/drive/')\n",
        "\n",
        "directory_data  = './drive/MyDrive/HAR/'\n",
        "filename_data   = 'WISDM_at_v2.0_raw.txt'\n",
        "\n",
        "import sys\n",
        "sys.path.append('/content/drive/MyDrive/HAR/')\n",
        "import wisdm_1_1\n",
        "import wisdm_2_0\n",
        "origianl_x, original_y, num_classes = wisdm_1_1.create_wisdm_1_1(directory_data + filename_data)\n",
        "#origianl_x, original_y, num_classes = wisdm_2_0.create_wisdm_2_0(directory_data + filename_data)"
      ],
      "execution_count": 3,
      "outputs": [
        {
          "output_type": "stream",
          "name": "stdout",
          "text": [
            "Drive already mounted at /content/drive/; to attempt to forcibly remount, call drive.mount(\"/content/drive/\", force_remount=True).\n"
          ]
        },
        {
          "output_type": "stream",
          "name": "stderr",
          "text": [
            "/usr/local/lib/python3.7/dist-packages/IPython/core/interactiveshell.py:2882: DtypeWarning: Columns (2) have mixed types.Specify dtype option on import or set low_memory=False.\n",
            "  exec(code_obj, self.user_global_ns, self.user_ns)\n"
          ]
        },
        {
          "output_type": "stream",
          "name": "stdout",
          "text": [
            "x_train.shape :  (14423, 200, 3) y_train.shape:  (14423, 6)\n"
          ]
        }
      ]
    },
    {
      "cell_type": "code",
      "metadata": {
        "id": "0IsbQDqQ9mCD"
      },
      "source": [
        "from sklearn.model_selection import train_test_split\n",
        "x_train, x_test, y_train, y_test = train_test_split(origianl_x, original_y, random_state=42, stratify=original_y, test_size=0.2)"
      ],
      "execution_count": 4,
      "outputs": []
    },
    {
      "cell_type": "markdown",
      "metadata": {
        "id": "9AbHCZPpA9KR"
      },
      "source": [
        "## Costumize dataloader for pytorch"
      ]
    },
    {
      "cell_type": "code",
      "metadata": {
        "id": "1UveCjrBA9KS"
      },
      "source": [
        "class dataset (Dataset):\n",
        "    def  __init__(self, data, label):\n",
        "\n",
        "        self.data    = data\n",
        "        self.label    = label\n",
        "            \n",
        "    def __getitem__(self, index):\n",
        "\n",
        "        data    = self.data[index]\n",
        "        label   = self.label[index]\n",
        "        return (data, label)\n",
        "\n",
        "    def __len__(self):\n",
        "        return self.data.shape[0]"
      ],
      "execution_count": 5,
      "outputs": []
    },
    {
      "cell_type": "markdown",
      "metadata": {
        "id": "357alwWgA9KU"
      },
      "source": [
        "## Construct datasets and dataloaders for training and testing"
      ]
    },
    {
      "cell_type": "code",
      "metadata": {
        "id": "b7JDqjSVA9KU"
      },
      "source": [
        "## transformer를 통과하기 위해 데이터 shape 변경\n",
        "# x_train = x_train.reshape(-1, x_train.shape[2], x_train.shape[1])\n",
        "# x_test = x_test.reshape(-1, x_test.shape[2], x_test.shape[1])\n",
        "x_train = tf.FloatTensor(x_train)\n",
        "x_test = tf.FloatTensor(x_test)\n",
        "x_train = x_train.permute(0, 2, 1)\n",
        "x_test = x_test.permute(0, 2, 1)\n",
        "\n",
        "dataset_train = dataset(x_train, y_train) \n",
        "dataset_test  = dataset(x_test, y_test) \n",
        "\n",
        "dataloader_train = DataLoader(dataset_train, batch_size=size_minibatch, shuffle=True, drop_last=True, num_workers=2)\n",
        "dataloader_test  = DataLoader(dataset_test,  batch_size=size_minibatch, shuffle=False, drop_last=True, num_workers=2) "
      ],
      "execution_count": 6,
      "outputs": []
    },
    {
      "cell_type": "markdown",
      "metadata": {
        "id": "5Yn9jMLrA9KX"
      },
      "source": [
        "## Class for the neural network"
      ]
    },
    {
      "cell_type": "code",
      "metadata": {
        "id": "htsiFor1QWwT"
      },
      "source": [
        "class Classifier(nn.Module):\n",
        "    def __init__(self, dim, channel, num_classes, is_alone=False):\n",
        "        super(Classifier, self).__init__()\n",
        "        \n",
        "        if is_alone:\n",
        "            self.dim = dim\n",
        "            self.channel = channel\n",
        "            self.num_classes = num_classes\n",
        "        else:\n",
        "            self.dim = dim\n",
        "            self.channel = channel\n",
        "            self.num_classes = num_classes\n",
        "\n",
        "        # original inputs shape : [batch_size, channel, dim]\n",
        "        # classifier inputs shape : [batch_size, channel*80, dim//8]\n",
        "\n",
        "        self.conv1 = nn.Conv1d(self.channel, 512, kernel_size=3, padding=1, stride=1)\n",
        "        self.batch1 = nn.BatchNorm1d(512)\n",
        "        self.relu1 = nn.ReLU()\n",
        "\n",
        "        self.conv2 = nn.Conv1d(512, 1024, kernel_size=3, padding=1, stride=1)\n",
        "        self.batch2 = nn.BatchNorm1d(1024)\n",
        "        self.relu2 = nn.ReLU()\n",
        "        \n",
        "        self.lstm = nn.LSTM(25, 128, batch_first=True)\n",
        "        self.classifier = nn.Linear(128, self.num_classes)\n",
        "        self.softmax = nn.Softmax(dim=1)\n",
        "\n",
        "    def forward(self, inputs):\n",
        "\n",
        "        x = self.conv1(inputs)\n",
        "        x = self.batch1(x)\n",
        "        #print(x.size())\n",
        "        x = self.relu1(x)\n",
        "        #print(x.size())\n",
        "        x = self.conv2(x)\n",
        "        #print(x.size())\n",
        "        x = self.batch2(x)\n",
        "        #print(x.size())\n",
        "        x = self.relu2(x)\n",
        "        #print(\"before LSTM : \", x.size())\n",
        "        x, _ = self.lstm(x)\n",
        "        #print(\"after LSTM : \", x.size())\n",
        "        x = x[:, -1, :]\n",
        "        #print(\"after -1 \" , x.size())\n",
        "        x = self.classifier(x)\n",
        "        #print(x.size())\n",
        "        return x  "
      ],
      "execution_count": 7,
      "outputs": []
    },
    {
      "cell_type": "code",
      "metadata": {
        "id": "pe1o7K7dMbwi"
      },
      "source": [
        "class SAE(nn.Module):\n",
        "    def __init__(self):\n",
        "        super(SAE, self).__init__()\n",
        "\n",
        "        def CBR2d(in_channels, out_channels, kernel_size=3, stride=1, padding=1, bias=True):\n",
        "            layers =  []\n",
        "            layers += [nn.Conv1d(in_channels=in_channels, out_channels=out_channels, kernel_size=kernel_size, stride=stride, padding=padding, bias=bias)]\n",
        "            layers += [nn.BatchNorm1d(num_features=out_channels)]\n",
        "            layers += [nn.ReLU()]\n",
        "\n",
        "            cbr = nn.Sequential(*layers)\n",
        "\n",
        "            return cbr\n",
        "\n",
        "        # Contracting path\n",
        "        self.encoder_layers = [CBR2d(in_channels=3, out_channels=64), nn.MaxPool1d(kernel_size=2), CBR2d(in_channels=64, out_channels=128), \n",
        "                          nn.MaxPool1d(kernel_size=2), CBR2d(in_channels=128, out_channels=256), nn.MaxPool1d(kernel_size=2)]\n",
        "        self.encoder = nn.Sequential(*self.encoder_layers)\n",
        "\n",
        "        # Expansive path\n",
        "        self.decoder_layers = [CBR2d(in_channels=256, out_channels=128), nn.ConvTranspose1d(in_channels=128, out_channels=128, kernel_size=2, stride=2, padding=0, bias=True),\n",
        "                               CBR2d(in_channels=128, out_channels=64), nn.ConvTranspose1d(in_channels=64, out_channels=64, kernel_size=2, stride=2, padding=0, bias=True),\n",
        "                               CBR2d(in_channels=64,  out_channels=3), nn.ConvTranspose1d(in_channels=3, out_channels=3, kernel_size=2, stride=2, padding=0, bias=True)]\n",
        "        self.decoder = nn.Sequential(*self.decoder_layers)\n",
        "     \n",
        "    def forward(self, x):\n",
        "        \n",
        "        encoded = self.encoder(x)\n",
        "        decoded = self.decoder(encoded)\n",
        "\n",
        "        return encoded, decoded"
      ],
      "execution_count": 8,
      "outputs": []
    },
    {
      "cell_type": "code",
      "source": [
        "# from torchsummary import summary as summary_\n",
        "# sae = SAE().to(device)\n",
        "# summary_(sae, (3, 200))"
      ],
      "metadata": {
        "id": "TSulRfCBNCM0"
      },
      "execution_count": 9,
      "outputs": []
    },
    {
      "cell_type": "markdown",
      "metadata": {
        "id": "Uig2PSDaTDu6"
      },
      "source": [
        "## model summary 용"
      ]
    },
    {
      "cell_type": "markdown",
      "metadata": {
        "id": "h8DSwKtMOqBH"
      },
      "source": [
        "## 모델링 과정을 위해 필요한 함수 정의"
      ]
    },
    {
      "cell_type": "code",
      "metadata": {
        "id": "yA0KNRpEnnN6"
      },
      "source": [
        "def compute_mse_loss(input, prediction):\n",
        "    \n",
        "    mse = nn.MSELoss()\n",
        "    \n",
        "    # ==================================================\n",
        "    # fill up the blank\n",
        "    loss_mse = mse(prediction, input)\n",
        "    # ==================================================\n",
        "    \n",
        "    loss_mse_value = loss_mse.item() \n",
        "    \n",
        "    return loss_mse, loss_mse_value"
      ],
      "execution_count": 10,
      "outputs": []
    },
    {
      "cell_type": "code",
      "metadata": {
        "id": "mT9FgvXjcVBB"
      },
      "source": [
        "def compute_entropy_loss(inputs, prediction):\n",
        "    # inputs : label_train ,prediction : classified\n",
        "    inputs = torch.argmax(inputs, 1)\n",
        "    cross = nn.CrossEntropyLoss()\n",
        "\n",
        "    loss_cross = cross(prediction, inputs)\n",
        "\n",
        "    loss_cross_value = loss_cross.item()\n",
        "    return loss_cross, loss_cross_value"
      ],
      "execution_count": 11,
      "outputs": []
    },
    {
      "cell_type": "code",
      "metadata": {
        "id": "YlSY2TrROn6W"
      },
      "source": [
        "def compute_accuracy(prediction, label):\n",
        "    # ================================================================================ \n",
        "    # complete the function body\n",
        "    b_Prediction = torch.argmax(prediction, 1)\n",
        "    b_label = torch.argmax(label, 1)\n",
        "    bCorrect = (b_Prediction == b_label)\n",
        "    accuracy = bCorrect.float().mean() * 100\n",
        "    # ================================================================================ \n",
        "\n",
        "    return accuracy"
      ],
      "execution_count": 12,
      "outputs": []
    },
    {
      "cell_type": "markdown",
      "metadata": {
        "id": "3DYCbEtyPHW5"
      },
      "source": [
        "## 모델링 과정 정리를 위한 배열"
      ]
    },
    {
      "cell_type": "code",
      "metadata": {
        "id": "U2GV2m67PGMD"
      },
      "source": [
        "total_loss_mean_train     = np.zeros(number_epoch)\n",
        "total_loss_std_train      = np.zeros(number_epoch)\n",
        "\n",
        "classified_loss_mean_train     = np.zeros(number_epoch)\n",
        "classified_loss_std_train      = np.zeros(number_epoch)\n",
        "\n",
        "decoded_loss_mean_train     = np.zeros(number_epoch)\n",
        "decoded_loss_std_train      = np.zeros(number_epoch)\n",
        "\n",
        "accuracy_mean_train = np.zeros(number_epoch)\n",
        "accuracy_std_train  = np.zeros(number_epoch)"
      ],
      "execution_count": 13,
      "outputs": []
    },
    {
      "cell_type": "code",
      "source": [
        "total_loss_mean_test     = np.zeros(number_epoch)\n",
        "total_loss_std_test      = np.zeros(number_epoch)\n",
        "\n",
        "classified_loss_mean_test     = np.zeros(number_epoch)\n",
        "classified_loss_std_test      = np.zeros(number_epoch)\n",
        "\n",
        "decoded_loss_mean_test    = np.zeros(number_epoch)\n",
        "decoded_loss_std_test      = np.zeros(number_epoch)\n",
        "\n",
        "accuracy_mean_test = np.zeros(number_epoch)\n",
        "accuracy_std_test  = np.zeros(number_epoch)"
      ],
      "metadata": {
        "id": "siA03vcV98ln"
      },
      "execution_count": 14,
      "outputs": []
    },
    {
      "cell_type": "markdown",
      "metadata": {
        "id": "tTptbDGZA9KZ"
      },
      "source": [
        "## Build the network"
      ]
    },
    {
      "cell_type": "code",
      "metadata": {
        "id": "qzsj97WB3_tq"
      },
      "source": [
        "autoencoder = SAE().to(device)\n",
        "classifier = Classifier(25, 256, 6).to(device)\n",
        "autoencoder_optimizer = torch.optim.Adam(autoencoder.parameters(), lr=learning_rate)\n",
        "classifier_optimizer = torch.optim.Adam(classifier.parameters(), lr=learning_rate)"
      ],
      "execution_count": 15,
      "outputs": []
    },
    {
      "cell_type": "markdown",
      "metadata": {
        "id": "2NKn_pSx3L0H"
      },
      "source": [
        "## Autoencoder"
      ]
    },
    {
      "cell_type": "code",
      "metadata": {
        "colab": {
          "base_uri": "https://localhost:8080/",
          "height": 1000,
          "referenced_widgets": [
            "2ef603bc1bef4ecfaa2270e27d23bcf4",
            "92c9ae4c25ef499b88c9c4573a7dbdc8",
            "2b61c2f48dcc4dba8d7ef580571b03be",
            "9351dd57c95f46ad867af70ae19f0861",
            "736413220cda488eba77438561ae07a3",
            "6196d5b538c849bd86019c20c9cf43f7",
            "11b05b1288cc4a9a86184d8c361c5d79",
            "c8815abc88bd43979ac8b00a5f9ddafb",
            "7cb607494a3b4bfd9a83859a4f513203",
            "b8b6dcc42e7b4c0296ded5c8204a3e71",
            "86d55c80ad624bf6a152ee8571ec5bd1"
          ]
        },
        "id": "UYEYvwqKmz-V",
        "outputId": "3cc597eb-ff48-4f8a-d5b9-8b017bc35968"
      },
      "source": [
        "# ================================================================================\n",
        "# \n",
        "# iterations for epochs\n",
        "#\n",
        "# ================================================================================\n",
        "for i in tqdm(range(number_epoch)):\n",
        "    \n",
        "    # ================================================================================\n",
        "    # \n",
        "    # training\n",
        "    #\n",
        "    # ================================================================================\n",
        "    total_loss_train_epoch      = []\n",
        "    classified_loss_train_epoch = []\n",
        "    decoded_loss_train_epoch    = []\n",
        "    accuracy_train_epoch        = []\n",
        "\n",
        "    autoencoder.train()\n",
        "    classifier.train()\n",
        "\n",
        "    for index_batch, (data, label) in enumerate(dataloader_train):\n",
        "\n",
        "        data_train = data.to(device)\n",
        "        label_train = label.to(device)\n",
        "        \n",
        "        encoded, decoded = autoencoder(data_train)\n",
        "        classified = classifier(encoded)\n",
        "\n",
        "        # classified loss\n",
        "        classified_loss, classfied_loss_value       = compute_entropy_loss(label_train, classified)\n",
        "\n",
        "        # decoded loss\n",
        "        decoded_loss, decoded_loss_value            = compute_mse_loss(data_train, decoded)\n",
        "\n",
        "        # classified accuracy\n",
        "        accuracy_train                              = compute_accuracy(classified, label_train).to(\"cpu\")\n",
        "        accuracy_train = accuracy_train.numpy()\n",
        "\n",
        "        total_loss = classified_loss * 0.1 * pow(1.01, min(i, 232)) + decoded_loss\n",
        "\n",
        "        autoencoder_optimizer.zero_grad()\n",
        "        classifier_optimizer.zero_grad()\n",
        "        \n",
        "        total_loss.backward()\n",
        "\n",
        "        autoencoder_optimizer.step()\n",
        "        classifier_optimizer.step()\n",
        "\n",
        "        total_loss_train_epoch.append(total_loss.item())\n",
        "        classified_loss_train_epoch.append(classfied_loss_value)\n",
        "        decoded_loss_train_epoch.append(decoded_loss_value)\n",
        "        accuracy_train_epoch.append(accuracy_train)\n",
        "        \n",
        "    total_loss_mean_train[i]          = np.mean(total_loss_train_epoch)\n",
        "    total_loss_std_train[i]           = np.std(total_loss_train_epoch)\n",
        "\n",
        "    classified_loss_mean_train[i]     = np.mean(classified_loss_train_epoch)\n",
        "    classified_loss_std_train[i]      = np.std(classified_loss_train_epoch)\n",
        "\n",
        "    decoded_loss_mean_train[i]        = np.mean(decoded_loss_train_epoch)\n",
        "    decoded_loss_std_train[i]         = np.std(decoded_loss_train_epoch)\n",
        "\n",
        "    accuracy_mean_train[i]            = np.mean(accuracy_train_epoch)\n",
        "    accuracy_std_train[i]             = np.std(accuracy_train_epoch)\n",
        "\n",
        "    # ================================================================================\n",
        "    # \n",
        "    # testing\n",
        "    #\n",
        "    # ================================================================================\n",
        "    total_loss_test_epoch      = []\n",
        "    classified_loss_test_epoch = []\n",
        "    decoded_loss_test_epoch    = []\n",
        "    accuracy_test_epoch        = []\n",
        "\n",
        "    with torch.no_grad():\n",
        "        autoencoder.eval()\n",
        "        classifier.eval()\n",
        "\n",
        "    for index_batch, (data, label) in enumerate(dataloader_test):\n",
        "\n",
        "        data_test = data.to(device)\n",
        "        label_test = label.to(device)\n",
        "        \n",
        "        encoded, decoded  = autoencoder(data_test)\n",
        "        classified        = classifier(encoded)\n",
        "\n",
        "        # classified loss\n",
        "        classified_loss, classfied_loss_value       = compute_entropy_loss(label_test, classified)\n",
        "\n",
        "        # decoded loss\n",
        "        decoded_loss, decoded_loss_value            = compute_mse_loss(data_test, decoded)\n",
        "\n",
        "        # classified accuracy\n",
        "        accuracy_test               = compute_accuracy(classified, label_test).to(\"cpu\")\n",
        "        accuracy_test = accuracy_test.numpy()\n",
        "\n",
        "        total_loss = classified_loss * 0.1 * pow(1.01, min(i, 232)) + decoded_loss\n",
        "\n",
        "        total_loss_test_epoch.append(total_loss.item())\n",
        "        classified_loss_test_epoch.append(classfied_loss_value)\n",
        "        decoded_loss_test_epoch.append(decoded_loss_value)\n",
        "        accuracy_test_epoch.append(accuracy_test.item())\n",
        "\n",
        "    total_loss_mean_test[i]      = np.mean(total_loss_test_epoch)\n",
        "    total_loss_std_test[i]       = np.std(total_loss_test_epoch)\n",
        "\n",
        "    classified_loss_mean_test[i]      = np.mean(classified_loss_test_epoch)\n",
        "    classified_loss_std_test[i]       = np.std(classified_loss_test_epoch)\n",
        "\n",
        "    decoded_loss_mean_test[i]      = np.mean(decoded_loss_test_epoch)\n",
        "    decoded_loss_std_test[i]       = np.std(decoded_loss_test_epoch)\n",
        "\n",
        "    accuracy_mean_test[i]  = np.mean(accuracy_test_epoch)\n",
        "    accuracy_std_test[i]   = np.std(accuracy_test_epoch)\n",
        "\n",
        "    print(\"epoch : {}, train >> accuracy {:.8f}, total loss : {:.8f}, classified loss : {:.8f}, decoded loss : {:.8f}\".format(i, accuracy_mean_train[i], total_loss_mean_train[i], classified_loss_mean_train[i], decoded_loss_mean_train[i]))\n",
        "    print(\"epoch : {}, test  >> accuracy {:.8f}, total loss : {:.8f}, classified loss : {:.8f}, decoded loss : {:.8f}\".format(i, accuracy_mean_test[i], total_loss_mean_test[i], classified_loss_mean_test[i], decoded_loss_mean_test[i]))\n",
        "    print()"
      ],
      "execution_count": null,
      "outputs": [
        {
          "output_type": "display_data",
          "data": {
            "application/vnd.jupyter.widget-view+json": {
              "model_id": "2ef603bc1bef4ecfaa2270e27d23bcf4",
              "version_minor": 0,
              "version_major": 2
            },
            "text/plain": [
              "  0%|          | 0/1500 [00:00<?, ?it/s]"
            ]
          },
          "metadata": {}
        },
        {
          "output_type": "stream",
          "name": "stdout",
          "text": [
            "epoch : 0, train >> accuracy 65.29513550, total loss : 0.16739860, classified loss : 0.95933520, decoded loss : 0.07146508\n",
            "epoch : 0, test  >> accuracy 71.83948864, total loss : 0.13488764, classified loss : 0.79391491, decoded loss : 0.05549615\n",
            "\n",
            "epoch : 1, train >> accuracy 73.42013550, total loss : 0.12815195, classified loss : 0.75177854, decoded loss : 0.05222232\n",
            "epoch : 1, test  >> accuracy 66.97443182, total loss : 0.14276712, classified loss : 0.93900834, decoded loss : 0.04792728\n",
            "\n",
            "epoch : 2, train >> accuracy 75.89409637, total loss : 0.11383931, classified loss : 0.68052850, decoded loss : 0.04441860\n",
            "epoch : 2, test  >> accuracy 76.31392045, total loss : 0.11045961, classified loss : 0.67652591, decoded loss : 0.04144720\n",
            "\n",
            "epoch : 3, train >> accuracy 75.40798950, total loss : 0.11501261, classified loss : 0.70062193, decoded loss : 0.04282747\n",
            "epoch : 3, test  >> accuracy 75.24857955, total loss : 0.11161455, classified loss : 0.68943348, decoded loss : 0.04058215\n",
            "\n",
            "epoch : 4, train >> accuracy 77.75173950, total loss : 0.10677755, classified loss : 0.63756379, decoded loss : 0.04043241\n",
            "epoch : 4, test  >> accuracy 78.23153409, total loss : 0.10410607, classified loss : 0.63464534, decoded loss : 0.03806462\n",
            "\n",
            "epoch : 5, train >> accuracy 78.47222137, total loss : 0.10404967, classified loss : 0.62258003, decoded loss : 0.03861588\n",
            "epoch : 5, test  >> accuracy 77.16619318, total loss : 0.10286553, classified loss : 0.62999230, decoded loss : 0.03665271\n",
            "\n",
            "epoch : 6, train >> accuracy 78.83680725, total loss : 0.10017785, classified loss : 0.59659887, decoded loss : 0.03684768\n",
            "epoch : 6, test  >> accuracy 78.76420455, total loss : 0.09611901, classified loss : 0.58448428, decoded loss : 0.03407483\n",
            "\n",
            "epoch : 7, train >> accuracy 77.99478912, total loss : 0.09848987, classified loss : 0.60678034, decoded loss : 0.03343480\n",
            "epoch : 7, test  >> accuracy 78.16051136, total loss : 0.09340475, classified loss : 0.59129729, decoded loss : 0.03000968\n",
            "\n",
            "epoch : 8, train >> accuracy 79.08853912, total loss : 0.09228680, classified loss : 0.56893594, decoded loss : 0.03067920\n",
            "epoch : 8, test  >> accuracy 77.69886364, total loss : 0.09347749, classified loss : 0.59102045, decoded loss : 0.02947844\n",
            "\n",
            "epoch : 9, train >> accuracy 79.36631775, total loss : 0.09024236, classified loss : 0.55404354, decoded loss : 0.02964743\n",
            "epoch : 9, test  >> accuracy 78.72869318, total loss : 0.08951982, classified loss : 0.56140761, decoded loss : 0.02811950\n",
            "\n",
            "epoch : 10, train >> accuracy 78.95833588, total loss : 0.09050711, classified loss : 0.55858112, decoded loss : 0.02880501\n",
            "epoch : 10, test  >> accuracy 78.62215909, total loss : 0.08940920, classified loss : 0.56167621, decoded loss : 0.02736520\n",
            "\n",
            "epoch : 11, train >> accuracy 79.43576050, total loss : 0.08849938, classified loss : 0.54323355, decoded loss : 0.02789254\n",
            "epoch : 11, test  >> accuracy 76.24289773, total loss : 0.09302358, classified loss : 0.59786124, decoded loss : 0.02632210\n",
            "\n",
            "epoch : 12, train >> accuracy 79.13194275, total loss : 0.08929774, classified loss : 0.55219179, decoded loss : 0.02707539\n",
            "epoch : 12, test  >> accuracy 77.94744318, total loss : 0.09285276, classified loss : 0.58923566, decoded loss : 0.02645621\n",
            "\n",
            "epoch : 13, train >> accuracy 79.08853912, total loss : 0.08504780, classified loss : 0.53431426, decoded loss : 0.02423785\n",
            "epoch : 13, test  >> accuracy 78.79971591, total loss : 0.08189595, classified loss : 0.53300138, decoded loss : 0.02123542\n",
            "\n",
            "epoch : 14, train >> accuracy 79.37500000, total loss : 0.08355505, classified loss : 0.52961829, decoded loss : 0.02267679\n",
            "epoch : 14, test  >> accuracy 79.43892045, total loss : 0.08097592, classified loss : 0.51951551, decoded loss : 0.02125894\n",
            "\n",
            "epoch : 15, train >> accuracy 79.84375000, total loss : 0.07988608, classified loss : 0.50032643, decoded loss : 0.02179974\n",
            "epoch : 15, test  >> accuracy 79.26136364, total loss : 0.08116322, classified loss : 0.52570923, decoded loss : 0.02013001\n",
            "\n",
            "epoch : 16, train >> accuracy 79.75694275, total loss : 0.07994545, classified loss : 0.50029758, decoded loss : 0.02128162\n",
            "epoch : 16, test  >> accuracy 78.48011364, total loss : 0.08713050, classified loss : 0.57036079, decoded loss : 0.02025121\n",
            "\n",
            "epoch : 17, train >> accuracy 79.80034637, total loss : 0.07924882, classified loss : 0.49390189, decoded loss : 0.02075580\n",
            "epoch : 17, test  >> accuracy 78.72869318, total loss : 0.08274395, classified loss : 0.53071097, decoded loss : 0.01989161\n",
            "\n",
            "epoch : 18, train >> accuracy 79.84375000, total loss : 0.08029368, classified loss : 0.50159513, decoded loss : 0.02029551\n",
            "epoch : 18, test  >> accuracy 78.23153409, total loss : 0.08636479, classified loss : 0.54597054, decoded loss : 0.02105866\n",
            "\n",
            "epoch : 19, train >> accuracy 79.67013550, total loss : 0.07930692, classified loss : 0.49269251, decoded loss : 0.01978429\n",
            "epoch : 19, test  >> accuracy 80.39772727, total loss : 0.07868656, classified loss : 0.49771481, decoded loss : 0.01855719\n",
            "\n",
            "epoch : 20, train >> accuracy 80.84201050, total loss : 0.07631390, classified loss : 0.46722570, decoded loss : 0.01930348\n",
            "epoch : 20, test  >> accuracy 80.39772727, total loss : 0.07738154, classified loss : 0.48006406, decoded loss : 0.01880460\n",
            "\n",
            "epoch : 21, train >> accuracy 79.82638550, total loss : 0.07881443, classified loss : 0.48091648, decoded loss : 0.01954667\n",
            "epoch : 21, test  >> accuracy 79.82954545, total loss : 0.08021367, classified loss : 0.49866650, decoded loss : 0.01875841\n",
            "\n",
            "epoch : 22, train >> accuracy 80.86805725, total loss : 0.07506660, classified loss : 0.45212922, decoded loss : 0.01878936\n",
            "epoch : 22, test  >> accuracy 80.46875000, total loss : 0.07716677, classified loss : 0.47958142, decoded loss : 0.01747252\n",
            "\n",
            "epoch : 23, train >> accuracy 81.34548950, total loss : 0.07505404, classified loss : 0.44950140, decoded loss : 0.01854438\n",
            "epoch : 23, test  >> accuracy 79.54545455, total loss : 0.07922991, classified loss : 0.48829691, decoded loss : 0.01784303\n",
            "\n",
            "epoch : 24, train >> accuracy 80.46875000, total loss : 0.07904883, classified loss : 0.47563227, decoded loss : 0.01865615\n",
            "epoch : 24, test  >> accuracy 79.93607955, total loss : 0.08067532, classified loss : 0.49287228, decoded loss : 0.01809362\n",
            "\n",
            "epoch : 25, train >> accuracy 81.12847137, total loss : 0.07765867, classified loss : 0.46200861, decoded loss : 0.01840920\n",
            "epoch : 25, test  >> accuracy 80.32670455, total loss : 0.07788706, classified loss : 0.46983229, decoded loss : 0.01763427\n",
            "\n",
            "epoch : 26, train >> accuracy 80.99826050, total loss : 0.07584370, classified loss : 0.44814919, decoded loss : 0.01779690\n",
            "epoch : 26, test  >> accuracy 80.68181818, total loss : 0.07687720, classified loss : 0.46479481, decoded loss : 0.01667436\n",
            "\n",
            "epoch : 27, train >> accuracy 81.53646088, total loss : 0.07558736, classified loss : 0.44174971, decoded loss : 0.01779728\n",
            "epoch : 27, test  >> accuracy 75.92329545, total loss : 0.09022439, classified loss : 0.55976694, decoded loss : 0.01699519\n",
            "\n",
            "epoch : 28, train >> accuracy 81.25868225, total loss : 0.07781749, classified loss : 0.45537040, decoded loss : 0.01764981\n",
            "epoch : 28, test  >> accuracy 81.25000000, total loss : 0.08088720, classified loss : 0.47976126, decoded loss : 0.01749677\n",
            "\n",
            "epoch : 29, train >> accuracy 80.27777863, total loss : 0.08201068, classified loss : 0.47981182, decoded loss : 0.01797960\n",
            "epoch : 29, test  >> accuracy 80.75284091, total loss : 0.08401113, classified loss : 0.50125920, decoded loss : 0.01711789\n",
            "\n",
            "epoch : 30, train >> accuracy 81.31944275, total loss : 0.07849605, classified loss : 0.45075941, decoded loss : 0.01774049\n",
            "epoch : 30, test  >> accuracy 81.78267045, total loss : 0.07571490, classified loss : 0.44137558, decoded loss : 0.01622414\n",
            "\n",
            "epoch : 31, train >> accuracy 81.66666412, total loss : 0.07664989, classified loss : 0.43574828, decoded loss : 0.01733028\n",
            "epoch : 31, test  >> accuracy 81.46306818, total loss : 0.07733097, classified loss : 0.44855409, decoded loss : 0.01626807\n",
            "\n",
            "epoch : 32, train >> accuracy 82.00521088, total loss : 0.07555770, classified loss : 0.42339123, decoded loss : 0.01734392\n",
            "epoch : 32, test  >> accuracy 81.96022727, total loss : 0.07638753, classified loss : 0.43309967, decoded loss : 0.01683889\n",
            "\n",
            "epoch : 33, train >> accuracy 81.77951050, total loss : 0.07750996, classified loss : 0.43433707, decoded loss : 0.01719400\n",
            "epoch : 33, test  >> accuracy 81.53409091, total loss : 0.07898204, classified loss : 0.45128692, decoded loss : 0.01631227\n",
            "\n",
            "epoch : 34, train >> accuracy 81.78819275, total loss : 0.07770795, classified loss : 0.43284540, decoded loss : 0.01699805\n",
            "epoch : 34, test  >> accuracy 81.53409091, total loss : 0.07523599, classified loss : 0.42314023, decoded loss : 0.01588731\n",
            "\n",
            "epoch : 35, train >> accuracy 82.56076050, total loss : 0.07512356, classified loss : 0.41029936, decoded loss : 0.01700044\n",
            "epoch : 35, test  >> accuracy 80.78835227, total loss : 0.08353812, classified loss : 0.47107013, decoded loss : 0.01680619\n",
            "\n",
            "epoch : 36, train >> accuracy 82.46527863, total loss : 0.07704280, classified loss : 0.41983707, decoded loss : 0.01697383\n",
            "epoch : 36, test  >> accuracy 77.94744318, total loss : 0.09143377, classified loss : 0.51796531, decoded loss : 0.01732491\n",
            "\n",
            "epoch : 37, train >> accuracy 82.13541412, total loss : 0.07988267, classified loss : 0.43605565, decoded loss : 0.01686929\n",
            "epoch : 37, test  >> accuracy 82.81250000, total loss : 0.07932295, classified loss : 0.43516261, decoded loss : 0.01643862\n",
            "\n",
            "epoch : 38, train >> accuracy 82.48263550, total loss : 0.07698133, classified loss : 0.41168290, decoded loss : 0.01689509\n",
            "epoch : 38, test  >> accuracy 78.58664773, total loss : 0.08936822, classified loss : 0.50189206, decoded loss : 0.01611570\n",
            "\n",
            "epoch : 39, train >> accuracy 82.33506775, total loss : 0.08009562, classified loss : 0.42923578, decoded loss : 0.01682101\n",
            "epoch : 39, test  >> accuracy 81.67613636, total loss : 0.07968535, classified loss : 0.43365729, decoded loss : 0.01575895\n",
            "\n",
            "epoch : 40, train >> accuracy 81.20659637, total loss : 0.08309253, classified loss : 0.44366801, decoded loss : 0.01703641\n",
            "epoch : 40, test  >> accuracy 81.49857955, total loss : 0.08289589, classified loss : 0.44713212, decoded loss : 0.01632401\n",
            "\n",
            "epoch : 41, train >> accuracy 81.82291412, total loss : 0.08146752, classified loss : 0.42996488, decoded loss : 0.01681145\n",
            "epoch : 41, test  >> accuracy 81.39204545, total loss : 0.08335152, classified loss : 0.45277958, decoded loss : 0.01526468\n",
            "\n",
            "epoch : 42, train >> accuracy 82.51736450, total loss : 0.07817409, classified loss : 0.40609300, decoded loss : 0.01649709\n",
            "epoch : 42, test  >> accuracy 82.10227273, total loss : 0.07984120, classified loss : 0.42391924, decoded loss : 0.01545677\n",
            "\n",
            "epoch : 43, train >> accuracy 82.67361450, total loss : 0.07818619, classified loss : 0.40232992, decoded loss : 0.01646968\n",
            "epoch : 43, test  >> accuracy 80.96590909, total loss : 0.08620789, classified loss : 0.46129660, decoded loss : 0.01544602\n",
            "\n",
            "epoch : 44, train >> accuracy 82.66493225, total loss : 0.07969509, classified loss : 0.40813887, decoded loss : 0.01646142\n",
            "epoch : 44, test  >> accuracy 82.31534091, total loss : 0.08349130, classified loss : 0.44043256, decoded loss : 0.01525430\n",
            "\n",
            "epoch : 45, train >> accuracy 82.44791412, total loss : 0.07953766, classified loss : 0.40372041, decoded loss : 0.01636306\n",
            "epoch : 45, test  >> accuracy 81.21448864, total loss : 0.08791563, classified loss : 0.46201136, decoded loss : 0.01561960\n",
            "\n",
            "epoch : 46, train >> accuracy 82.83853912, total loss : 0.07980331, classified loss : 0.40207523, decoded loss : 0.01625698\n",
            "epoch : 46, test  >> accuracy 81.07244318, total loss : 0.08660318, classified loss : 0.45081459, decoded loss : 0.01535379\n",
            "\n",
            "epoch : 47, train >> accuracy 83.22048950, total loss : 0.07882928, classified loss : 0.39253730, decoded loss : 0.01616998\n",
            "epoch : 47, test  >> accuracy 81.78267045, total loss : 0.08467443, classified loss : 0.43264406, decoded loss : 0.01561304\n",
            "\n",
            "epoch : 48, train >> accuracy 83.48958588, total loss : 0.07741356, classified loss : 0.38139583, decoded loss : 0.01592392\n",
            "epoch : 48, test  >> accuracy 83.06107955, total loss : 0.08018834, classified loss : 0.40394492, decoded loss : 0.01506329\n",
            "\n",
            "epoch : 49, train >> accuracy 83.11631775, total loss : 0.07866324, classified loss : 0.38447633, decoded loss : 0.01605710\n",
            "epoch : 49, test  >> accuracy 81.96022727, total loss : 0.08722749, classified loss : 0.44184246, decoded loss : 0.01528015\n",
            "\n"
          ]
        }
      ]
    },
    {
      "cell_type": "code",
      "source": [
        "!pip install torchviz"
      ],
      "metadata": {
        "id": "51fM_Jv5bFsW"
      },
      "execution_count": null,
      "outputs": []
    },
    {
      "cell_type": "code",
      "source": [
        "from torchviz import make_dot\n",
        "make_dot(classified_loss, params=dict(classifier.named_parameters())).render(f\"graph\", format=\"png\")"
      ],
      "metadata": {
        "id": "kQ0M0CSYaUmg"
      },
      "execution_count": null,
      "outputs": []
    },
    {
      "cell_type": "markdown",
      "metadata": {
        "id": "LULSrZv-UTDz"
      },
      "source": [
        "## Plot 함수"
      ]
    },
    {
      "cell_type": "code",
      "metadata": {
        "id": "08FdiEjDV0kb"
      },
      "source": [
        "def plot_curve_error(data_mean, data_std, x_label, y_label, title):\n",
        "\n",
        "    plt.figure(figsize=(8, 6))\n",
        "    plt.title(title)\n",
        "\n",
        "    alpha = 0.3\n",
        "    \n",
        "    plt.plot(range(len(data_mean)), data_mean, '-', color = 'red')\n",
        "    plt.fill_between(range(len(data_mean)), data_mean - data_std, data_mean + data_std, facecolor = 'blue', alpha = alpha) \n",
        "    \n",
        "    plt.xlabel(x_label)\n",
        "    plt.ylabel(y_label)\n",
        "\n",
        "    plt.tight_layout()\n",
        "    plt.show()"
      ],
      "execution_count": null,
      "outputs": []
    },
    {
      "cell_type": "code",
      "metadata": {
        "id": "9ENxj-BQUZ-7"
      },
      "source": [
        "print('[plot the training loss]')\n",
        "print('') \n",
        "plot_curve_error(total_loss_mean_train[:335], total_loss_std_train[:335], 'epoch', 'loss', 'loss (training)')"
      ],
      "execution_count": null,
      "outputs": []
    },
    {
      "cell_type": "code",
      "metadata": {
        "id": "6bqK2U_jWXva"
      },
      "source": [
        "print('[plot the testing loss]')\n",
        "print('') \n",
        "plot_curve_error(total_loss_mean_test[:335], total_loss_std_test[:335], 'epoch', 'loss', 'loss (testing)')"
      ],
      "execution_count": null,
      "outputs": []
    },
    {
      "cell_type": "code",
      "metadata": {
        "id": "_J600wqOWgNF"
      },
      "source": [
        "print('[plot the traning accuracy]') \n",
        "print('') \n",
        "plot_curve_error(accuracy_mean_train[:335], accuracy_std_train[:335], 'epoch', 'accuracy', 'Accuracy (training)')"
      ],
      "execution_count": null,
      "outputs": []
    },
    {
      "cell_type": "code",
      "metadata": {
        "id": "TsVmJXxnWIl9"
      },
      "source": [
        "print('[plot the testing accuracy]') \n",
        "print('') \n",
        "plot_curve_error(accuracy_mean_test[:335], accuracy_std_test[:335], 'epoch', 'accuracy', 'Accuracy (testing)')"
      ],
      "execution_count": null,
      "outputs": []
    },
    {
      "cell_type": "code",
      "metadata": {
        "id": "aF8p8kkmUasj"
      },
      "source": [
        ""
      ],
      "execution_count": null,
      "outputs": []
    }
  ]
}