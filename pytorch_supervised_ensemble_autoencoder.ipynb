{
  "nbformat": 4,
  "nbformat_minor": 0,
  "metadata": {
    "accelerator": "GPU",
    "colab": {
      "name": "supervised ensemble autoencoder.ipynb",
      "provenance": [],
      "collapsed_sections": [],
      "include_colab_link": true
    },
    "interpreter": {
      "hash": "84bbda367bac7e7bffd9b7890a44d65326aaedad40e5a9021c2651157391b1ef"
    },
    "kernelspec": {
      "display_name": "Python 3.8.5 64-bit ('base': conda)",
      "name": "python3"
    },
    "language_info": {
      "codemirror_mode": {
        "name": "ipython",
        "version": 3
      },
      "file_extension": ".py",
      "mimetype": "text/x-python",
      "name": "python",
      "nbconvert_exporter": "python",
      "pygments_lexer": "ipython3",
      "version": "3.8.5"
    },
    "widgets": {
      "application/vnd.jupyter.widget-state+json": {
        "1fdd3b981c6b4748955a276db6e3cdb5": {
          "model_module": "@jupyter-widgets/controls",
          "model_name": "HBoxModel",
          "model_module_version": "1.5.0",
          "state": {
            "_view_name": "HBoxView",
            "_dom_classes": [],
            "_model_name": "HBoxModel",
            "_view_module": "@jupyter-widgets/controls",
            "_model_module_version": "1.5.0",
            "_view_count": null,
            "_view_module_version": "1.5.0",
            "box_style": "",
            "layout": "IPY_MODEL_afd4f118346e48de856f5947dd186348",
            "_model_module": "@jupyter-widgets/controls",
            "children": [
              "IPY_MODEL_465a0b9774ec47de993c8d51618a5cd2",
              "IPY_MODEL_94c223c87042473995643d483d02431d",
              "IPY_MODEL_bfebeb836ee445648e02d072fcc94514"
            ]
          }
        },
        "afd4f118346e48de856f5947dd186348": {
          "model_module": "@jupyter-widgets/base",
          "model_name": "LayoutModel",
          "model_module_version": "1.2.0",
          "state": {
            "_view_name": "LayoutView",
            "grid_template_rows": null,
            "right": null,
            "justify_content": null,
            "_view_module": "@jupyter-widgets/base",
            "overflow": null,
            "_model_module_version": "1.2.0",
            "_view_count": null,
            "flex_flow": null,
            "width": null,
            "min_width": null,
            "border": null,
            "align_items": null,
            "bottom": null,
            "_model_module": "@jupyter-widgets/base",
            "top": null,
            "grid_column": null,
            "overflow_y": null,
            "overflow_x": null,
            "grid_auto_flow": null,
            "grid_area": null,
            "grid_template_columns": null,
            "flex": null,
            "_model_name": "LayoutModel",
            "justify_items": null,
            "grid_row": null,
            "max_height": null,
            "align_content": null,
            "visibility": null,
            "align_self": null,
            "height": null,
            "min_height": null,
            "padding": null,
            "grid_auto_rows": null,
            "grid_gap": null,
            "max_width": null,
            "order": null,
            "_view_module_version": "1.2.0",
            "grid_template_areas": null,
            "object_position": null,
            "object_fit": null,
            "grid_auto_columns": null,
            "margin": null,
            "display": null,
            "left": null
          }
        },
        "465a0b9774ec47de993c8d51618a5cd2": {
          "model_module": "@jupyter-widgets/controls",
          "model_name": "HTMLModel",
          "model_module_version": "1.5.0",
          "state": {
            "_view_name": "HTMLView",
            "style": "IPY_MODEL_a1b0cea667d845d6a9e39f7f0763516d",
            "_dom_classes": [],
            "description": "",
            "_model_name": "HTMLModel",
            "placeholder": "​",
            "_view_module": "@jupyter-widgets/controls",
            "_model_module_version": "1.5.0",
            "value": " 58%",
            "_view_count": null,
            "_view_module_version": "1.5.0",
            "description_tooltip": null,
            "_model_module": "@jupyter-widgets/controls",
            "layout": "IPY_MODEL_6f228cb649fc4ab28781d9268c25dd4f"
          }
        },
        "94c223c87042473995643d483d02431d": {
          "model_module": "@jupyter-widgets/controls",
          "model_name": "FloatProgressModel",
          "model_module_version": "1.5.0",
          "state": {
            "_view_name": "ProgressView",
            "style": "IPY_MODEL_2ef93fa06d8e407686e55436935898d4",
            "_dom_classes": [],
            "description": "",
            "_model_name": "FloatProgressModel",
            "bar_style": "",
            "max": 200,
            "_view_module": "@jupyter-widgets/controls",
            "_model_module_version": "1.5.0",
            "value": 117,
            "_view_count": null,
            "_view_module_version": "1.5.0",
            "orientation": "horizontal",
            "min": 0,
            "description_tooltip": null,
            "_model_module": "@jupyter-widgets/controls",
            "layout": "IPY_MODEL_7a68b3be13f54a74ab4e332591b238ed"
          }
        },
        "bfebeb836ee445648e02d072fcc94514": {
          "model_module": "@jupyter-widgets/controls",
          "model_name": "HTMLModel",
          "model_module_version": "1.5.0",
          "state": {
            "_view_name": "HTMLView",
            "style": "IPY_MODEL_2d014ac7c25f41a09c66463f1d7c6c54",
            "_dom_classes": [],
            "description": "",
            "_model_name": "HTMLModel",
            "placeholder": "​",
            "_view_module": "@jupyter-widgets/controls",
            "_model_module_version": "1.5.0",
            "value": " 117/200 [18:05&lt;12:49,  9.27s/it]",
            "_view_count": null,
            "_view_module_version": "1.5.0",
            "description_tooltip": null,
            "_model_module": "@jupyter-widgets/controls",
            "layout": "IPY_MODEL_ee68daefeab9424691cc951272392a51"
          }
        },
        "a1b0cea667d845d6a9e39f7f0763516d": {
          "model_module": "@jupyter-widgets/controls",
          "model_name": "DescriptionStyleModel",
          "model_module_version": "1.5.0",
          "state": {
            "_view_name": "StyleView",
            "_model_name": "DescriptionStyleModel",
            "description_width": "",
            "_view_module": "@jupyter-widgets/base",
            "_model_module_version": "1.5.0",
            "_view_count": null,
            "_view_module_version": "1.2.0",
            "_model_module": "@jupyter-widgets/controls"
          }
        },
        "6f228cb649fc4ab28781d9268c25dd4f": {
          "model_module": "@jupyter-widgets/base",
          "model_name": "LayoutModel",
          "model_module_version": "1.2.0",
          "state": {
            "_view_name": "LayoutView",
            "grid_template_rows": null,
            "right": null,
            "justify_content": null,
            "_view_module": "@jupyter-widgets/base",
            "overflow": null,
            "_model_module_version": "1.2.0",
            "_view_count": null,
            "flex_flow": null,
            "width": null,
            "min_width": null,
            "border": null,
            "align_items": null,
            "bottom": null,
            "_model_module": "@jupyter-widgets/base",
            "top": null,
            "grid_column": null,
            "overflow_y": null,
            "overflow_x": null,
            "grid_auto_flow": null,
            "grid_area": null,
            "grid_template_columns": null,
            "flex": null,
            "_model_name": "LayoutModel",
            "justify_items": null,
            "grid_row": null,
            "max_height": null,
            "align_content": null,
            "visibility": null,
            "align_self": null,
            "height": null,
            "min_height": null,
            "padding": null,
            "grid_auto_rows": null,
            "grid_gap": null,
            "max_width": null,
            "order": null,
            "_view_module_version": "1.2.0",
            "grid_template_areas": null,
            "object_position": null,
            "object_fit": null,
            "grid_auto_columns": null,
            "margin": null,
            "display": null,
            "left": null
          }
        },
        "2ef93fa06d8e407686e55436935898d4": {
          "model_module": "@jupyter-widgets/controls",
          "model_name": "ProgressStyleModel",
          "model_module_version": "1.5.0",
          "state": {
            "_view_name": "StyleView",
            "_model_name": "ProgressStyleModel",
            "description_width": "",
            "_view_module": "@jupyter-widgets/base",
            "_model_module_version": "1.5.0",
            "_view_count": null,
            "_view_module_version": "1.2.0",
            "bar_color": null,
            "_model_module": "@jupyter-widgets/controls"
          }
        },
        "7a68b3be13f54a74ab4e332591b238ed": {
          "model_module": "@jupyter-widgets/base",
          "model_name": "LayoutModel",
          "model_module_version": "1.2.0",
          "state": {
            "_view_name": "LayoutView",
            "grid_template_rows": null,
            "right": null,
            "justify_content": null,
            "_view_module": "@jupyter-widgets/base",
            "overflow": null,
            "_model_module_version": "1.2.0",
            "_view_count": null,
            "flex_flow": null,
            "width": null,
            "min_width": null,
            "border": null,
            "align_items": null,
            "bottom": null,
            "_model_module": "@jupyter-widgets/base",
            "top": null,
            "grid_column": null,
            "overflow_y": null,
            "overflow_x": null,
            "grid_auto_flow": null,
            "grid_area": null,
            "grid_template_columns": null,
            "flex": null,
            "_model_name": "LayoutModel",
            "justify_items": null,
            "grid_row": null,
            "max_height": null,
            "align_content": null,
            "visibility": null,
            "align_self": null,
            "height": null,
            "min_height": null,
            "padding": null,
            "grid_auto_rows": null,
            "grid_gap": null,
            "max_width": null,
            "order": null,
            "_view_module_version": "1.2.0",
            "grid_template_areas": null,
            "object_position": null,
            "object_fit": null,
            "grid_auto_columns": null,
            "margin": null,
            "display": null,
            "left": null
          }
        },
        "2d014ac7c25f41a09c66463f1d7c6c54": {
          "model_module": "@jupyter-widgets/controls",
          "model_name": "DescriptionStyleModel",
          "model_module_version": "1.5.0",
          "state": {
            "_view_name": "StyleView",
            "_model_name": "DescriptionStyleModel",
            "description_width": "",
            "_view_module": "@jupyter-widgets/base",
            "_model_module_version": "1.5.0",
            "_view_count": null,
            "_view_module_version": "1.2.0",
            "_model_module": "@jupyter-widgets/controls"
          }
        },
        "ee68daefeab9424691cc951272392a51": {
          "model_module": "@jupyter-widgets/base",
          "model_name": "LayoutModel",
          "model_module_version": "1.2.0",
          "state": {
            "_view_name": "LayoutView",
            "grid_template_rows": null,
            "right": null,
            "justify_content": null,
            "_view_module": "@jupyter-widgets/base",
            "overflow": null,
            "_model_module_version": "1.2.0",
            "_view_count": null,
            "flex_flow": null,
            "width": null,
            "min_width": null,
            "border": null,
            "align_items": null,
            "bottom": null,
            "_model_module": "@jupyter-widgets/base",
            "top": null,
            "grid_column": null,
            "overflow_y": null,
            "overflow_x": null,
            "grid_auto_flow": null,
            "grid_area": null,
            "grid_template_columns": null,
            "flex": null,
            "_model_name": "LayoutModel",
            "justify_items": null,
            "grid_row": null,
            "max_height": null,
            "align_content": null,
            "visibility": null,
            "align_self": null,
            "height": null,
            "min_height": null,
            "padding": null,
            "grid_auto_rows": null,
            "grid_gap": null,
            "max_width": null,
            "order": null,
            "_view_module_version": "1.2.0",
            "grid_template_areas": null,
            "object_position": null,
            "object_fit": null,
            "grid_auto_columns": null,
            "margin": null,
            "display": null,
            "left": null
          }
        }
      }
    }
  },
  "cells": [
    {
      "cell_type": "markdown",
      "metadata": {
        "id": "view-in-github",
        "colab_type": "text"
      },
      "source": [
        "<a href=\"https://colab.research.google.com/github/tolom131/Human-Activity-Recognition/blob/main/pytorch_supervised_ensemble_autoencoder.ipynb\" target=\"_parent\"><img src=\"https://colab.research.google.com/assets/colab-badge.svg\" alt=\"Open In Colab\"/></a>"
      ]
    },
    {
      "cell_type": "markdown",
      "metadata": {
        "id": "AQGQXmOpA9J-"
      },
      "source": [
        "# Unsupervised image denoising"
      ]
    },
    {
      "cell_type": "markdown",
      "metadata": {
        "id": "TGBcGR2LA9KI"
      },
      "source": [
        "## Import libraries"
      ]
    },
    {
      "cell_type": "code",
      "metadata": {
        "id": "NNpI2DZ6A9KJ"
      },
      "source": [
        "import torch\n",
        "import torchvision\n",
        "import torchvision.transforms as transforms\n",
        "from torch.utils.data import Dataset\n",
        "from os import listdir\n",
        "from os.path import join\n",
        "from torchvision.transforms import Compose, ToTensor, ToPILImage, Resize, Lambda, Normalize, Grayscale\n",
        "from torch.utils.data import DataLoader\n",
        "from PIL import Image\n",
        "import matplotlib.pyplot as plt\n",
        "import numpy as np\n",
        "import torch.nn as nn\n",
        "import torch.nn.functional as F\n",
        "import torch.optim as optim\n",
        "from math import log10\n",
        "from tqdm.notebook import tqdm\n",
        "import os\n",
        "import math\n",
        "import torch as tf"
      ],
      "execution_count": 1,
      "outputs": []
    },
    {
      "cell_type": "markdown",
      "metadata": {
        "id": "20TiZsA_A9KO"
      },
      "source": [
        "## Hyper parameters"
      ]
    },
    {
      "cell_type": "code",
      "metadata": {
        "id": "KtDynD4nA9KP"
      },
      "source": [
        "device        = torch.device('cuda' if torch.cuda.is_available() else 'cpu')\n",
        "\n",
        "# ==================================================\n",
        "# determine optimal hyper-parameters to obtain best testing performance\n",
        "number_epoch    = 200\n",
        "size_minibatch  = 128\n",
        "learning_rate   = 0.01\n",
        "alpha = 0\n",
        "# =================================================="
      ],
      "execution_count": 2,
      "outputs": []
    },
    {
      "cell_type": "code",
      "metadata": {
        "colab": {
          "base_uri": "https://localhost:8080/"
        },
        "id": "9FriR4w79i_Z",
        "outputId": "36796ff8-e690-481e-e9e0-f8b9354e2c01"
      },
      "source": [
        "from google.colab import drive \n",
        "drive.mount('/content/drive/')\n",
        "\n",
        "directory_data  = './drive/MyDrive/HAR/'\n",
        "filename_data   = 'WISDM_at_v2.0_raw.txt'\n",
        "\n",
        "import sys\n",
        "sys.path.append('/content/drive/MyDrive/HAR/')\n",
        "import wisdm_1_1\n",
        "import wisdm_2_0\n",
        "# x_train, y_train, num_classes = wisdm_1_1.create_wisdm_1_1(directory_data + filename_data)\n",
        "origianl_x, original_y, num_classes = wisdm_2_0.create_wisdm_2_0(directory_data + filename_data)"
      ],
      "execution_count": 3,
      "outputs": [
        {
          "output_type": "stream",
          "name": "stdout",
          "text": [
            "Drive already mounted at /content/drive/; to attempt to forcibly remount, call drive.mount(\"/content/drive/\", force_remount=True).\n"
          ]
        },
        {
          "output_type": "stream",
          "name": "stderr",
          "text": [
            "/usr/local/lib/python3.7/dist-packages/IPython/core/interactiveshell.py:2882: DtypeWarning: Columns (2) have mixed types.Specify dtype option on import or set low_memory=False.\n",
            "  exec(code_obj, self.user_global_ns, self.user_ns)\n"
          ]
        },
        {
          "output_type": "stream",
          "name": "stdout",
          "text": [
            "x_train.shape :  (13913, 200, 3) y_train.shape:  (13913, 6)\n"
          ]
        }
      ]
    },
    {
      "cell_type": "code",
      "metadata": {
        "id": "0IsbQDqQ9mCD"
      },
      "source": [
        "from sklearn.model_selection import train_test_split\n",
        "x_train, x_test, y_train, y_test = train_test_split(origianl_x, original_y, random_state=42, stratify=original_y, test_size=0.2)"
      ],
      "execution_count": 4,
      "outputs": []
    },
    {
      "cell_type": "markdown",
      "metadata": {
        "id": "9AbHCZPpA9KR"
      },
      "source": [
        "## Costumize dataloader for pytorch"
      ]
    },
    {
      "cell_type": "code",
      "metadata": {
        "id": "1UveCjrBA9KS"
      },
      "source": [
        "class dataset (Dataset):\n",
        "    def  __init__(self, data, label):\n",
        "\n",
        "        self.data    = data\n",
        "        self.label    = label\n",
        "            \n",
        "    def __getitem__(self, index):\n",
        "\n",
        "        data    = self.data[index]\n",
        "        label   = self.label[index]\n",
        "        return (data, label)\n",
        "\n",
        "    def __len__(self):\n",
        "        return self.data.shape[0]"
      ],
      "execution_count": 5,
      "outputs": []
    },
    {
      "cell_type": "markdown",
      "metadata": {
        "id": "357alwWgA9KU"
      },
      "source": [
        "## Construct datasets and dataloaders for training and testing"
      ]
    },
    {
      "cell_type": "code",
      "metadata": {
        "id": "b7JDqjSVA9KU"
      },
      "source": [
        "## transformer를 통과하기 위해 데이터 shape 변경\n",
        "# x_train = x_train.reshape(-1, x_train.shape[2], x_train.shape[1])\n",
        "# x_test = x_test.reshape(-1, x_test.shape[2], x_test.shape[1])\n",
        "x_train = tf.FloatTensor(x_train)\n",
        "x_test = tf.FloatTensor(x_test)\n",
        "x_train = x_train.permute(0, 2, 1)\n",
        "x_test = x_test.permute(0, 2, 1)\n",
        "\n",
        "dataset_train = dataset(x_train, y_train) \n",
        "dataset_test  = dataset(x_test, y_test) \n",
        "\n",
        "dataloader_train = DataLoader(dataset_train, batch_size=size_minibatch, shuffle=True, drop_last=True, num_workers=2)\n",
        "dataloader_test  = DataLoader(dataset_test,  batch_size=size_minibatch, shuffle=False, drop_last=True, num_workers=2) "
      ],
      "execution_count": 6,
      "outputs": []
    },
    {
      "cell_type": "markdown",
      "metadata": {
        "id": "5Yn9jMLrA9KX"
      },
      "source": [
        "## Class for the neural network"
      ]
    },
    {
      "cell_type": "code",
      "metadata": {
        "id": "htsiFor1QWwT"
      },
      "source": [
        "class Classifier(nn.Module):\n",
        "    def __init__(self, dim, channel, num_classes, is_alone=False):\n",
        "        super(Classifier, self).__init__()\n",
        "        \n",
        "        if is_alone:\n",
        "            self.dim = dim\n",
        "            self.channel = channel\n",
        "            self.num_classes = num_classes\n",
        "        else:\n",
        "            self.dim = dim\n",
        "            self.channel = channel\n",
        "            self.num_classes = num_classes\n",
        "\n",
        "        # original inputs shape : [batch_size, channel, dim]\n",
        "        # classifier inputs shape : [batch_size, channel*80, dim//8]\n",
        "\n",
        "        self.conv1 = nn.Conv1d(self.channel, 512, kernel_size=3, padding=1, stride=1)\n",
        "        self.batch1 = nn.BatchNorm1d(512)\n",
        "        self.relu1 = nn.ReLU()\n",
        "\n",
        "        self.conv2 = nn.Conv1d(512, 1024, kernel_size=3, padding=1, stride=1)\n",
        "        self.batch2 = nn.BatchNorm1d(1024)\n",
        "        self.relu2 = nn.ReLU()\n",
        "        \n",
        "        self.lstm = nn.LSTM(25, 128, batch_first=True)\n",
        "        self.classifier = nn.Linear(128, self.num_classes)\n",
        "        self.softmax = nn.Softmax(dim=1)\n",
        "\n",
        "    def forward(self, inputs):\n",
        "\n",
        "        x = self.conv1(inputs)\n",
        "        #print(x.size())\n",
        "        x = self.batch1(x)\n",
        "        #print(x.size())\n",
        "        x = self.relu1(x)\n",
        "        #print(x.size())\n",
        "        x = self.conv2(x)\n",
        "        #print(x.size())\n",
        "        x = self.batch2(x)\n",
        "        #print(x.size())\n",
        "        x = self.relu2(x)\n",
        "        #print(\"before LSTM : \", x.size())\n",
        "        x, _ = self.lstm(x)\n",
        "        #print(\"after LSTM : \", x.size())\n",
        "        x = x[:, -1, :]\n",
        "        #print(\"after -1 \" , x.size())\n",
        "        x = self.classifier(x)\n",
        "        #print(x.size())\n",
        "        x = self.softmax(x)\n",
        "        return x  "
      ],
      "execution_count": 7,
      "outputs": []
    },
    {
      "cell_type": "code",
      "metadata": {
        "id": "pe1o7K7dMbwi"
      },
      "source": [
        "class SAE(nn.Module):\n",
        "    def __init__(self):\n",
        "        super(SAE, self).__init__()\n",
        "\n",
        "        def CBR2d(in_channels, out_channels, kernel_size=3, stride=1, padding=1, bias=True):\n",
        "            layers =  []\n",
        "            layers += [nn.Conv1d(in_channels=in_channels, out_channels=out_channels, kernel_size=kernel_size, stride=stride, padding=padding, bias=bias)]\n",
        "            layers += [nn.BatchNorm1d(num_features=out_channels)]\n",
        "            layers += [nn.ReLU()]\n",
        "\n",
        "            cbr = nn.Sequential(*layers)\n",
        "\n",
        "            return cbr\n",
        "\n",
        "        # Contracting path\n",
        "        self.encoder_layers = [CBR2d(in_channels=3, out_channels=64), nn.MaxPool1d(kernel_size=2), CBR2d(in_channels=64, out_channels=128), \n",
        "                          nn.MaxPool1d(kernel_size=2), CBR2d(in_channels=128, out_channels=256), nn.MaxPool1d(kernel_size=2)]\n",
        "        self.encoder = nn.Sequential(*self.encoder_layers)\n",
        "\n",
        "        # Expansive path\n",
        "        self.decoder_layers = [CBR2d(in_channels=256, out_channels=128), nn.ConvTranspose1d(in_channels=128, out_channels=128, kernel_size=2, stride=2, padding=0, bias=True),\n",
        "                               CBR2d(in_channels=128, out_channels=64), nn.ConvTranspose1d(in_channels=64, out_channels=64, kernel_size=2, stride=2, padding=0, bias=True),\n",
        "                               CBR2d(in_channels=64,  out_channels=3), nn.ConvTranspose1d(in_channels=3, out_channels=3, kernel_size=2, stride=2, padding=0, bias=True)]\n",
        "        self.decoder = nn.Sequential(*self.decoder_layers)\n",
        "     \n",
        "    def forward(self, x):\n",
        "        \n",
        "        encoded = self.encoder(x)\n",
        "        decoded = self.decoder(encoded)\n",
        "\n",
        "        return encoded, decoded"
      ],
      "execution_count": 8,
      "outputs": []
    },
    {
      "cell_type": "code",
      "source": [
        "# from torchsummary import summary as summary_\n",
        "# sae = SAE().to(device)\n",
        "# summary_(sae, (3, 200))"
      ],
      "metadata": {
        "id": "TSulRfCBNCM0"
      },
      "execution_count": 9,
      "outputs": []
    },
    {
      "cell_type": "markdown",
      "metadata": {
        "id": "Uig2PSDaTDu6"
      },
      "source": [
        "## model summary 용"
      ]
    },
    {
      "cell_type": "markdown",
      "metadata": {
        "id": "h8DSwKtMOqBH"
      },
      "source": [
        "## 모델링 과정을 위해 필요한 함수 정의"
      ]
    },
    {
      "cell_type": "code",
      "metadata": {
        "id": "yA0KNRpEnnN6"
      },
      "source": [
        "def compute_mse_loss(input, prediction):\n",
        "    \n",
        "    mse = nn.MSELoss()\n",
        "    \n",
        "    # ==================================================\n",
        "    # fill up the blank\n",
        "    loss_mse = mse(prediction, input)\n",
        "    # ==================================================\n",
        "    \n",
        "    loss_mse_value = loss_mse.item() \n",
        "    \n",
        "    return loss_mse, loss_mse_value"
      ],
      "execution_count": 10,
      "outputs": []
    },
    {
      "cell_type": "code",
      "metadata": {
        "id": "mT9FgvXjcVBB"
      },
      "source": [
        "def compute_entropy_loss(inputs, prediction):\n",
        "    cross = nn.CrossEntropyLoss()\n",
        "\n",
        "    loss_cross = cross(prediction, inputs)\n",
        "\n",
        "    loss_cross_value = loss_cross.item()\n",
        "    return loss_cross, loss_cross_value"
      ],
      "execution_count": 11,
      "outputs": []
    },
    {
      "cell_type": "code",
      "metadata": {
        "id": "YlSY2TrROn6W"
      },
      "source": [
        "def compute_accuracy(prediction, label):\n",
        "    # ================================================================================ \n",
        "    # complete the function body\n",
        "    b_Prediction = torch.argmax(prediction, 1)\n",
        "    b_label = torch.argmax(label, 1)\n",
        "    bCorrect = (b_Prediction == b_label)\n",
        "    accuracy = bCorrect.float().mean() * 100\n",
        "    # ================================================================================ \n",
        "\n",
        "    return accuracy"
      ],
      "execution_count": 12,
      "outputs": []
    },
    {
      "cell_type": "markdown",
      "metadata": {
        "id": "3DYCbEtyPHW5"
      },
      "source": [
        "## 모델링 과정 정리를 위한 배열"
      ]
    },
    {
      "cell_type": "code",
      "metadata": {
        "id": "U2GV2m67PGMD"
      },
      "source": [
        "total_loss_mean_train     = np.zeros(number_epoch)\n",
        "total_loss_std_train      = np.zeros(number_epoch)\n",
        "\n",
        "classified_loss_mean_train     = np.zeros(number_epoch)\n",
        "classified_loss_std_train      = np.zeros(number_epoch)\n",
        "\n",
        "decoded_loss_mean_train     = np.zeros(number_epoch)\n",
        "decoded_loss_std_train      = np.zeros(number_epoch)\n",
        "\n",
        "accuracy_mean_train = np.zeros(number_epoch)\n",
        "accuracy_std_train  = np.zeros(number_epoch)"
      ],
      "execution_count": 13,
      "outputs": []
    },
    {
      "cell_type": "code",
      "source": [
        "total_loss_mean_test     = np.zeros(number_epoch)\n",
        "total_loss_std_test      = np.zeros(number_epoch)\n",
        "\n",
        "classified_loss_mean_test     = np.zeros(number_epoch)\n",
        "classified_loss_std_test      = np.zeros(number_epoch)\n",
        "\n",
        "decoded_loss_mean_test    = np.zeros(number_epoch)\n",
        "decoded_loss_std_test      = np.zeros(number_epoch)\n",
        "\n",
        "accuracy_mean_test = np.zeros(number_epoch)\n",
        "accuracy_std_test  = np.zeros(number_epoch)"
      ],
      "metadata": {
        "id": "siA03vcV98ln"
      },
      "execution_count": 14,
      "outputs": []
    },
    {
      "cell_type": "markdown",
      "metadata": {
        "id": "tTptbDGZA9KZ"
      },
      "source": [
        "## Build the network"
      ]
    },
    {
      "cell_type": "code",
      "metadata": {
        "id": "qzsj97WB3_tq"
      },
      "source": [
        "autoencoder = SAE().to(device)\n",
        "classifier = Classifier(25, 256, 6).to(device)\n",
        "autoencoder_optimizer = torch.optim.Adam(autoencoder.parameters(), lr=0.01)\n",
        "classifier_optimizer = torch.optim.Adam(classifier.parameters(), lr=0.01)"
      ],
      "execution_count": 15,
      "outputs": []
    },
    {
      "cell_type": "markdown",
      "metadata": {
        "id": "2NKn_pSx3L0H"
      },
      "source": [
        "## Autoencoder"
      ]
    },
    {
      "cell_type": "code",
      "metadata": {
        "colab": {
          "base_uri": "https://localhost:8080/",
          "height": 1000,
          "referenced_widgets": [
            "1fdd3b981c6b4748955a276db6e3cdb5",
            "afd4f118346e48de856f5947dd186348",
            "465a0b9774ec47de993c8d51618a5cd2",
            "94c223c87042473995643d483d02431d",
            "bfebeb836ee445648e02d072fcc94514",
            "a1b0cea667d845d6a9e39f7f0763516d",
            "6f228cb649fc4ab28781d9268c25dd4f",
            "2ef93fa06d8e407686e55436935898d4",
            "7a68b3be13f54a74ab4e332591b238ed",
            "2d014ac7c25f41a09c66463f1d7c6c54",
            "ee68daefeab9424691cc951272392a51"
          ]
        },
        "id": "UYEYvwqKmz-V",
        "outputId": "71cc3401-6aeb-49ff-b9c5-97a65f2a98f2"
      },
      "source": [
        "# ================================================================================\n",
        "# \n",
        "# iterations for epochs\n",
        "#\n",
        "# ================================================================================\n",
        "for i in tqdm(range(number_epoch)):\n",
        "    \n",
        "    # ================================================================================\n",
        "    # \n",
        "    # training\n",
        "    #\n",
        "    # ================================================================================\n",
        "    total_loss_train_epoch      = []\n",
        "    classified_loss_train_epoch = []\n",
        "    decoded_loss_train_epoch    = []\n",
        "    accuracy_train_epoch        = []\n",
        "\n",
        "    autoencoder.train()\n",
        "    classifier.train()\n",
        "\n",
        "    for index_batch, (data, label) in enumerate(dataloader_train):\n",
        "\n",
        "        data_train = data.to(device)\n",
        "        label_train = label.to(device)\n",
        "        \n",
        "        encoded, decoded = autoencoder(data_train)\n",
        "        classified = classifier(encoded)\n",
        "\n",
        "        # classified loss\n",
        "        classified_loss, classfied_loss_value       = compute_entropy_loss(label_train, classified)\n",
        "\n",
        "        # decoded loss\n",
        "        decoded_loss, decoded_loss_value            = compute_mse_loss(data_train, decoded)\n",
        "\n",
        "        # classified accuracy\n",
        "        accuracy_train                              = compute_accuracy(classified, label_train).to(\"cpu\")\n",
        "        accuracy_train = accuracy_train.numpy()\n",
        "\n",
        "        total_loss = classified_loss + decoded_loss * alpha\n",
        "\n",
        "        autoencoder_optimizer.zero_grad()\n",
        "        classifier_optimizer.zero_grad()\n",
        "        \n",
        "        total_loss.backward()\n",
        "\n",
        "        autoencoder_optimizer.step()\n",
        "        classifier_optimizer.step()\n",
        "\n",
        "        total_loss_train_epoch.append(total_loss.item())\n",
        "        classified_loss_train_epoch.append(classfied_loss_value)\n",
        "        decoded_loss_train_epoch.append(decoded_loss_value)\n",
        "        accuracy_train_epoch.append(accuracy_train)\n",
        "        \n",
        "    total_loss_mean_train[i]          = np.mean(total_loss_train_epoch)\n",
        "    total_loss_std_train[i]           = np.std(total_loss_train_epoch)\n",
        "\n",
        "    classified_loss_mean_train[i]     = np.mean(classified_loss_train_epoch)\n",
        "    classified_loss_std_train[i]      = np.std(classified_loss_train_epoch)\n",
        "\n",
        "    decoded_loss_mean_train[i]        = np.mean(decoded_loss_train_epoch)\n",
        "    decoded_loss_std_train[i]         = np.std(decoded_loss_train_epoch)\n",
        "\n",
        "    accuracy_mean_train[i]            = np.mean(accuracy_train_epoch)\n",
        "    accuracy_std_train[i]             = np.std(accuracy_train_epoch)\n",
        "\n",
        "    # ================================================================================\n",
        "    # \n",
        "    # testing\n",
        "    #\n",
        "    # ================================================================================\n",
        "    total_loss_test_epoch      = []\n",
        "    classified_loss_test_epoch = []\n",
        "    decoded_loss_test_epoch    = []\n",
        "    accuracy_test_epoch        = []\n",
        "\n",
        "    with torch.no_grad():\n",
        "        autoencoder.eval()\n",
        "        classifier.eval()\n",
        "\n",
        "    for index_batch, (data, label) in enumerate(dataloader_test):\n",
        "\n",
        "        data_test = data.to(device)\n",
        "        label_test = label.to(device)\n",
        "        \n",
        "        encoded, decoded  = autoencoder(data_test)\n",
        "        classified        = classifier(encoded)\n",
        "\n",
        "        # classified loss\n",
        "        classified_loss, classfied_loss_value       = compute_entropy_loss(label_test, classified)\n",
        "\n",
        "        # decoded loss\n",
        "        decoded_loss, decoded_loss_value            = compute_mse_loss(data_test, decoded)\n",
        "\n",
        "        # classified accuracy\n",
        "        accuracy_test               = compute_accuracy(classified, label_test).to(\"cpu\")\n",
        "        accuracy_test = accuracy_test.numpy()\n",
        "\n",
        "        total_loss = classified_loss + decoded_loss * alpha\n",
        "\n",
        "        total_loss_test_epoch.append(total_loss.item())\n",
        "        classified_loss_test_epoch.append(classfied_loss_value)\n",
        "        decoded_loss_test_epoch.append(decoded_loss_value)\n",
        "        accuracy_test_epoch.append(accuracy_test.item())\n",
        "\n",
        "    total_loss_mean_test[i]      = np.mean(total_loss_test_epoch)\n",
        "    total_loss_std_test[i]       = np.std(total_loss_test_epoch)\n",
        "\n",
        "    classified_loss_mean_test[i]      = np.mean(classified_loss_test_epoch)\n",
        "    classified_loss_std_test[i]       = np.std(classified_loss_test_epoch)\n",
        "\n",
        "    decoded_loss_mean_test[i]      = np.mean(decoded_loss_test_epoch)\n",
        "    decoded_loss_std_test[i]       = np.std(decoded_loss_test_epoch)\n",
        "\n",
        "    accuracy_mean_test[i]  = np.mean(accuracy_test_epoch)\n",
        "    accuracy_std_test[i]   = np.std(accuracy_test_epoch)\n",
        "\n",
        "    print(\"epoch : {}, train >> accuracy {:.8f}, total loss : {:.8f}, classified loss : {:.8f}, decoded loss : {:.8f}\".format(i, accuracy_mean_train[i], total_loss_mean_train[i], classified_loss_mean_train[i], decoded_loss_mean_train[i]))\n",
        "    print(\"epoch : {}, test  >> accuracy {:.8f}, total loss : {:.8f}, classified loss : {:.8f}, decoded loss : {:.8f}\".format(i, accuracy_mean_test[i], total_loss_mean_test[i], classified_loss_mean_test[i], decoded_loss_mean_test[i]))\n",
        "    print()"
      ],
      "execution_count": null,
      "outputs": [
        {
          "output_type": "display_data",
          "data": {
            "application/vnd.jupyter.widget-view+json": {
              "model_id": "1fdd3b981c6b4748955a276db6e3cdb5",
              "version_minor": 0,
              "version_major": 2
            },
            "text/plain": [
              "  0%|          | 0/200 [00:00<?, ?it/s]"
            ]
          },
          "metadata": {}
        },
        {
          "output_type": "stream",
          "name": "stdout",
          "text": [
            "epoch : 0, train >> accuracy 57.56722260, total loss : 1.46579233, classified loss : 1.46579233, decoded loss : 0.22349050\n",
            "epoch : 0, test  >> accuracy 66.88988095, total loss : 1.37297918, classified loss : 1.37297918, decoded loss : 0.25766845\n",
            "\n",
            "epoch : 1, train >> accuracy 67.20566559, total loss : 1.37144645, classified loss : 1.37144645, decoded loss : 0.22925784\n",
            "epoch : 1, test  >> accuracy 67.96875000, total loss : 1.36299807, classified loss : 1.36299807, decoded loss : 0.22650693\n",
            "\n",
            "epoch : 2, train >> accuracy 68.32303619, total loss : 1.35976247, classified loss : 1.35976247, decoded loss : 0.23025769\n",
            "epoch : 2, test  >> accuracy 70.12648810, total loss : 1.34257894, classified loss : 1.34257894, decoded loss : 0.24112317\n",
            "\n",
            "epoch : 3, train >> accuracy 68.58647919, total loss : 1.35707770, classified loss : 1.35707770, decoded loss : 0.23234445\n",
            "epoch : 3, test  >> accuracy 69.86607143, total loss : 1.34239356, classified loss : 1.34239356, decoded loss : 0.22640090\n",
            "\n",
            "epoch : 4, train >> accuracy 69.01344299, total loss : 1.35243933, classified loss : 1.35243933, decoded loss : 0.22865089\n",
            "epoch : 4, test  >> accuracy 71.13095238, total loss : 1.33227720, classified loss : 1.33227720, decoded loss : 0.22034076\n",
            "\n",
            "epoch : 5, train >> accuracy 68.90443420, total loss : 1.35450156, classified loss : 1.35450156, decoded loss : 0.22384373\n",
            "epoch : 5, test  >> accuracy 69.68005952, total loss : 1.34549673, classified loss : 1.34549673, decoded loss : 0.25055976\n",
            "\n",
            "epoch : 6, train >> accuracy 69.54941559, total loss : 1.34760653, classified loss : 1.34760653, decoded loss : 0.22242874\n",
            "epoch : 6, test  >> accuracy 70.53571429, total loss : 1.33805226, classified loss : 1.33805226, decoded loss : 0.22386399\n",
            "\n",
            "epoch : 7, train >> accuracy 70.51235199, total loss : 1.33801944, classified loss : 1.33801944, decoded loss : 0.22259902\n",
            "epoch : 7, test  >> accuracy 71.87500000, total loss : 1.32431015, classified loss : 1.32431015, decoded loss : 0.21885619\n",
            "\n",
            "epoch : 8, train >> accuracy 70.85755920, total loss : 1.33419898, classified loss : 1.33419898, decoded loss : 0.22213875\n",
            "epoch : 8, test  >> accuracy 73.28869048, total loss : 1.30930179, classified loss : 1.30930179, decoded loss : 0.24249108\n",
            "\n",
            "epoch : 9, train >> accuracy 73.29215240, total loss : 1.31034042, classified loss : 1.31034042, decoded loss : 0.22580695\n",
            "epoch : 9, test  >> accuracy 74.77678571, total loss : 1.29592494, classified loss : 1.29592494, decoded loss : 0.21951106\n",
            "\n",
            "epoch : 10, train >> accuracy 71.19367981, total loss : 1.33085586, classified loss : 1.33085586, decoded loss : 0.22375270\n",
            "epoch : 10, test  >> accuracy 71.50297619, total loss : 1.32792866, classified loss : 1.32792866, decoded loss : 0.21976491\n",
            "\n",
            "epoch : 11, train >> accuracy 72.37463379, total loss : 1.31963952, classified loss : 1.31963952, decoded loss : 0.22800234\n",
            "epoch : 11, test  >> accuracy 74.14434524, total loss : 1.30243195, classified loss : 1.30243195, decoded loss : 0.21189301\n",
            "\n",
            "epoch : 12, train >> accuracy 75.03633881, total loss : 1.29272845, classified loss : 1.29272845, decoded loss : 0.22910632\n",
            "epoch : 12, test  >> accuracy 74.73958333, total loss : 1.29564670, classified loss : 1.29564670, decoded loss : 0.24945962\n",
            "\n",
            "epoch : 13, train >> accuracy 75.01816559, total loss : 1.29297826, classified loss : 1.29297826, decoded loss : 0.23097850\n",
            "epoch : 13, test  >> accuracy 75.37202381, total loss : 1.28983670, classified loss : 1.28983670, decoded loss : 0.22116924\n",
            "\n",
            "epoch : 14, train >> accuracy 74.47311401, total loss : 1.29859817, classified loss : 1.29859817, decoded loss : 0.23174097\n",
            "epoch : 14, test  >> accuracy 73.88392857, total loss : 1.30521181, classified loss : 1.30521181, decoded loss : 0.24753781\n",
            "\n",
            "epoch : 15, train >> accuracy 74.34593201, total loss : 1.29985910, classified loss : 1.29985910, decoded loss : 0.23358883\n",
            "epoch : 15, test  >> accuracy 73.69791667, total loss : 1.30642211, classified loss : 1.30642211, decoded loss : 0.26148868\n",
            "\n",
            "epoch : 16, train >> accuracy 74.65479279, total loss : 1.29693806, classified loss : 1.29693806, decoded loss : 0.23302760\n",
            "epoch : 16, test  >> accuracy 75.40922619, total loss : 1.28924838, classified loss : 1.28924838, decoded loss : 0.22997312\n",
            "\n",
            "epoch : 17, train >> accuracy 74.46402740, total loss : 1.29864129, classified loss : 1.29864129, decoded loss : 0.23232129\n",
            "epoch : 17, test  >> accuracy 71.98660714, total loss : 1.32270338, classified loss : 1.32270338, decoded loss : 0.22746577\n",
            "\n",
            "epoch : 18, train >> accuracy 74.35501099, total loss : 1.29979174, classified loss : 1.29979174, decoded loss : 0.23207087\n",
            "epoch : 18, test  >> accuracy 74.73958333, total loss : 1.29530732, classified loss : 1.29530732, decoded loss : 0.23334397\n",
            "\n",
            "epoch : 19, train >> accuracy 73.29215240, total loss : 1.31042671, classified loss : 1.31042671, decoded loss : 0.23210340\n",
            "epoch : 19, test  >> accuracy 74.40476190, total loss : 1.29916048, classified loss : 1.29916048, decoded loss : 0.22870115\n",
            "\n",
            "epoch : 20, train >> accuracy 75.31794739, total loss : 1.29027340, classified loss : 1.29027340, decoded loss : 0.23347153\n",
            "epoch : 20, test  >> accuracy 75.55803571, total loss : 1.28819537, classified loss : 1.28819537, decoded loss : 0.23214728\n",
            "\n",
            "epoch : 21, train >> accuracy 75.24527740, total loss : 1.29067542, classified loss : 1.29067542, decoded loss : 0.23416481\n",
            "epoch : 21, test  >> accuracy 75.48363095, total loss : 1.28866589, classified loss : 1.28866589, decoded loss : 0.22964694\n",
            "\n",
            "epoch : 22, train >> accuracy 75.68132019, total loss : 1.28650801, classified loss : 1.28650801, decoded loss : 0.23282523\n",
            "epoch : 22, test  >> accuracy 73.73511905, total loss : 1.30614714, classified loss : 1.30614714, decoded loss : 0.24605348\n",
            "\n",
            "epoch : 23, train >> accuracy 75.23619080, total loss : 1.29115783, classified loss : 1.29115783, decoded loss : 0.23431126\n",
            "epoch : 23, test  >> accuracy 75.55803571, total loss : 1.28764427, classified loss : 1.28764427, decoded loss : 0.24583634\n",
            "\n",
            "epoch : 24, train >> accuracy 75.50872040, total loss : 1.28853091, classified loss : 1.28853091, decoded loss : 0.23389713\n",
            "epoch : 24, test  >> accuracy 75.59523810, total loss : 1.28673076, classified loss : 1.28673076, decoded loss : 0.22495623\n",
            "\n",
            "epoch : 25, train >> accuracy 75.81758881, total loss : 1.28527596, classified loss : 1.28527596, decoded loss : 0.23306112\n",
            "epoch : 25, test  >> accuracy 75.52083333, total loss : 1.28786814, classified loss : 1.28786814, decoded loss : 0.23141125\n",
            "\n",
            "epoch : 26, train >> accuracy 75.07267761, total loss : 1.29231712, classified loss : 1.29231712, decoded loss : 0.23069299\n",
            "epoch : 26, test  >> accuracy 75.59523810, total loss : 1.28740824, classified loss : 1.28740824, decoded loss : 0.22277525\n",
            "\n",
            "epoch : 27, train >> accuracy 73.90080261, total loss : 1.30398829, classified loss : 1.30398829, decoded loss : 0.23177399\n",
            "epoch : 27, test  >> accuracy 75.22321429, total loss : 1.29086814, classified loss : 1.29086814, decoded loss : 0.23316535\n",
            "\n",
            "epoch : 28, train >> accuracy 74.58212280, total loss : 1.29749867, classified loss : 1.29749867, decoded loss : 0.23017804\n",
            "epoch : 28, test  >> accuracy 75.33482143, total loss : 1.29018686, classified loss : 1.29018686, decoded loss : 0.23146686\n",
            "\n",
            "epoch : 29, train >> accuracy 75.09084320, total loss : 1.29245379, classified loss : 1.29245379, decoded loss : 0.23373034\n",
            "epoch : 29, test  >> accuracy 75.40922619, total loss : 1.28990427, classified loss : 1.28990427, decoded loss : 0.23653412\n",
            "\n",
            "epoch : 30, train >> accuracy 75.35428619, total loss : 1.28967840, classified loss : 1.28967840, decoded loss : 0.23423592\n",
            "epoch : 30, test  >> accuracy 74.25595238, total loss : 1.30103574, classified loss : 1.30103574, decoded loss : 0.23812984\n",
            "\n",
            "epoch : 31, train >> accuracy 74.99091339, total loss : 1.29329436, classified loss : 1.29329436, decoded loss : 0.23529326\n",
            "epoch : 31, test  >> accuracy 75.03720238, total loss : 1.29188135, classified loss : 1.29188135, decoded loss : 0.24648132\n",
            "\n",
            "epoch : 32, train >> accuracy 75.06359100, total loss : 1.29286666, classified loss : 1.29286666, decoded loss : 0.23471928\n",
            "epoch : 32, test  >> accuracy 75.00000000, total loss : 1.29387824, classified loss : 1.29387824, decoded loss : 0.24231839\n",
            "\n",
            "epoch : 33, train >> accuracy 75.33612061, total loss : 1.29027808, classified loss : 1.29027808, decoded loss : 0.23460394\n",
            "epoch : 33, test  >> accuracy 75.22321429, total loss : 1.29038652, classified loss : 1.29038652, decoded loss : 0.24333587\n",
            "\n",
            "epoch : 34, train >> accuracy 75.79033661, total loss : 1.28551159, classified loss : 1.28551159, decoded loss : 0.23506593\n",
            "epoch : 34, test  >> accuracy 75.55803571, total loss : 1.28816584, classified loss : 1.28816584, decoded loss : 0.23814932\n",
            "\n",
            "epoch : 35, train >> accuracy 75.91751099, total loss : 1.28443485, classified loss : 1.28443485, decoded loss : 0.23515483\n",
            "epoch : 35, test  >> accuracy 75.52083333, total loss : 1.28801873, classified loss : 1.28801873, decoded loss : 0.23512244\n",
            "\n",
            "epoch : 36, train >> accuracy 75.67224121, total loss : 1.28683442, classified loss : 1.28683442, decoded loss : 0.23345414\n",
            "epoch : 36, test  >> accuracy 73.06547619, total loss : 1.31291966, classified loss : 1.31291966, decoded loss : 0.22212651\n",
            "\n",
            "epoch : 37, train >> accuracy 75.13626099, total loss : 1.29221269, classified loss : 1.29221269, decoded loss : 0.23198361\n",
            "epoch : 37, test  >> accuracy 75.40922619, total loss : 1.28971248, classified loss : 1.28971248, decoded loss : 0.23342738\n",
            "\n",
            "epoch : 38, train >> accuracy 75.69949341, total loss : 1.28660926, classified loss : 1.28660926, decoded loss : 0.23491801\n",
            "epoch : 38, test  >> accuracy 75.18601190, total loss : 1.29164271, classified loss : 1.29164271, decoded loss : 0.23436394\n",
            "\n",
            "epoch : 39, train >> accuracy 75.60865021, total loss : 1.28742251, classified loss : 1.28742251, decoded loss : 0.23250774\n",
            "epoch : 39, test  >> accuracy 75.59523810, total loss : 1.28782103, classified loss : 1.28782103, decoded loss : 0.23113049\n",
            "\n",
            "epoch : 40, train >> accuracy 75.67224121, total loss : 1.28661406, classified loss : 1.28661406, decoded loss : 0.23372300\n",
            "epoch : 40, test  >> accuracy 75.52083333, total loss : 1.28846176, classified loss : 1.28846176, decoded loss : 0.23912100\n",
            "\n",
            "epoch : 41, train >> accuracy 75.64498901, total loss : 1.28727754, classified loss : 1.28727754, decoded loss : 0.23185690\n",
            "epoch : 41, test  >> accuracy 74.33035714, total loss : 1.30015499, classified loss : 1.30015499, decoded loss : 0.25093381\n",
            "\n",
            "epoch : 42, train >> accuracy 75.80850220, total loss : 1.28578178, classified loss : 1.28578178, decoded loss : 0.23274666\n",
            "epoch : 42, test  >> accuracy 75.14880952, total loss : 1.29160237, classified loss : 1.29160237, decoded loss : 0.23793302\n",
            "\n",
            "epoch : 43, train >> accuracy 75.34520721, total loss : 1.28979305, classified loss : 1.28979305, decoded loss : 0.23138864\n",
            "epoch : 43, test  >> accuracy 71.13095238, total loss : 1.33211184, classified loss : 1.33211184, decoded loss : 0.24920042\n",
            "\n",
            "epoch : 44, train >> accuracy 72.86518860, total loss : 1.31460603, classified loss : 1.31460603, decoded loss : 0.22973143\n",
            "epoch : 44, test  >> accuracy 73.32589286, total loss : 1.31048513, classified loss : 1.31048513, decoded loss : 0.23152446\n",
            "\n",
            "epoch : 45, train >> accuracy 73.62827301, total loss : 1.30692656, classified loss : 1.30692656, decoded loss : 0.22929862\n",
            "epoch : 45, test  >> accuracy 72.99107143, total loss : 1.31316502, classified loss : 1.31316502, decoded loss : 0.23359260\n",
            "\n",
            "epoch : 46, train >> accuracy 74.46402740, total loss : 1.29833256, classified loss : 1.29833256, decoded loss : 0.22980971\n",
            "epoch : 46, test  >> accuracy 75.26041667, total loss : 1.29079205, classified loss : 1.29079205, decoded loss : 0.21828568\n",
            "\n",
            "epoch : 47, train >> accuracy 75.79941559, total loss : 1.28543815, classified loss : 1.28543815, decoded loss : 0.23042793\n",
            "epoch : 47, test  >> accuracy 75.29761905, total loss : 1.29111061, classified loss : 1.29111061, decoded loss : 0.21592858\n",
            "\n",
            "epoch : 48, train >> accuracy 75.85392761, total loss : 1.28493817, classified loss : 1.28493817, decoded loss : 0.22819889\n",
            "epoch : 48, test  >> accuracy 75.89285714, total loss : 1.28451768, classified loss : 1.28451768, decoded loss : 0.23092807\n",
            "\n",
            "epoch : 49, train >> accuracy 75.91751099, total loss : 1.28418619, classified loss : 1.28418619, decoded loss : 0.22783118\n",
            "epoch : 49, test  >> accuracy 75.44642857, total loss : 1.28881473, classified loss : 1.28881473, decoded loss : 0.23657473\n",
            "\n",
            "epoch : 50, train >> accuracy 75.13626099, total loss : 1.29197428, classified loss : 1.29197428, decoded loss : 0.22785807\n",
            "epoch : 50, test  >> accuracy 75.37202381, total loss : 1.28917315, classified loss : 1.28917315, decoded loss : 0.22866565\n",
            "\n",
            "epoch : 51, train >> accuracy 75.84484100, total loss : 1.28484875, classified loss : 1.28484875, decoded loss : 0.22763889\n",
            "epoch : 51, test  >> accuracy 75.70684524, total loss : 1.28629849, classified loss : 1.28629849, decoded loss : 0.22899633\n",
            "\n",
            "epoch : 52, train >> accuracy 76.07194519, total loss : 1.28270971, classified loss : 1.28270971, decoded loss : 0.22823794\n",
            "epoch : 52, test  >> accuracy 75.00000000, total loss : 1.29285977, classified loss : 1.29285977, decoded loss : 0.22968409\n",
            "\n",
            "epoch : 53, train >> accuracy 75.62681580, total loss : 1.28705478, classified loss : 1.28705478, decoded loss : 0.22983378\n",
            "epoch : 53, test  >> accuracy 74.81398810, total loss : 1.29505600, classified loss : 1.29505600, decoded loss : 0.23248920\n",
            "\n",
            "epoch : 54, train >> accuracy 75.99018860, total loss : 1.28322595, classified loss : 1.28322595, decoded loss : 0.22756841\n",
            "epoch : 54, test  >> accuracy 75.70684524, total loss : 1.28636533, classified loss : 1.28636533, decoded loss : 0.22633420\n",
            "\n",
            "epoch : 55, train >> accuracy 76.19912720, total loss : 1.28154703, classified loss : 1.28154703, decoded loss : 0.22766799\n",
            "epoch : 55, test  >> accuracy 75.89285714, total loss : 1.28446563, classified loss : 1.28446563, decoded loss : 0.22462368\n",
            "\n",
            "epoch : 56, train >> accuracy 76.28997040, total loss : 1.28053126, classified loss : 1.28053126, decoded loss : 0.22891053\n",
            "epoch : 56, test  >> accuracy 75.48363095, total loss : 1.28888104, classified loss : 1.28888104, decoded loss : 0.23670477\n",
            "\n",
            "epoch : 57, train >> accuracy 75.57231140, total loss : 1.28763656, classified loss : 1.28763656, decoded loss : 0.22970231\n",
            "epoch : 57, test  >> accuracy 75.63244048, total loss : 1.28694344, classified loss : 1.28694344, decoded loss : 0.23410303\n",
            "\n",
            "epoch : 58, train >> accuracy 75.41787720, total loss : 1.28927230, classified loss : 1.28927230, decoded loss : 0.22870115\n",
            "epoch : 58, test  >> accuracy 75.14880952, total loss : 1.29209791, classified loss : 1.29209791, decoded loss : 0.23939363\n",
            "\n",
            "epoch : 59, train >> accuracy 75.09992981, total loss : 1.29249150, classified loss : 1.29249150, decoded loss : 0.22919016\n",
            "epoch : 59, test  >> accuracy 75.33482143, total loss : 1.28971035, classified loss : 1.28971035, decoded loss : 0.24020445\n",
            "\n",
            "epoch : 60, train >> accuracy 75.59956360, total loss : 1.28738729, classified loss : 1.28738729, decoded loss : 0.22518043\n",
            "epoch : 60, test  >> accuracy 75.48363095, total loss : 1.28846349, classified loss : 1.28846349, decoded loss : 0.22448557\n",
            "\n",
            "epoch : 61, train >> accuracy 74.80014801, total loss : 1.29518624, classified loss : 1.29518624, decoded loss : 0.22466644\n",
            "epoch : 61, test  >> accuracy 74.25595238, total loss : 1.30133825, classified loss : 1.30133825, decoded loss : 0.22741388\n",
            "\n",
            "epoch : 62, train >> accuracy 75.31794739, total loss : 1.28969100, classified loss : 1.28969100, decoded loss : 0.22703505\n",
            "epoch : 62, test  >> accuracy 76.04166667, total loss : 1.28310385, classified loss : 1.28310385, decoded loss : 0.22075662\n",
            "\n",
            "epoch : 63, train >> accuracy 76.13553619, total loss : 1.28227362, classified loss : 1.28227362, decoded loss : 0.22974160\n",
            "epoch : 63, test  >> accuracy 75.59523810, total loss : 1.28708769, classified loss : 1.28708769, decoded loss : 0.23674110\n",
            "\n",
            "epoch : 64, train >> accuracy 76.34447479, total loss : 1.28025973, classified loss : 1.28025973, decoded loss : 0.22889188\n",
            "epoch : 64, test  >> accuracy 75.74404762, total loss : 1.28639259, classified loss : 1.28639259, decoded loss : 0.22406896\n",
            "\n",
            "epoch : 65, train >> accuracy 76.03561401, total loss : 1.28311790, classified loss : 1.28311790, decoded loss : 0.22847026\n",
            "epoch : 65, test  >> accuracy 75.70684524, total loss : 1.28642187, classified loss : 1.28642187, decoded loss : 0.23244776\n",
            "\n",
            "epoch : 66, train >> accuracy 76.16278839, total loss : 1.28176977, classified loss : 1.28176977, decoded loss : 0.23021043\n",
            "epoch : 66, test  >> accuracy 75.74404762, total loss : 1.28600701, classified loss : 1.28600701, decoded loss : 0.23052101\n",
            "\n",
            "epoch : 67, train >> accuracy 76.32630920, total loss : 1.28036866, classified loss : 1.28036866, decoded loss : 0.22970630\n",
            "epoch : 67, test  >> accuracy 75.74404762, total loss : 1.28586951, classified loss : 1.28586951, decoded loss : 0.24121891\n",
            "\n",
            "epoch : 68, train >> accuracy 76.01744080, total loss : 1.28335852, classified loss : 1.28335852, decoded loss : 0.22783379\n",
            "epoch : 68, test  >> accuracy 75.37202381, total loss : 1.28995057, classified loss : 1.28995057, decoded loss : 0.22928231\n",
            "\n",
            "epoch : 69, train >> accuracy 76.12645721, total loss : 1.28193272, classified loss : 1.28193272, decoded loss : 0.23001268\n",
            "epoch : 69, test  >> accuracy 75.89285714, total loss : 1.28445496, classified loss : 1.28445496, decoded loss : 0.22071790\n",
            "\n",
            "epoch : 70, train >> accuracy 76.37172699, total loss : 1.27980928, classified loss : 1.27980928, decoded loss : 0.23052750\n",
            "epoch : 70, test  >> accuracy 75.81845238, total loss : 1.28470101, classified loss : 1.28470101, decoded loss : 0.22804259\n",
            "\n",
            "epoch : 71, train >> accuracy 76.52616119, total loss : 1.27845492, classified loss : 1.27845492, decoded loss : 0.23087744\n",
            "epoch : 71, test  >> accuracy 75.85565476, total loss : 1.28452881, classified loss : 1.28452881, decoded loss : 0.22728077\n",
            "\n",
            "epoch : 72, train >> accuracy 76.38990021, total loss : 1.27938096, classified loss : 1.27938096, decoded loss : 0.23214230\n",
            "epoch : 72, test  >> accuracy 75.96726190, total loss : 1.28363775, classified loss : 1.28363775, decoded loss : 0.24166189\n",
            "\n",
            "epoch : 73, train >> accuracy 76.47165680, total loss : 1.27884635, classified loss : 1.27884635, decoded loss : 0.23122914\n",
            "epoch : 73, test  >> accuracy 76.04166667, total loss : 1.28309994, classified loss : 1.28309994, decoded loss : 0.22490173\n",
            "\n",
            "epoch : 74, train >> accuracy 76.28088379, total loss : 1.28044560, classified loss : 1.28044560, decoded loss : 0.22849085\n",
            "epoch : 74, test  >> accuracy 75.89285714, total loss : 1.28494510, classified loss : 1.28494510, decoded loss : 0.23825718\n",
            "\n",
            "epoch : 75, train >> accuracy 76.11737061, total loss : 1.28228484, classified loss : 1.28228484, decoded loss : 0.22819972\n",
            "epoch : 75, test  >> accuracy 75.59523810, total loss : 1.28757350, classified loss : 1.28757350, decoded loss : 0.22427744\n",
            "\n",
            "epoch : 76, train >> accuracy 76.32630920, total loss : 1.28027033, classified loss : 1.28027033, decoded loss : 0.23021956\n",
            "epoch : 76, test  >> accuracy 75.74404762, total loss : 1.28596615, classified loss : 1.28596615, decoded loss : 0.23224529\n",
            "\n",
            "epoch : 77, train >> accuracy 76.32630920, total loss : 1.28044118, classified loss : 1.28044118, decoded loss : 0.22990591\n",
            "epoch : 77, test  >> accuracy 75.96726190, total loss : 1.28406428, classified loss : 1.28406428, decoded loss : 0.22515819\n",
            "\n",
            "epoch : 78, train >> accuracy 76.24455261, total loss : 1.28086940, classified loss : 1.28086940, decoded loss : 0.22983275\n",
            "epoch : 78, test  >> accuracy 75.96726190, total loss : 1.28432058, classified loss : 1.28432058, decoded loss : 0.22991694\n",
            "\n",
            "epoch : 79, train >> accuracy 76.15370941, total loss : 1.28167591, classified loss : 1.28167591, decoded loss : 0.23267332\n",
            "epoch : 79, test  >> accuracy 75.63244048, total loss : 1.28703799, classified loss : 1.28703799, decoded loss : 0.23240720\n",
            "\n",
            "epoch : 80, train >> accuracy 76.44440460, total loss : 1.27895398, classified loss : 1.27895398, decoded loss : 0.23061325\n",
            "epoch : 80, test  >> accuracy 76.45089286, total loss : 1.27948053, classified loss : 1.27948053, decoded loss : 0.22803245\n",
            "\n",
            "epoch : 81, train >> accuracy 76.21729279, total loss : 1.28133288, classified loss : 1.28133288, decoded loss : 0.22841104\n",
            "epoch : 81, test  >> accuracy 75.40922619, total loss : 1.28969622, classified loss : 1.28969622, decoded loss : 0.22738334\n",
            "\n",
            "epoch : 82, train >> accuracy 76.22637939, total loss : 1.28129277, classified loss : 1.28129277, decoded loss : 0.22920727\n",
            "epoch : 82, test  >> accuracy 74.59077381, total loss : 1.29895083, classified loss : 1.29895083, decoded loss : 0.22473624\n",
            "\n",
            "epoch : 83, train >> accuracy 76.23546600, total loss : 1.28077274, classified loss : 1.28077274, decoded loss : 0.22800275\n",
            "epoch : 83, test  >> accuracy 75.74404762, total loss : 1.28582237, classified loss : 1.28582237, decoded loss : 0.23326683\n",
            "\n",
            "epoch : 84, train >> accuracy 76.48982239, total loss : 1.27840779, classified loss : 1.27840779, decoded loss : 0.22919814\n",
            "epoch : 84, test  >> accuracy 76.07886905, total loss : 1.28279434, classified loss : 1.28279434, decoded loss : 0.23199588\n",
            "\n",
            "epoch : 85, train >> accuracy 75.77216339, total loss : 1.28558213, classified loss : 1.28558213, decoded loss : 0.22933675\n",
            "epoch : 85, test  >> accuracy 76.00446429, total loss : 1.28465503, classified loss : 1.28465503, decoded loss : 0.23315285\n",
            "\n",
            "epoch : 86, train >> accuracy 75.82666779, total loss : 1.28522837, classified loss : 1.28522837, decoded loss : 0.23186497\n",
            "epoch : 86, test  >> accuracy 75.33482143, total loss : 1.29002643, classified loss : 1.29002643, decoded loss : 0.22999615\n",
            "\n",
            "epoch : 87, train >> accuracy 76.19004059, total loss : 1.28167984, classified loss : 1.28167984, decoded loss : 0.23313633\n",
            "epoch : 87, test  >> accuracy 75.63244048, total loss : 1.28747648, classified loss : 1.28747648, decoded loss : 0.22263963\n",
            "\n",
            "epoch : 88, train >> accuracy 76.45349121, total loss : 1.27899744, classified loss : 1.27899744, decoded loss : 0.22973828\n",
            "epoch : 88, test  >> accuracy 75.78125000, total loss : 1.28600927, classified loss : 1.28600927, decoded loss : 0.23099943\n",
            "\n",
            "epoch : 89, train >> accuracy 76.25363159, total loss : 1.28108985, classified loss : 1.28108985, decoded loss : 0.22958525\n",
            "epoch : 89, test  >> accuracy 75.52083333, total loss : 1.28806741, classified loss : 1.28806741, decoded loss : 0.22686131\n",
            "\n",
            "epoch : 90, train >> accuracy 76.38990021, total loss : 1.27958896, classified loss : 1.27958896, decoded loss : 0.23104186\n",
            "epoch : 90, test  >> accuracy 75.66964286, total loss : 1.28684470, classified loss : 1.28684470, decoded loss : 0.23085586\n",
            "\n",
            "epoch : 91, train >> accuracy 76.27180481, total loss : 1.28081029, classified loss : 1.28081029, decoded loss : 0.23375663\n",
            "epoch : 91, test  >> accuracy 75.93005952, total loss : 1.28415860, classified loss : 1.28415860, decoded loss : 0.22811582\n",
            "\n",
            "epoch : 92, train >> accuracy 76.43531799, total loss : 1.27924410, classified loss : 1.27924410, decoded loss : 0.23417852\n",
            "epoch : 92, test  >> accuracy 75.29761905, total loss : 1.29051374, classified loss : 1.29051374, decoded loss : 0.23357049\n",
            "\n",
            "epoch : 93, train >> accuracy 75.64498901, total loss : 1.28718126, classified loss : 1.28718126, decoded loss : 0.23463740\n",
            "epoch : 93, test  >> accuracy 75.52083333, total loss : 1.28840549, classified loss : 1.28840549, decoded loss : 0.23685681\n",
            "\n",
            "epoch : 94, train >> accuracy 76.24455261, total loss : 1.28104506, classified loss : 1.28104506, decoded loss : 0.23397249\n",
            "epoch : 94, test  >> accuracy 76.00446429, total loss : 1.28359926, classified loss : 1.28359926, decoded loss : 0.23288150\n",
            "\n",
            "epoch : 95, train >> accuracy 76.59883881, total loss : 1.27755793, classified loss : 1.27755793, decoded loss : 0.22920896\n",
            "epoch : 95, test  >> accuracy 75.59523810, total loss : 1.28740747, classified loss : 1.28740747, decoded loss : 0.23219162\n",
            "\n",
            "epoch : 96, train >> accuracy 76.38990021, total loss : 1.27930675, classified loss : 1.27930675, decoded loss : 0.22788671\n",
            "epoch : 96, test  >> accuracy 75.93005952, total loss : 1.28390094, classified loss : 1.28390094, decoded loss : 0.22713735\n",
            "\n",
            "epoch : 97, train >> accuracy 76.47165680, total loss : 1.27882982, classified loss : 1.27882982, decoded loss : 0.22757219\n",
            "epoch : 97, test  >> accuracy 75.85565476, total loss : 1.28504938, classified loss : 1.28504938, decoded loss : 0.22175443\n",
            "\n",
            "epoch : 98, train >> accuracy 76.58975220, total loss : 1.27778131, classified loss : 1.27778131, decoded loss : 0.22926114\n",
            "epoch : 98, test  >> accuracy 75.74404762, total loss : 1.28588073, classified loss : 1.28588073, decoded loss : 0.22744998\n",
            "\n",
            "epoch : 99, train >> accuracy 76.61700439, total loss : 1.27745950, classified loss : 1.27745950, decoded loss : 0.23110206\n",
            "epoch : 99, test  >> accuracy 75.70684524, total loss : 1.28599339, classified loss : 1.28599339, decoded loss : 0.23928170\n",
            "\n",
            "epoch : 100, train >> accuracy 76.52616119, total loss : 1.27818753, classified loss : 1.27818753, decoded loss : 0.23004651\n",
            "epoch : 100, test  >> accuracy 75.89285714, total loss : 1.28458419, classified loss : 1.28458419, decoded loss : 0.22381032\n",
            "\n",
            "epoch : 101, train >> accuracy 76.42623901, total loss : 1.27913366, classified loss : 1.27913366, decoded loss : 0.23023912\n",
            "epoch : 101, test  >> accuracy 76.00446429, total loss : 1.28373660, classified loss : 1.28373660, decoded loss : 0.22712111\n",
            "\n",
            "epoch : 102, train >> accuracy 76.00835419, total loss : 1.28338802, classified loss : 1.28338802, decoded loss : 0.22976584\n",
            "epoch : 102, test  >> accuracy 75.55803571, total loss : 1.28815646, classified loss : 1.28815646, decoded loss : 0.23353908\n",
            "\n",
            "epoch : 103, train >> accuracy 76.12645721, total loss : 1.28193582, classified loss : 1.28193582, decoded loss : 0.23005144\n",
            "epoch : 103, test  >> accuracy 75.81845238, total loss : 1.28569914, classified loss : 1.28569914, decoded loss : 0.22371519\n",
            "\n",
            "epoch : 104, train >> accuracy 76.53524780, total loss : 1.27804105, classified loss : 1.27804105, decoded loss : 0.23352222\n",
            "epoch : 104, test  >> accuracy 76.04166667, total loss : 1.28315769, classified loss : 1.28315769, decoded loss : 0.22890285\n",
            "\n",
            "epoch : 105, train >> accuracy 76.69876099, total loss : 1.27649100, classified loss : 1.27649100, decoded loss : 0.23288060\n",
            "epoch : 105, test  >> accuracy 75.81845238, total loss : 1.28480742, classified loss : 1.28480742, decoded loss : 0.23025716\n",
            "\n",
            "epoch : 106, train >> accuracy 76.69876099, total loss : 1.27660623, classified loss : 1.27660623, decoded loss : 0.23234175\n",
            "epoch : 106, test  >> accuracy 76.00446429, total loss : 1.28337145, classified loss : 1.28337145, decoded loss : 0.22970118\n",
            "\n",
            "epoch : 107, train >> accuracy 76.58066559, total loss : 1.27760621, classified loss : 1.27760621, decoded loss : 0.23201396\n",
            "epoch : 107, test  >> accuracy 75.85565476, total loss : 1.28469141, classified loss : 1.28469141, decoded loss : 0.22767879\n",
            "\n",
            "epoch : 108, train >> accuracy 76.62609100, total loss : 1.27710443, classified loss : 1.27710443, decoded loss : 0.23164320\n",
            "epoch : 108, test  >> accuracy 75.11160714, total loss : 1.29214568, classified loss : 1.29214568, decoded loss : 0.22793803\n",
            "\n",
            "epoch : 109, train >> accuracy 76.58975220, total loss : 1.27758763, classified loss : 1.27758763, decoded loss : 0.23178089\n",
            "epoch : 109, test  >> accuracy 75.85565476, total loss : 1.28439002, classified loss : 1.28439002, decoded loss : 0.23126542\n",
            "\n",
            "epoch : 110, train >> accuracy 76.63517761, total loss : 1.27715738, classified loss : 1.27715738, decoded loss : 0.23292692\n",
            "epoch : 110, test  >> accuracy 75.59523810, total loss : 1.28747732, classified loss : 1.28747732, decoded loss : 0.23126141\n",
            "\n",
            "epoch : 111, train >> accuracy 76.63517761, total loss : 1.27719905, classified loss : 1.27719905, decoded loss : 0.23122922\n",
            "epoch : 111, test  >> accuracy 75.81845238, total loss : 1.28493156, classified loss : 1.28493156, decoded loss : 0.23625926\n",
            "\n",
            "epoch : 112, train >> accuracy 76.65334320, total loss : 1.27702772, classified loss : 1.27702772, decoded loss : 0.22935921\n",
            "epoch : 112, test  >> accuracy 75.96726190, total loss : 1.28382698, classified loss : 1.28382698, decoded loss : 0.22403045\n",
            "\n",
            "epoch : 113, train >> accuracy 76.76235199, total loss : 1.27586655, classified loss : 1.27586655, decoded loss : 0.22718123\n",
            "epoch : 113, test  >> accuracy 75.70684524, total loss : 1.28547957, classified loss : 1.28547957, decoded loss : 0.22779583\n",
            "\n",
            "epoch : 114, train >> accuracy 76.68059540, total loss : 1.27661235, classified loss : 1.27661235, decoded loss : 0.22860136\n",
            "epoch : 114, test  >> accuracy 75.89285714, total loss : 1.28491395, classified loss : 1.28491395, decoded loss : 0.22505210\n",
            "\n",
            "epoch : 115, train >> accuracy 76.68059540, total loss : 1.27660478, classified loss : 1.27660478, decoded loss : 0.23008536\n",
            "epoch : 115, test  >> accuracy 75.22321429, total loss : 1.29106918, classified loss : 1.29106918, decoded loss : 0.23582494\n",
            "\n",
            "epoch : 116, train >> accuracy 76.68059540, total loss : 1.27676239, classified loss : 1.27676239, decoded loss : 0.23007515\n",
            "epoch : 116, test  >> accuracy 75.89285714, total loss : 1.28435646, classified loss : 1.28435646, decoded loss : 0.22635496\n",
            "\n"
          ]
        }
      ]
    },
    {
      "cell_type": "code",
      "source": [
        "!pip install torchviz"
      ],
      "metadata": {
        "id": "51fM_Jv5bFsW"
      },
      "execution_count": null,
      "outputs": []
    },
    {
      "cell_type": "code",
      "source": [
        "from torchviz import make_dot\n",
        "make_dot(classified_loss, params=dict(classifier.named_parameters())).render(f\"graph\", format=\"png\")"
      ],
      "metadata": {
        "id": "kQ0M0CSYaUmg"
      },
      "execution_count": null,
      "outputs": []
    },
    {
      "cell_type": "markdown",
      "metadata": {
        "id": "LULSrZv-UTDz"
      },
      "source": [
        "## Plot 함수"
      ]
    },
    {
      "cell_type": "code",
      "metadata": {
        "id": "08FdiEjDV0kb"
      },
      "source": [
        "def plot_curve_error(data_mean, data_std, x_label, y_label, title):\n",
        "\n",
        "    plt.figure(figsize=(8, 6))\n",
        "    plt.title(title)\n",
        "\n",
        "    alpha = 0.3\n",
        "    \n",
        "    plt.plot(range(len(data_mean)), data_mean, '-', color = 'red')\n",
        "    plt.fill_between(range(len(data_mean)), data_mean - data_std, data_mean + data_std, facecolor = 'blue', alpha = alpha) \n",
        "    \n",
        "    plt.xlabel(x_label)\n",
        "    plt.ylabel(y_label)\n",
        "\n",
        "    plt.tight_layout()\n",
        "    plt.show()"
      ],
      "execution_count": null,
      "outputs": []
    },
    {
      "cell_type": "code",
      "metadata": {
        "id": "9ENxj-BQUZ-7"
      },
      "source": [
        "print('[plot the training loss]')\n",
        "print('') \n",
        "plot_curve_error(loss_mean_train, loss_std_train, 'epoch', 'loss', 'loss (training)')"
      ],
      "execution_count": null,
      "outputs": []
    },
    {
      "cell_type": "code",
      "metadata": {
        "id": "6bqK2U_jWXva"
      },
      "source": [
        "print('[plot the testing loss]')\n",
        "print('') \n",
        "plot_curve_error(loss_mean_test, loss_std_test, 'epoch', 'loss', 'loss (testing)')"
      ],
      "execution_count": null,
      "outputs": []
    },
    {
      "cell_type": "code",
      "metadata": {
        "id": "_J600wqOWgNF"
      },
      "source": [
        "print('[plot the traning accuracy]') \n",
        "print('') \n",
        "plot_curve_error(accuracy_mean_train, accuracy_std_train, 'epoch', 'accuracy', 'Accuracy (training)')"
      ],
      "execution_count": null,
      "outputs": []
    },
    {
      "cell_type": "code",
      "metadata": {
        "id": "TsVmJXxnWIl9"
      },
      "source": [
        "print('[plot the testing accuracy]') \n",
        "print('') \n",
        "plot_curve_error(accuracy_mean_test, accuracy_std_test, 'epoch', 'accuracy', 'Accuracy (testing)')"
      ],
      "execution_count": null,
      "outputs": []
    },
    {
      "cell_type": "code",
      "metadata": {
        "id": "aF8p8kkmUasj"
      },
      "source": [
        ""
      ],
      "execution_count": null,
      "outputs": []
    }
  ]
}